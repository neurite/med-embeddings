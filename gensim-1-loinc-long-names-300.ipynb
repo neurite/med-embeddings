{
 "cells": [
  {
   "cell_type": "markdown",
   "metadata": {},
   "source": [
    "### Introduction\n",
    "\n",
    "Play with small sample of 300 LOINC long names. Test our own gs module (custom functions for gensim). Tune the model's hyper parameters."
   ]
  },
  {
   "cell_type": "code",
   "execution_count": 1,
   "metadata": {},
   "outputs": [],
   "source": [
    "from collections import Counter\n",
    "import json\n",
    "import pandas as pd\n",
    "from pandas import DataFrame\n",
    "from gensim.models.doc2vec import Doc2Vec\n",
    "from gs import tokenize\n",
    "from gs import tagdocs\n",
    "from gs import listparams\n",
    "from gs import train\n",
    "from gs import evaluate"
   ]
  },
  {
   "cell_type": "code",
   "execution_count": 2,
   "metadata": {},
   "outputs": [
    {
     "data": {
      "text/html": [
       "<div>\n",
       "<style>\n",
       "    .dataframe thead tr:only-child th {\n",
       "        text-align: right;\n",
       "    }\n",
       "\n",
       "    .dataframe thead th {\n",
       "        text-align: left;\n",
       "    }\n",
       "\n",
       "    .dataframe tbody tr th {\n",
       "        vertical-align: top;\n",
       "    }\n",
       "</style>\n",
       "<table border=\"1\" class=\"dataframe\">\n",
       "  <thead>\n",
       "    <tr style=\"text-align: right;\">\n",
       "      <th></th>\n",
       "      <th>label</th>\n",
       "      <th>text</th>\n",
       "      <th>source</th>\n",
       "      <th>text_normed</th>\n",
       "    </tr>\n",
       "  </thead>\n",
       "  <tbody>\n",
       "    <tr>\n",
       "      <th>113385</th>\n",
       "      <td>84390-4</td>\n",
       "      <td>Occupational medicine Outpatient Note</td>\n",
       "      <td>LONG_COMMON_NAME</td>\n",
       "      <td>occupational medicine outpatient note</td>\n",
       "    </tr>\n",
       "    <tr>\n",
       "      <th>80523</th>\n",
       "      <td>52867-9</td>\n",
       "      <td>State catchment area population [Estimated]</td>\n",
       "      <td>LONG_COMMON_NAME</td>\n",
       "      <td>state catchment area population [estimated]</td>\n",
       "    </tr>\n",
       "  </tbody>\n",
       "</table>\n",
       "</div>"
      ],
      "text/plain": [
       "          label                                         text  \\\n",
       "113385  84390-4        Occupational medicine Outpatient Note   \n",
       "80523   52867-9  State catchment area population [Estimated]   \n",
       "\n",
       "                  source                                  text_normed  \n",
       "113385  LONG_COMMON_NAME        occupational medicine outpatient note  \n",
       "80523   LONG_COMMON_NAME  state catchment area population [estimated]  "
      ]
     },
     "execution_count": 2,
     "metadata": {},
     "output_type": "execute_result"
    }
   ],
   "source": [
    "df = pd.read_csv('data/loinc-labeled-text-names.csv')\n",
    "df = df[df['source'] == 'LONG_COMMON_NAME']\n",
    "df = df.sample(300)\n",
    "df.sample(2)"
   ]
  },
  {
   "cell_type": "markdown",
   "metadata": {},
   "source": [
    "### Tokenize"
   ]
  },
  {
   "cell_type": "code",
   "execution_count": 3,
   "metadata": {},
   "outputs": [
    {
     "name": "stdout",
     "output_type": "stream",
     "text": [
      "Boxelder IgE Ab [Ratio] in Serum\n",
      "['boxelder', 'ige', 'ab', 'ratio', 'in', 'serum']\n"
     ]
    }
   ],
   "source": [
    "text = df.iloc[0]['text']\n",
    "print(text)\n",
    "print(tokenize(text))"
   ]
  },
  {
   "cell_type": "markdown",
   "metadata": {},
   "source": [
    "### Tag documents"
   ]
  },
  {
   "cell_type": "code",
   "execution_count": 4,
   "metadata": {},
   "outputs": [
    {
     "data": {
      "text/plain": [
       "[TaggedDocument(words=['boxelder', 'ige', 'ab', 'ratio', 'in', 'serum'], tags=['61206-9']),\n",
       " TaggedDocument(words=['ciprofloxacin', 'ige', 'ab', 'units', 'volume', 'in', 'serum'], tags=['56702-4'])]"
      ]
     },
     "execution_count": 4,
     "metadata": {},
     "output_type": "execute_result"
    }
   ],
   "source": [
    "docs = tagdocs(df)\n",
    "docs[:2]"
   ]
  },
  {
   "cell_type": "markdown",
   "metadata": {},
   "source": [
    "### Builde models"
   ]
  },
  {
   "cell_type": "code",
   "execution_count": 5,
   "metadata": {},
   "outputs": [],
   "source": [
    "dms = [0, 1]\n",
    "sizes = [50, 100, 200, 300]\n",
    "windows = [3, 5, 7, 10]\n",
    "mincounts = [1, 2]\n",
    "samples = [1e-1, 1e-2, 1e-3, 1e-4, 1e-5, 1e-6]\n",
    "negatives = [1, 3, 5, 7]\n",
    "params = listparams(dms=dms, sizes=sizes, windows=windows,\n",
    "                    mincounts=mincounts, samples=samples,\n",
    "                    negatives=negatives, workers=4, epochs=100)"
   ]
  },
  {
   "cell_type": "code",
   "execution_count": 6,
   "metadata": {},
   "outputs": [],
   "source": [
    "models = [Doc2Vec(**paramdict)for paramdict in params]"
   ]
  },
  {
   "cell_type": "code",
   "execution_count": 7,
   "metadata": {},
   "outputs": [
    {
     "name": "stdout",
     "output_type": "stream",
     "text": [
      "CPU times: user 19min 9s, sys: 5min 47s, total: 24min 56s\n",
      "Wall time: 18min 58s\n"
     ]
    }
   ],
   "source": [
    "%time train(docs, models)"
   ]
  },
  {
   "cell_type": "code",
   "execution_count": 10,
   "metadata": {
    "collapsed": true
   },
   "outputs": [],
   "source": [
    "results = {}\n",
    "for p, model in zip(params, models):\n",
    "    labels, hits = evaluate(df, model)\n",
    "    results[json.dumps(p)] = len([hit for hit in hits if hit])"
   ]
  },
  {
   "cell_type": "code",
   "execution_count": 11,
   "metadata": {},
   "outputs": [
    {
     "name": "stdout",
     "output_type": "stream",
     "text": [
      "('{\"dm\": 0, \"min_count\": 1, \"size\": 300, \"window\": 7, \"iter\": 100, \"sample\": 0.001, \"negative\": 1, \"workers\": 4}', 226)\n",
      "('{\"dm\": 0, \"min_count\": 1, \"size\": 300, \"window\": 5, \"iter\": 100, \"sample\": 0.001, \"negative\": 1, \"workers\": 4}', 225)\n",
      "('{\"dm\": 0, \"min_count\": 1, \"size\": 300, \"window\": 3, \"iter\": 100, \"sample\": 0.001, \"negative\": 1, \"workers\": 4}', 219)\n",
      "('{\"dm\": 0, \"min_count\": 1, \"size\": 300, \"window\": 10, \"iter\": 100, \"sample\": 0.001, \"negative\": 1, \"workers\": 4}', 218)\n",
      "('{\"dm\": 0, \"min_count\": 1, \"size\": 200, \"window\": 3, \"iter\": 100, \"sample\": 0.001, \"negative\": 1, \"workers\": 4}', 212)\n",
      "('{\"dm\": 0, \"min_count\": 1, \"size\": 200, \"window\": 7, \"iter\": 100, \"sample\": 0.001, \"negative\": 1, \"workers\": 4}', 212)\n",
      "('{\"dm\": 0, \"min_count\": 1, \"size\": 200, \"window\": 10, \"iter\": 100, \"sample\": 0.001, \"negative\": 1, \"workers\": 4}', 212)\n",
      "('{\"dm\": 0, \"min_count\": 1, \"size\": 200, \"window\": 5, \"iter\": 100, \"sample\": 0.001, \"negative\": 1, \"workers\": 4}', 209)\n",
      "('{\"dm\": 0, \"min_count\": 1, \"size\": 50, \"window\": 5, \"iter\": 100, \"sample\": 0.01, \"negative\": 7, \"workers\": 4}', 200)\n",
      "('{\"dm\": 0, \"min_count\": 1, \"size\": 50, \"window\": 5, \"iter\": 100, \"sample\": 0.1, \"negative\": 7, \"workers\": 4}', 196)\n",
      "('{\"dm\": 0, \"min_count\": 1, \"size\": 50, \"window\": 3, \"iter\": 100, \"sample\": 0.1, \"negative\": 7, \"workers\": 4}', 196)\n",
      "('{\"dm\": 0, \"min_count\": 1, \"size\": 50, \"window\": 3, \"iter\": 100, \"sample\": 0.01, \"negative\": 7, \"workers\": 4}', 194)\n",
      "('{\"dm\": 0, \"min_count\": 1, \"size\": 50, \"window\": 7, \"iter\": 100, \"sample\": 0.1, \"negative\": 7, \"workers\": 4}', 193)\n",
      "('{\"dm\": 0, \"min_count\": 1, \"size\": 50, \"window\": 10, \"iter\": 100, \"sample\": 0.01, \"negative\": 7, \"workers\": 4}', 192)\n",
      "('{\"dm\": 0, \"min_count\": 1, \"size\": 50, \"window\": 10, \"iter\": 100, \"sample\": 0.1, \"negative\": 7, \"workers\": 4}', 190)\n",
      "('{\"dm\": 0, \"min_count\": 1, \"size\": 50, \"window\": 7, \"iter\": 100, \"sample\": 0.01, \"negative\": 7, \"workers\": 4}', 190)\n",
      "('{\"dm\": 0, \"min_count\": 2, \"size\": 50, \"window\": 3, \"iter\": 100, \"sample\": 0.1, \"negative\": 7, \"workers\": 4}', 188)\n",
      "('{\"dm\": 0, \"min_count\": 2, \"size\": 50, \"window\": 7, \"iter\": 100, \"sample\": 0.1, \"negative\": 7, \"workers\": 4}', 187)\n",
      "('{\"dm\": 0, \"min_count\": 1, \"size\": 100, \"window\": 10, \"iter\": 100, \"sample\": 0.1, \"negative\": 7, \"workers\": 4}', 187)\n",
      "('{\"dm\": 0, \"min_count\": 1, \"size\": 100, \"window\": 3, \"iter\": 100, \"sample\": 0.001, \"negative\": 1, \"workers\": 4}', 186)\n"
     ]
    }
   ],
   "source": [
    "counter = Counter(results)\n",
    "for result in counter.most_common(20):\n",
    "    print(result)"
   ]
  }
 ],
 "metadata": {
  "kernelspec": {
   "display_name": "Python 3",
   "language": "python",
   "name": "python3"
  },
  "language_info": {
   "codemirror_mode": {
    "name": "ipython",
    "version": 3
   },
   "file_extension": ".py",
   "mimetype": "text/x-python",
   "name": "python",
   "nbconvert_exporter": "python",
   "pygments_lexer": "ipython3",
   "version": "3.5.3"
  }
 },
 "nbformat": 4,
 "nbformat_minor": 2
}
