{
 "cells": [
  {
   "cell_type": "markdown",
   "metadata": {},
   "source": [
    "### Introduction\n",
    "\n",
    "Play with small sample of 300 LOINC long names. Test our own gs module (custom functions for gensim). Tune the model's hyper parameters."
   ]
  },
  {
   "cell_type": "code",
   "execution_count": 1,
   "metadata": {
    "collapsed": true
   },
   "outputs": [],
   "source": [
    "from collections import Counter\n",
    "import json\n",
    "import pandas as pd\n",
    "from pandas import DataFrame\n",
    "from gensim.models.doc2vec import Doc2Vec\n",
    "from gs import tokenize\n",
    "from gs import tag_docs\n",
    "from gs import test_model"
   ]
  },
  {
   "cell_type": "code",
   "execution_count": 2,
   "metadata": {},
   "outputs": [
    {
     "data": {
      "text/html": [
       "<div>\n",
       "<style>\n",
       "    .dataframe thead tr:only-child th {\n",
       "        text-align: right;\n",
       "    }\n",
       "\n",
       "    .dataframe thead th {\n",
       "        text-align: left;\n",
       "    }\n",
       "\n",
       "    .dataframe tbody tr th {\n",
       "        vertical-align: top;\n",
       "    }\n",
       "</style>\n",
       "<table border=\"1\" class=\"dataframe\">\n",
       "  <thead>\n",
       "    <tr style=\"text-align: right;\">\n",
       "      <th></th>\n",
       "      <th>label</th>\n",
       "      <th>text</th>\n",
       "      <th>source</th>\n",
       "      <th>text_normed</th>\n",
       "    </tr>\n",
       "  </thead>\n",
       "  <tbody>\n",
       "    <tr>\n",
       "      <th>63042</th>\n",
       "      <td>55938-5</td>\n",
       "      <td>Magnesium [Moles/volume] in Total parental nut...</td>\n",
       "      <td>LONG_COMMON_NAME</td>\n",
       "      <td>magnesium [moles/volume] in total parental nut...</td>\n",
       "    </tr>\n",
       "    <tr>\n",
       "      <th>66723</th>\n",
       "      <td>57855-9</td>\n",
       "      <td>Atenolol [Moles/volume] in Unspecified specimen</td>\n",
       "      <td>LONG_COMMON_NAME</td>\n",
       "      <td>atenolol [moles/volume] in unspecified specimen</td>\n",
       "    </tr>\n",
       "    <tr>\n",
       "      <th>37250</th>\n",
       "      <td>83557-9</td>\n",
       "      <td>Nurse practitioner Telephone encounter Note</td>\n",
       "      <td>LONG_COMMON_NAME</td>\n",
       "      <td>nurse practitioner telephone encounter note</td>\n",
       "    </tr>\n",
       "    <tr>\n",
       "      <th>129872</th>\n",
       "      <td>39368-6</td>\n",
       "      <td>Ankle - right X-ray AP and lateral W standing</td>\n",
       "      <td>LONG_COMMON_NAME</td>\n",
       "      <td>ankle - right x-ray ap and lateral w standing</td>\n",
       "    </tr>\n",
       "    <tr>\n",
       "      <th>71855</th>\n",
       "      <td>76117-1</td>\n",
       "      <td>Nitric oxide [VFr/PPres] Airway adaptor --duri...</td>\n",
       "      <td>LONG_COMMON_NAME</td>\n",
       "      <td>nitric oxide [vfr/ppres] airway adaptor --duri...</td>\n",
       "    </tr>\n",
       "  </tbody>\n",
       "</table>\n",
       "</div>"
      ],
      "text/plain": [
       "          label                                               text  \\\n",
       "63042   55938-5  Magnesium [Moles/volume] in Total parental nut...   \n",
       "66723   57855-9    Atenolol [Moles/volume] in Unspecified specimen   \n",
       "37250   83557-9        Nurse practitioner Telephone encounter Note   \n",
       "129872  39368-6      Ankle - right X-ray AP and lateral W standing   \n",
       "71855   76117-1  Nitric oxide [VFr/PPres] Airway adaptor --duri...   \n",
       "\n",
       "                  source                                        text_normed  \n",
       "63042   LONG_COMMON_NAME  magnesium [moles/volume] in total parental nut...  \n",
       "66723   LONG_COMMON_NAME    atenolol [moles/volume] in unspecified specimen  \n",
       "37250   LONG_COMMON_NAME        nurse practitioner telephone encounter note  \n",
       "129872  LONG_COMMON_NAME      ankle - right x-ray ap and lateral w standing  \n",
       "71855   LONG_COMMON_NAME  nitric oxide [vfr/ppres] airway adaptor --duri...  "
      ]
     },
     "execution_count": 2,
     "metadata": {},
     "output_type": "execute_result"
    }
   ],
   "source": [
    "df = pd.read_csv('data/loinc-labeled-text-names.csv')\n",
    "df = df[df['source'] == 'LONG_COMMON_NAME']\n",
    "df = df.sample(300)\n",
    "df.sample(5)"
   ]
  },
  {
   "cell_type": "markdown",
   "metadata": {},
   "source": [
    "### Tokenize"
   ]
  },
  {
   "cell_type": "code",
   "execution_count": 3,
   "metadata": {},
   "outputs": [
    {
     "name": "stdout",
     "output_type": "stream",
     "text": [
      "Fetal delivery information Document [US Standard Report of Fetal Death]\n",
      "['fetal', 'delivery', 'information', 'document', 'us', 'standard', 'report', 'of', 'fetal', 'death']\n"
     ]
    }
   ],
   "source": [
    "text = df.iloc[0]['text']\n",
    "print(text)\n",
    "print(tokenize(text))"
   ]
  },
  {
   "cell_type": "markdown",
   "metadata": {},
   "source": [
    "### Tag documents"
   ]
  },
  {
   "cell_type": "code",
   "execution_count": 4,
   "metadata": {},
   "outputs": [
    {
     "data": {
      "text/plain": [
       "[TaggedDocument(words=['fetal', 'delivery', 'information', 'document', 'us', 'standard', 'report', 'of', 'fetal', 'death'], tags=['76400-1']),\n",
       " TaggedDocument(words=['desmin', 'ag', 'presence', 'in', 'tissue', 'by', 'immune', 'stain'], tags=['10476-0'])]"
      ]
     },
     "execution_count": 4,
     "metadata": {},
     "output_type": "execute_result"
    }
   ],
   "source": [
    "docs_tagged = tag_docs(df)\n",
    "docs_tagged[:2]"
   ]
  },
  {
   "cell_type": "markdown",
   "metadata": {},
   "source": [
    "### Builde models"
   ]
  },
  {
   "cell_type": "code",
   "execution_count": 5,
   "metadata": {
    "collapsed": true
   },
   "outputs": [],
   "source": [
    "params = []\n",
    "min_counts = [1, 2]\n",
    "sizes = [50, 100, 200, 300]\n",
    "windows = [3, 5, 10]\n",
    "samples = [1e-1, 1e-2, 1e-3, 1e-4, 1e-5, 1e-6]\n",
    "negatives = [1, 3, 5, 7]\n",
    "dms = [0, 1]\n",
    "for min_count in min_counts:\n",
    "    for size in sizes:\n",
    "        for window in windows:\n",
    "            for sample in samples:\n",
    "                for negative in negatives:\n",
    "                    for dm in dms:\n",
    "                        params.append({\n",
    "                            'min_count': min_count,\n",
    "                            'size': size,\n",
    "                            'window': window,\n",
    "                            'sample': sample,\n",
    "                            'negative': negative,\n",
    "                            'dm': dm\n",
    "                        })"
   ]
  },
  {
   "cell_type": "code",
   "execution_count": 6,
   "metadata": {
    "collapsed": true
   },
   "outputs": [],
   "source": [
    "models = []\n",
    "for param in params:\n",
    "    models.append(Doc2Vec(min_count=param['min_count'], size=param['size'], window=param['window'],\n",
    "                    sample=param['sample'], negative=param['negative'], dm=param['dm'],\n",
    "                    workers=4, iter=100))"
   ]
  },
  {
   "cell_type": "code",
   "execution_count": 7,
   "metadata": {},
   "outputs": [],
   "source": [
    "def train(df, docs_tagged, params, models):\n",
    "    results = {}\n",
    "    for i, model in enumerate(models):\n",
    "        model.build_vocab(docs_tagged)\n",
    "        model.train(docs_tagged)\n",
    "        total, hits = test_model(df, model)\n",
    "        results[json.dumps(params[i])] = hits\n",
    "    return results"
   ]
  },
  {
   "cell_type": "code",
   "execution_count": 8,
   "metadata": {},
   "outputs": [
    {
     "name": "stdout",
     "output_type": "stream",
     "text": [
      "CPU times: user 32min 4s, sys: 6min 17s, total: 38min 21s\n",
      "Wall time: 17min 29s\n"
     ]
    }
   ],
   "source": [
    "%time results = train(df, docs_tagged, params, models)"
   ]
  },
  {
   "cell_type": "code",
   "execution_count": 10,
   "metadata": {},
   "outputs": [
    {
     "name": "stdout",
     "output_type": "stream",
     "text": [
      "('{\"negative\": 1, \"min_count\": 1, \"sample\": 0.001, \"size\": 300, \"dm\": 0, \"window\": 3}', 209)\n",
      "('{\"negative\": 1, \"min_count\": 1, \"sample\": 0.001, \"size\": 300, \"dm\": 0, \"window\": 5}', 209)\n",
      "('{\"negative\": 1, \"min_count\": 1, \"sample\": 0.001, \"size\": 300, \"dm\": 0, \"window\": 10}', 205)\n",
      "('{\"negative\": 1, \"min_count\": 1, \"sample\": 0.001, \"size\": 200, \"dm\": 0, \"window\": 10}', 188)\n",
      "('{\"negative\": 1, \"min_count\": 1, \"sample\": 0.001, \"size\": 200, \"dm\": 0, \"window\": 3}', 188)\n",
      "('{\"negative\": 1, \"min_count\": 1, \"sample\": 0.001, \"size\": 200, \"dm\": 0, \"window\": 5}', 186)\n",
      "('{\"negative\": 7, \"min_count\": 1, \"sample\": 0.1, \"size\": 50, \"dm\": 0, \"window\": 3}', 182)\n",
      "('{\"negative\": 7, \"min_count\": 1, \"sample\": 0.1, \"size\": 50, \"dm\": 0, \"window\": 5}', 181)\n",
      "('{\"negative\": 7, \"min_count\": 1, \"sample\": 0.1, \"size\": 100, \"dm\": 0, \"window\": 3}', 173)\n",
      "('{\"negative\": 7, \"min_count\": 1, \"sample\": 0.1, \"size\": 100, \"dm\": 0, \"window\": 10}', 173)\n",
      "('{\"negative\": 7, \"min_count\": 1, \"sample\": 0.1, \"size\": 50, \"dm\": 0, \"window\": 10}', 173)\n",
      "('{\"negative\": 1, \"min_count\": 1, \"sample\": 0.001, \"size\": 100, \"dm\": 0, \"window\": 5}', 172)\n",
      "('{\"negative\": 7, \"min_count\": 1, \"sample\": 0.1, \"size\": 100, \"dm\": 0, \"window\": 5}', 172)\n",
      "('{\"negative\": 7, \"min_count\": 2, \"sample\": 0.1, \"size\": 50, \"dm\": 0, \"window\": 5}', 171)\n",
      "('{\"negative\": 7, \"min_count\": 1, \"sample\": 0.01, \"size\": 50, \"dm\": 0, \"window\": 3}', 170)\n",
      "('{\"negative\": 7, \"min_count\": 2, \"sample\": 0.1, \"size\": 50, \"dm\": 0, \"window\": 3}', 170)\n",
      "('{\"negative\": 7, \"min_count\": 2, \"sample\": 0.1, \"size\": 100, \"dm\": 0, \"window\": 5}', 169)\n",
      "('{\"negative\": 1, \"min_count\": 1, \"sample\": 0.001, \"size\": 100, \"dm\": 0, \"window\": 10}', 169)\n",
      "('{\"negative\": 7, \"min_count\": 1, \"sample\": 0.01, \"size\": 50, \"dm\": 0, \"window\": 5}', 167)\n",
      "('{\"negative\": 1, \"min_count\": 1, \"sample\": 0.001, \"size\": 100, \"dm\": 0, \"window\": 3}', 166)\n",
      "('{\"negative\": 7, \"min_count\": 2, \"sample\": 0.1, \"size\": 50, \"dm\": 0, \"window\": 10}', 166)\n",
      "('{\"negative\": 7, \"min_count\": 1, \"sample\": 0.01, \"size\": 50, \"dm\": 0, \"window\": 10}', 165)\n",
      "('{\"negative\": 5, \"min_count\": 1, \"sample\": 0.01, \"size\": 50, \"dm\": 0, \"window\": 5}', 164)\n",
      "('{\"negative\": 5, \"min_count\": 1, \"sample\": 0.01, \"size\": 50, \"dm\": 0, \"window\": 3}', 164)\n",
      "('{\"negative\": 5, \"min_count\": 1, \"sample\": 0.01, \"size\": 50, \"dm\": 0, \"window\": 10}', 163)\n",
      "('{\"negative\": 5, \"min_count\": 1, \"sample\": 0.1, \"size\": 50, \"dm\": 0, \"window\": 10}', 163)\n",
      "('{\"negative\": 7, \"min_count\": 1, \"sample\": 0.1, \"size\": 200, \"dm\": 0, \"window\": 10}', 163)\n",
      "('{\"negative\": 7, \"min_count\": 2, \"sample\": 0.1, \"size\": 100, \"dm\": 0, \"window\": 3}', 162)\n",
      "('{\"negative\": 5, \"min_count\": 1, \"sample\": 0.1, \"size\": 50, \"dm\": 0, \"window\": 5}', 161)\n",
      "('{\"negative\": 5, \"min_count\": 1, \"sample\": 0.1, \"size\": 50, \"dm\": 0, \"window\": 3}', 161)\n",
      "('{\"negative\": 3, \"min_count\": 1, \"sample\": 0.001, \"size\": 300, \"dm\": 0, \"window\": 5}', 158)\n",
      "('{\"negative\": 7, \"min_count\": 2, \"sample\": 0.1, \"size\": 100, \"dm\": 0, \"window\": 10}', 158)\n",
      "('{\"negative\": 3, \"min_count\": 1, \"sample\": 0.001, \"size\": 200, \"dm\": 0, \"window\": 3}', 158)\n",
      "('{\"negative\": 1, \"min_count\": 2, \"sample\": 0.001, \"size\": 300, \"dm\": 0, \"window\": 3}', 157)\n",
      "('{\"negative\": 7, \"min_count\": 1, \"sample\": 0.1, \"size\": 200, \"dm\": 0, \"window\": 3}', 157)\n",
      "('{\"negative\": 3, \"min_count\": 1, \"sample\": 0.001, \"size\": 200, \"dm\": 0, \"window\": 5}', 157)\n",
      "('{\"negative\": 3, \"min_count\": 1, \"sample\": 0.001, \"size\": 300, \"dm\": 0, \"window\": 10}', 155)\n",
      "('{\"negative\": 3, \"min_count\": 1, \"sample\": 0.001, \"size\": 300, \"dm\": 0, \"window\": 3}', 154)\n",
      "('{\"negative\": 5, \"min_count\": 2, \"sample\": 0.1, \"size\": 50, \"dm\": 0, \"window\": 10}', 154)\n",
      "('{\"negative\": 5, \"min_count\": 2, \"sample\": 0.1, \"size\": 50, \"dm\": 0, \"window\": 3}', 153)\n",
      "('{\"negative\": 1, \"min_count\": 2, \"sample\": 0.001, \"size\": 300, \"dm\": 0, \"window\": 10}', 153)\n",
      "('{\"negative\": 7, \"min_count\": 1, \"sample\": 0.1, \"size\": 200, \"dm\": 0, \"window\": 5}', 152)\n",
      "('{\"negative\": 1, \"min_count\": 2, \"sample\": 0.001, \"size\": 300, \"dm\": 0, \"window\": 5}', 152)\n",
      "('{\"negative\": 7, \"min_count\": 1, \"sample\": 0.01, \"size\": 100, \"dm\": 0, \"window\": 10}', 151)\n",
      "('{\"negative\": 5, \"min_count\": 2, \"sample\": 0.1, \"size\": 50, \"dm\": 0, \"window\": 5}', 151)\n",
      "('{\"negative\": 7, \"min_count\": 2, \"sample\": 0.1, \"size\": 200, \"dm\": 0, \"window\": 5}', 151)\n",
      "('{\"negative\": 7, \"min_count\": 2, \"sample\": 0.1, \"size\": 200, \"dm\": 0, \"window\": 10}', 150)\n",
      "('{\"negative\": 7, \"min_count\": 2, \"sample\": 0.1, \"size\": 300, \"dm\": 0, \"window\": 5}', 150)\n",
      "('{\"negative\": 7, \"min_count\": 2, \"sample\": 0.01, \"size\": 50, \"dm\": 0, \"window\": 5}', 150)\n",
      "('{\"negative\": 7, \"min_count\": 2, \"sample\": 0.1, \"size\": 200, \"dm\": 0, \"window\": 3}', 150)\n",
      "('{\"negative\": 3, \"min_count\": 1, \"sample\": 0.001, \"size\": 100, \"dm\": 0, \"window\": 10}', 149)\n",
      "('{\"negative\": 7, \"min_count\": 1, \"sample\": 0.01, \"size\": 100, \"dm\": 0, \"window\": 5}', 149)\n",
      "('{\"negative\": 3, \"min_count\": 1, \"sample\": 0.001, \"size\": 100, \"dm\": 0, \"window\": 5}', 149)\n",
      "('{\"negative\": 7, \"min_count\": 2, \"sample\": 0.01, \"size\": 50, \"dm\": 0, \"window\": 10}', 147)\n",
      "('{\"negative\": 3, \"min_count\": 1, \"sample\": 0.001, \"size\": 200, \"dm\": 0, \"window\": 10}', 147)\n",
      "('{\"negative\": 5, \"min_count\": 1, \"sample\": 0.1, \"size\": 100, \"dm\": 0, \"window\": 3}', 147)\n",
      "('{\"negative\": 7, \"min_count\": 1, \"sample\": 0.1, \"size\": 300, \"dm\": 0, \"window\": 5}', 147)\n",
      "('{\"negative\": 7, \"min_count\": 1, \"sample\": 0.01, \"size\": 100, \"dm\": 0, \"window\": 3}', 146)\n",
      "('{\"negative\": 1, \"min_count\": 2, \"sample\": 0.001, \"size\": 200, \"dm\": 0, \"window\": 5}', 146)\n",
      "('{\"negative\": 7, \"min_count\": 1, \"sample\": 0.1, \"size\": 300, \"dm\": 0, \"window\": 10}', 145)\n",
      "('{\"negative\": 7, \"min_count\": 2, \"sample\": 0.1, \"size\": 300, \"dm\": 0, \"window\": 3}', 145)\n",
      "('{\"negative\": 7, \"min_count\": 2, \"sample\": 0.01, \"size\": 50, \"dm\": 0, \"window\": 3}', 145)\n",
      "('{\"negative\": 7, \"min_count\": 2, \"sample\": 0.1, \"size\": 300, \"dm\": 0, \"window\": 10}', 143)\n",
      "('{\"negative\": 5, \"min_count\": 1, \"sample\": 0.01, \"size\": 100, \"dm\": 0, \"window\": 3}', 143)\n",
      "('{\"negative\": 3, \"min_count\": 1, \"sample\": 0.001, \"size\": 100, \"dm\": 0, \"window\": 3}', 142)\n",
      "('{\"negative\": 1, \"min_count\": 2, \"sample\": 0.001, \"size\": 200, \"dm\": 0, \"window\": 3}', 141)\n",
      "('{\"negative\": 1, \"min_count\": 2, \"sample\": 0.001, \"size\": 200, \"dm\": 0, \"window\": 10}', 141)\n",
      "('{\"negative\": 5, \"min_count\": 2, \"sample\": 0.1, \"size\": 100, \"dm\": 0, \"window\": 10}', 140)\n",
      "('{\"negative\": 5, \"min_count\": 1, \"sample\": 0.1, \"size\": 100, \"dm\": 0, \"window\": 10}', 139)\n",
      "('{\"negative\": 5, \"min_count\": 1, \"sample\": 0.1, \"size\": 100, \"dm\": 0, \"window\": 5}', 139)\n",
      "('{\"negative\": 5, \"min_count\": 1, \"sample\": 0.01, \"size\": 100, \"dm\": 0, \"window\": 10}', 139)\n",
      "('{\"negative\": 5, \"min_count\": 1, \"sample\": 0.01, \"size\": 100, \"dm\": 0, \"window\": 5}', 138)\n",
      "('{\"negative\": 1, \"min_count\": 1, \"sample\": 0.001, \"size\": 50, \"dm\": 0, \"window\": 10}', 138)\n",
      "('{\"negative\": 1, \"min_count\": 1, \"sample\": 0.001, \"size\": 50, \"dm\": 0, \"window\": 3}', 138)\n",
      "('{\"negative\": 7, \"min_count\": 1, \"sample\": 0.1, \"size\": 300, \"dm\": 0, \"window\": 3}', 137)\n",
      "('{\"negative\": 1, \"min_count\": 1, \"sample\": 0.001, \"size\": 50, \"dm\": 0, \"window\": 5}', 136)\n",
      "('{\"negative\": 7, \"min_count\": 1, \"sample\": 0.01, \"size\": 200, \"dm\": 0, \"window\": 3}', 136)\n",
      "('{\"negative\": 7, \"min_count\": 1, \"sample\": 0.01, \"size\": 200, \"dm\": 0, \"window\": 5}', 136)\n",
      "('{\"negative\": 5, \"min_count\": 2, \"sample\": 0.01, \"size\": 50, \"dm\": 0, \"window\": 5}', 135)\n",
      "('{\"negative\": 5, \"min_count\": 2, \"sample\": 0.1, \"size\": 100, \"dm\": 0, \"window\": 3}', 135)\n",
      "('{\"negative\": 7, \"min_count\": 1, \"sample\": 0.01, \"size\": 200, \"dm\": 0, \"window\": 10}', 134)\n",
      "('{\"negative\": 5, \"min_count\": 1, \"sample\": 0.1, \"size\": 200, \"dm\": 0, \"window\": 10}', 134)\n",
      "('{\"negative\": 5, \"min_count\": 1, \"sample\": 0.001, \"size\": 300, \"dm\": 0, \"window\": 10}', 133)\n",
      "('{\"negative\": 5, \"min_count\": 2, \"sample\": 0.1, \"size\": 100, \"dm\": 0, \"window\": 5}', 130)\n",
      "('{\"negative\": 7, \"min_count\": 1, \"sample\": 0.01, \"size\": 300, \"dm\": 0, \"window\": 10}', 130)\n",
      "('{\"negative\": 5, \"min_count\": 1, \"sample\": 0.001, \"size\": 300, \"dm\": 0, \"window\": 5}', 130)\n",
      "('{\"negative\": 5, \"min_count\": 1, \"sample\": 0.001, \"size\": 300, \"dm\": 0, \"window\": 3}', 129)\n",
      "('{\"negative\": 7, \"min_count\": 2, \"sample\": 0.01, \"size\": 100, \"dm\": 0, \"window\": 10}', 129)\n",
      "('{\"negative\": 7, \"min_count\": 2, \"sample\": 0.01, \"size\": 100, \"dm\": 0, \"window\": 3}', 129)\n",
      "('{\"negative\": 5, \"min_count\": 1, \"sample\": 0.1, \"size\": 200, \"dm\": 0, \"window\": 3}', 128)\n",
      "('{\"negative\": 5, \"min_count\": 1, \"sample\": 0.1, \"size\": 200, \"dm\": 0, \"window\": 5}', 127)\n",
      "('{\"negative\": 5, \"min_count\": 1, \"sample\": 0.001, \"size\": 200, \"dm\": 0, \"window\": 10}', 127)\n",
      "('{\"negative\": 7, \"min_count\": 2, \"sample\": 0.01, \"size\": 100, \"dm\": 0, \"window\": 5}', 127)\n",
      "('{\"negative\": 1, \"min_count\": 1, \"sample\": 0.1, \"size\": 50, \"dm\": 0, \"window\": 10}', 126)\n",
      "('{\"negative\": 5, \"min_count\": 2, \"sample\": 0.01, \"size\": 50, \"dm\": 0, \"window\": 10}', 126)\n",
      "('{\"negative\": 5, \"min_count\": 2, \"sample\": 0.1, \"size\": 200, \"dm\": 0, \"window\": 5}', 125)\n",
      "('{\"negative\": 5, \"min_count\": 2, \"sample\": 0.1, \"size\": 200, \"dm\": 0, \"window\": 10}', 125)\n",
      "('{\"negative\": 7, \"min_count\": 1, \"sample\": 0.01, \"size\": 300, \"dm\": 0, \"window\": 5}', 124)\n",
      "('{\"negative\": 5, \"min_count\": 1, \"sample\": 0.001, \"size\": 200, \"dm\": 0, \"window\": 3}', 124)\n",
      "('{\"negative\": 5, \"min_count\": 2, \"sample\": 0.01, \"size\": 50, \"dm\": 0, \"window\": 3}', 122)\n"
     ]
    }
   ],
   "source": [
    "# Seems to be most sensitive to sample and negative\n",
    "counter = Counter(results)\n",
    "for result in counter.most_common(100):\n",
    "    print(result)"
   ]
  }
 ],
 "metadata": {
  "kernelspec": {
   "display_name": "Python 3",
   "language": "python",
   "name": "python3"
  },
  "language_info": {
   "codemirror_mode": {
    "name": "ipython",
    "version": 3
   },
   "file_extension": ".py",
   "mimetype": "text/x-python",
   "name": "python",
   "nbconvert_exporter": "python",
   "pygments_lexer": "ipython3",
   "version": "3.5.3"
  }
 },
 "nbformat": 4,
 "nbformat_minor": 2
}
