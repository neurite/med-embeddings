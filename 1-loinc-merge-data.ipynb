{
 "cells": [
  {
   "cell_type": "code",
   "execution_count": 1,
   "metadata": {},
   "outputs": [],
   "source": [
    "import pandas as pd\n",
    "from pandas import DataFrame"
   ]
  },
  {
   "cell_type": "markdown",
   "metadata": {},
   "source": [
    "### Merge data"
   ]
  },
  {
   "cell_type": "code",
   "execution_count": 2,
   "metadata": {
    "collapsed": true
   },
   "outputs": [],
   "source": [
    "df_component = pd.read_csv('data/loinc-component.csv')\n",
    "df_short_name = pd.read_csv('data/loinc-short-name.csv')\n",
    "df_long_name = pd.read_csv('data/loinc-long-name.csv')\n",
    "df_system = pd.read_csv('data/loinc-system.csv')\n",
    "df_class = pd.read_csv('data/loinc-class.csv')\n",
    "df_related = pd.read_csv('data/loinc-related-name.csv')"
   ]
  },
  {
   "cell_type": "code",
   "execution_count": 3,
   "metadata": {
    "collapsed": true
   },
   "outputs": [],
   "source": [
    "def normalize_columns(df, label_col, text_col):\n",
    "    df_normalized = DataFrame()\n",
    "    df_normalized['LABEL'] = df[label_col]\n",
    "    df_normalized['TEXT'] = df[text_col]\n",
    "    df_normalized['SOURCE'] = text_col\n",
    "    return df_normalized"
   ]
  },
  {
   "cell_type": "code",
   "execution_count": 4,
   "metadata": {},
   "outputs": [],
   "source": [
    "df_component = normalize_columns(df_component, 'LOINC_NUM', 'COMPONENT')\n",
    "df_short_name = normalize_columns(df_short_name, 'LOINC_NUM', 'SHORTNAME')\n",
    "df_long_name = normalize_columns(df_long_name, 'LOINC_NUM', 'LONG_COMMON_NAME')\n",
    "df_system = normalize_columns(df_system, 'LOINC_NUM', 'SYSTEM')\n",
    "df_class = normalize_columns(df_class, 'LOINC_NUM', 'CLASS')\n",
    "df_related = normalize_columns(df_related, 'LOINC_NUM', 'RELATED_NAME')"
   ]
  },
  {
   "cell_type": "code",
   "execution_count": 5,
   "metadata": {
    "collapsed": true
   },
   "outputs": [],
   "source": [
    "df_merged = pd.concat([df_component, df_short_name, df_long_name,\n",
    "                       df_system,df_class,df_related], ignore_index=True)"
   ]
  },
  {
   "cell_type": "code",
   "execution_count": 6,
   "metadata": {},
   "outputs": [
    {
     "data": {
      "text/plain": [
       "(2208313, 3)"
      ]
     },
     "execution_count": 6,
     "metadata": {},
     "output_type": "execute_result"
    }
   ],
   "source": [
    "df_merged.shape"
   ]
  },
  {
   "cell_type": "code",
   "execution_count": 7,
   "metadata": {},
   "outputs": [
    {
     "data": {
      "text/html": [
       "<div>\n",
       "<style>\n",
       "    .dataframe thead tr:only-child th {\n",
       "        text-align: right;\n",
       "    }\n",
       "\n",
       "    .dataframe thead th {\n",
       "        text-align: left;\n",
       "    }\n",
       "\n",
       "    .dataframe tbody tr th {\n",
       "        vertical-align: top;\n",
       "    }\n",
       "</style>\n",
       "<table border=\"1\" class=\"dataframe\">\n",
       "  <thead>\n",
       "    <tr style=\"text-align: right;\">\n",
       "      <th></th>\n",
       "      <th>LABEL</th>\n",
       "      <th>TEXT</th>\n",
       "      <th>SOURCE</th>\n",
       "    </tr>\n",
       "  </thead>\n",
       "  <tbody>\n",
       "    <tr>\n",
       "      <th>1920621</th>\n",
       "      <td>73260-2</td>\n",
       "      <td>Antibody</td>\n",
       "      <td>RELATED_NAME</td>\n",
       "    </tr>\n",
       "    <tr>\n",
       "      <th>1433570</th>\n",
       "      <td>50006-6</td>\n",
       "      <td>Qualitative</td>\n",
       "      <td>RELATED_NAME</td>\n",
       "    </tr>\n",
       "    <tr>\n",
       "      <th>2035629</th>\n",
       "      <td>78421-5</td>\n",
       "      <td>Point in time</td>\n",
       "      <td>RELATED_NAME</td>\n",
       "    </tr>\n",
       "    <tr>\n",
       "      <th>2059117</th>\n",
       "      <td>7944-2</td>\n",
       "      <td>Screen</td>\n",
       "      <td>RELATED_NAME</td>\n",
       "    </tr>\n",
       "    <tr>\n",
       "      <th>1331131</th>\n",
       "      <td>46309-1</td>\n",
       "      <td>Extr-R</td>\n",
       "      <td>RELATED_NAME</td>\n",
       "    </tr>\n",
       "    <tr>\n",
       "      <th>2174992</th>\n",
       "      <td>85095-8</td>\n",
       "      <td>Antby</td>\n",
       "      <td>RELATED_NAME</td>\n",
       "    </tr>\n",
       "    <tr>\n",
       "      <th>886116</th>\n",
       "      <td>28256-6</td>\n",
       "      <td>Qual</td>\n",
       "      <td>RELATED_NAME</td>\n",
       "    </tr>\n",
       "    <tr>\n",
       "      <th>835126</th>\n",
       "      <td>26091-9</td>\n",
       "      <td>Findings</td>\n",
       "      <td>RELATED_NAME</td>\n",
       "    </tr>\n",
       "    <tr>\n",
       "      <th>311617</th>\n",
       "      <td>66077-9</td>\n",
       "      <td>^Patient</td>\n",
       "      <td>SYSTEM</td>\n",
       "    </tr>\n",
       "    <tr>\n",
       "      <th>1132631</th>\n",
       "      <td>38048-5</td>\n",
       "      <td>Extr-R</td>\n",
       "      <td>RELATED_NAME</td>\n",
       "    </tr>\n",
       "  </tbody>\n",
       "</table>\n",
       "</div>"
      ],
      "text/plain": [
       "           LABEL           TEXT        SOURCE\n",
       "1920621  73260-2       Antibody  RELATED_NAME\n",
       "1433570  50006-6    Qualitative  RELATED_NAME\n",
       "2035629  78421-5  Point in time  RELATED_NAME\n",
       "2059117   7944-2         Screen  RELATED_NAME\n",
       "1331131  46309-1         Extr-R  RELATED_NAME\n",
       "2174992  85095-8          Antby  RELATED_NAME\n",
       "886116   28256-6           Qual  RELATED_NAME\n",
       "835126   26091-9       Findings  RELATED_NAME\n",
       "311617   66077-9       ^Patient        SYSTEM\n",
       "1132631  38048-5         Extr-R  RELATED_NAME"
      ]
     },
     "execution_count": 7,
     "metadata": {},
     "output_type": "execute_result"
    }
   ],
   "source": [
    "df_merged.sample(10)"
   ]
  },
  {
   "cell_type": "markdown",
   "metadata": {},
   "source": [
    "### Select data (optional)"
   ]
  },
  {
   "cell_type": "markdown",
   "metadata": {},
   "source": [
    "### Normalization\n",
    "\n",
    "Let's not be agressive. Only upper case to lower case.\n",
    "\n",
    "Some observations:\n",
    "\n",
    "* 2-Amino-4,6-pteridinediol\n",
    "* Ser/Plas\n",
    "* [Moles/volume]\n",
    "* {Setting}\n",
    "* Pulmonary vein - right upper \n",
    "* Multisection^W contrast IV\n",
    "* Bacteria identified^^^2\n",
    "* ^Patient\n",
    "* Blood flow.diastole.max\n",
    "* Upper extremity>Upper arm\n",
    "* A+B Ag"
   ]
  },
  {
   "cell_type": "code",
   "execution_count": 10,
   "metadata": {},
   "outputs": [],
   "source": [
    "df_merged['TEXT_NORMED'] = df_merged['TEXT'].apply(lambda x: str(x).lower().strip())"
   ]
  },
  {
   "cell_type": "markdown",
   "metadata": {},
   "source": [
    "### Shuffle"
   ]
  },
  {
   "cell_type": "code",
   "execution_count": 12,
   "metadata": {
    "collapsed": true
   },
   "outputs": [],
   "source": [
    "from sklearn.utils import shuffle\n",
    "df = shuffle(df_merged)"
   ]
  },
  {
   "cell_type": "markdown",
   "metadata": {},
   "source": [
    "### Save"
   ]
  },
  {
   "cell_type": "code",
   "execution_count": 13,
   "metadata": {
    "collapsed": true
   },
   "outputs": [],
   "source": [
    "df.to_csv('data/loinc-labeled-text-all.csv', index=False)"
   ]
  }
 ],
 "metadata": {
  "kernelspec": {
   "display_name": "Python 3",
   "language": "python",
   "name": "python3"
  },
  "language_info": {
   "codemirror_mode": {
    "name": "ipython",
    "version": 3
   },
   "file_extension": ".py",
   "mimetype": "text/x-python",
   "name": "python",
   "nbconvert_exporter": "python",
   "pygments_lexer": "ipython3",
   "version": "3.5.3"
  }
 },
 "nbformat": 4,
 "nbformat_minor": 2
}
