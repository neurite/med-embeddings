{
 "cells": [
  {
   "cell_type": "markdown",
   "metadata": {},
   "source": [
    "### Introduction\n",
    "\n",
    "Play with a small sample of 2000 LOINC long names. Test our own gs module (custom functions for gensim). Tune the model's hyper parameters."
   ]
  },
  {
   "cell_type": "code",
   "execution_count": 3,
   "metadata": {
    "collapsed": true
   },
   "outputs": [],
   "source": [
    "from collections import Counter\n",
    "import json\n",
    "import pandas as pd\n",
    "from pandas import DataFrame\n",
    "from gensim.models.doc2vec import Doc2Vec\n",
    "from gs import tokenize\n",
    "from gs import tagdocs\n",
    "from gs import listparams\n",
    "from gs import listparams_sampling\n",
    "from gs import train\n",
    "from gs import evaluate"
   ]
  },
  {
   "cell_type": "code",
   "execution_count": 4,
   "metadata": {},
   "outputs": [
    {
     "data": {
      "text/html": [
       "<div>\n",
       "<style>\n",
       "    .dataframe thead tr:only-child th {\n",
       "        text-align: right;\n",
       "    }\n",
       "\n",
       "    .dataframe thead th {\n",
       "        text-align: left;\n",
       "    }\n",
       "\n",
       "    .dataframe tbody tr th {\n",
       "        vertical-align: top;\n",
       "    }\n",
       "</style>\n",
       "<table border=\"1\" class=\"dataframe\">\n",
       "  <thead>\n",
       "    <tr style=\"text-align: right;\">\n",
       "      <th></th>\n",
       "      <th>label</th>\n",
       "      <th>text</th>\n",
       "      <th>source</th>\n",
       "      <th>text_normed</th>\n",
       "    </tr>\n",
       "  </thead>\n",
       "  <tbody>\n",
       "    <tr>\n",
       "      <th>115054</th>\n",
       "      <td>47497-3</td>\n",
       "      <td>Streptococcus pneumoniae 43 IgG Ab [Mass/volum...</td>\n",
       "      <td>LONG_COMMON_NAME</td>\n",
       "      <td>streptococcus pneumoniae 43 igg ab [mass/volum...</td>\n",
       "    </tr>\n",
       "    <tr>\n",
       "      <th>149850</th>\n",
       "      <td>33277-5</td>\n",
       "      <td>Acetaminophen+Phenacetin [Presence] in Urine b...</td>\n",
       "      <td>LONG_COMMON_NAME</td>\n",
       "      <td>acetaminophen+phenacetin [presence] in urine b...</td>\n",
       "    </tr>\n",
       "  </tbody>\n",
       "</table>\n",
       "</div>"
      ],
      "text/plain": [
       "          label                                               text  \\\n",
       "115054  47497-3  Streptococcus pneumoniae 43 IgG Ab [Mass/volum...   \n",
       "149850  33277-5  Acetaminophen+Phenacetin [Presence] in Urine b...   \n",
       "\n",
       "                  source                                        text_normed  \n",
       "115054  LONG_COMMON_NAME  streptococcus pneumoniae 43 igg ab [mass/volum...  \n",
       "149850  LONG_COMMON_NAME  acetaminophen+phenacetin [presence] in urine b...  "
      ]
     },
     "execution_count": 4,
     "metadata": {},
     "output_type": "execute_result"
    }
   ],
   "source": [
    "df = pd.read_csv('data/loinc-labeled-text-names.csv')\n",
    "df = df[df['source'] == 'LONG_COMMON_NAME']\n",
    "df = df.sample(2000)\n",
    "df.sample(2)"
   ]
  },
  {
   "cell_type": "markdown",
   "metadata": {},
   "source": [
    "### Tokenize"
   ]
  },
  {
   "cell_type": "code",
   "execution_count": 5,
   "metadata": {},
   "outputs": [
    {
     "name": "stdout",
     "output_type": "stream",
     "text": [
      "Epstein Barr virus early diffuse IgG Ab [Units/volume] in Serum\n",
      "['epstein', 'barr', 'virus', 'early', 'diffuse', 'igg', 'ab', 'units', 'volume', 'in', 'serum']\n"
     ]
    }
   ],
   "source": [
    "text = df.iloc[0]['text']\n",
    "print(text)\n",
    "print(tokenize(text))"
   ]
  },
  {
   "cell_type": "markdown",
   "metadata": {},
   "source": [
    "### Tag the documents"
   ]
  },
  {
   "cell_type": "code",
   "execution_count": 6,
   "metadata": {},
   "outputs": [
    {
     "data": {
      "text/plain": [
       "[TaggedDocument(words=['epstein', 'barr', 'virus', 'early', 'diffuse', 'igg', 'ab', 'units', 'volume', 'in', 'serum'], tags=['50969-5']),\n",
       " TaggedDocument(words=['lutropin', 'moles', 'volume', 'in', 'serum', 'or', 'plasma', 'th', 'specimen', 'post', 'xxx', 'challenge'], tags=['12680-5'])]"
      ]
     },
     "execution_count": 6,
     "metadata": {},
     "output_type": "execute_result"
    }
   ],
   "source": [
    "docs = tagdocs(df)\n",
    "docs[:2]"
   ]
  },
  {
   "cell_type": "markdown",
   "metadata": {},
   "source": [
    "### Builde the models"
   ]
  },
  {
   "cell_type": "code",
   "execution_count": 7,
   "metadata": {
    "collapsed": true
   },
   "outputs": [],
   "source": [
    "# Add params of no negative sampling and no down sampling\n",
    "dms = [0, 1]\n",
    "sizes = [50, 100, 200, 300]\n",
    "windows = [3, 5, 7, 10]\n",
    "mincounts = [1, 2]\n",
    "params = listparams(dms=dms, sizes=sizes, windows=windows,\n",
    "                    mincounts=mincounts, workers=4, epochs=100)"
   ]
  },
  {
   "cell_type": "code",
   "execution_count": 8,
   "metadata": {
    "collapsed": true
   },
   "outputs": [],
   "source": [
    "# Add params with negative sampling and down sampling\n",
    "dms = [0, 1]\n",
    "sizes = [50, 100, 200, 300]\n",
    "windows = [3, 5, 7, 10]\n",
    "mincounts = [1, 2]\n",
    "samples = [1e-1, 1e-2, 1e-3, 1e-4, 1e-5, 1e-6]\n",
    "negatives = [1, 3, 5, 7]\n",
    "hses = [0, 1]\n",
    "params.extend(listparams_sampling(\n",
    "    dms=dms, sizes=sizes, windows=windows, mincounts=mincounts,\n",
    "    samples=samples, negatives=negatives, hses = hses,\n",
    "    workers=4, epochs=100))"
   ]
  },
  {
   "cell_type": "code",
   "execution_count": 9,
   "metadata": {},
   "outputs": [
    {
     "data": {
      "text/plain": [
       "3136"
      ]
     },
     "execution_count": 9,
     "metadata": {},
     "output_type": "execute_result"
    }
   ],
   "source": [
    "# Should be 3136\n",
    "len(params)"
   ]
  },
  {
   "cell_type": "code",
   "execution_count": 10,
   "metadata": {
    "collapsed": true
   },
   "outputs": [],
   "source": [
    "models = [Doc2Vec(**paramdict) for paramdict in params]"
   ]
  },
  {
   "cell_type": "code",
   "execution_count": 11,
   "metadata": {},
   "outputs": [
    {
     "name": "stdout",
     "output_type": "stream",
     "text": [
      "CPU times: user 5h 33min 34s, sys: 1h 34min 34s, total: 7h 8min 9s\n",
      "Wall time: 8h 8min 39s\n"
     ]
    }
   ],
   "source": [
    "%time train(docs, models)"
   ]
  },
  {
   "cell_type": "markdown",
   "metadata": {},
   "source": [
    "### Evaluate the models"
   ]
  },
  {
   "cell_type": "code",
   "execution_count": 12,
   "metadata": {
    "collapsed": true
   },
   "outputs": [],
   "source": [
    "results = {}\n",
    "for p, model in zip(params, models):\n",
    "    labels, hits = evaluate(df, model)\n",
    "    results[json.dumps(p)] = len([hit for hit in hits if hit])"
   ]
  },
  {
   "cell_type": "code",
   "execution_count": 25,
   "metadata": {},
   "outputs": [
    {
     "name": "stdout",
     "output_type": "stream",
     "text": [
      "('{\"window\": 5, \"min_count\": 1, \"size\": 50, \"sample\": 0.01, \"dm\": 0, \"workers\": 4, \"hs\": 1, \"iter\": 100, \"negative\": 3}', 1983)\n",
      "('{\"window\": 3, \"min_count\": 1, \"size\": 100, \"sample\": 0.01, \"dm\": 0, \"workers\": 4, \"hs\": 1, \"iter\": 100, \"negative\": 1}', 1982)\n",
      "('{\"window\": 10, \"min_count\": 1, \"size\": 200, \"sample\": 0.1, \"dm\": 0, \"workers\": 4, \"hs\": 1, \"iter\": 100, \"negative\": 3}', 1982)\n",
      "('{\"window\": 7, \"min_count\": 1, \"size\": 300, \"sample\": 0.01, \"dm\": 0, \"workers\": 4, \"hs\": 1, \"iter\": 100, \"negative\": 3}', 1982)\n",
      "('{\"window\": 5, \"min_count\": 1, \"size\": 200, \"sample\": 0.1, \"dm\": 0, \"workers\": 4, \"hs\": 1, \"iter\": 100, \"negative\": 3}', 1982)\n",
      "('{\"window\": 7, \"min_count\": 1, \"size\": 50, \"sample\": 0.01, \"dm\": 0, \"workers\": 4, \"hs\": 1, \"iter\": 100, \"negative\": 1}', 1980)\n",
      "('{\"window\": 5, \"min_count\": 1, \"size\": 100, \"sample\": 0.01, \"dm\": 0, \"workers\": 4, \"hs\": 1, \"iter\": 100, \"negative\": 1}', 1980)\n",
      "('{\"window\": 3, \"min_count\": 1, \"size\": 50, \"sample\": 0.01, \"dm\": 0, \"workers\": 4, \"hs\": 1, \"iter\": 100, \"negative\": 3}', 1980)\n",
      "('{\"window\": 7, \"min_count\": 1, \"size\": 100, \"sample\": 0.1, \"dm\": 0, \"workers\": 4, \"hs\": 1, \"iter\": 100, \"negative\": 7}', 1980)\n",
      "('{\"window\": 5, \"min_count\": 1, \"size\": 50, \"sample\": 0.01, \"dm\": 0, \"workers\": 4, \"hs\": 1, \"iter\": 100, \"negative\": 5}', 1979)\n"
     ]
    }
   ],
   "source": [
    "counter = Counter(results)\n",
    "for result in counter.most_common(10):\n",
    "    print(result)"
   ]
  },
  {
   "cell_type": "code",
   "execution_count": 27,
   "metadata": {},
   "outputs": [
    {
     "name": "stdout",
     "output_type": "stream",
     "text": [
      "('{\"window\": 3, \"min_count\": 1, \"size\": 50, \"sample\": 0.1, \"dm\": 0, \"workers\": 4, \"hs\": 0, \"iter\": 100, \"negative\": 7}', 1310)\n",
      "('{\"window\": 10, \"min_count\": 1, \"size\": 50, \"sample\": 0.1, \"dm\": 0, \"workers\": 4, \"hs\": 0, \"iter\": 100, \"negative\": 7}', 1306)\n",
      "('{\"window\": 7, \"min_count\": 1, \"size\": 50, \"sample\": 0.1, \"dm\": 0, \"workers\": 4, \"hs\": 0, \"iter\": 100, \"negative\": 7}', 1297)\n",
      "('{\"window\": 5, \"min_count\": 1, \"size\": 50, \"sample\": 0.1, \"dm\": 0, \"workers\": 4, \"hs\": 0, \"iter\": 100, \"negative\": 7}', 1290)\n",
      "('{\"window\": 3, \"min_count\": 1, \"size\": 50, \"sample\": 0.01, \"dm\": 0, \"workers\": 4, \"hs\": 0, \"iter\": 100, \"negative\": 7}', 1289)\n",
      "('{\"window\": 5, \"min_count\": 1, \"size\": 50, \"sample\": 0.01, \"dm\": 0, \"workers\": 4, \"hs\": 0, \"iter\": 100, \"negative\": 7}', 1288)\n",
      "('{\"window\": 10, \"min_count\": 1, \"size\": 50, \"sample\": 0.01, \"dm\": 0, \"workers\": 4, \"hs\": 0, \"iter\": 100, \"negative\": 7}', 1278)\n",
      "('{\"window\": 7, \"min_count\": 1, \"size\": 50, \"sample\": 0.01, \"dm\": 0, \"workers\": 4, \"hs\": 0, \"iter\": 100, \"negative\": 7}', 1278)\n",
      "('{\"window\": 7, \"min_count\": 1, \"size\": 100, \"sample\": 0.1, \"dm\": 0, \"workers\": 4, \"hs\": 0, \"iter\": 100, \"negative\": 7}', 1274)\n",
      "('{\"window\": 10, \"min_count\": 1, \"size\": 100, \"sample\": 0.1, \"dm\": 0, \"workers\": 4, \"hs\": 0, \"iter\": 100, \"negative\": 7}', 1273)\n"
     ]
    }
   ],
   "source": [
    "# hs=0\n",
    "plist = [p for p in results if 'hs' in json.loads(p) and json.loads(p)['hs'] == 0]\n",
    "counter = Counter()\n",
    "for p in plist:\n",
    "    counter[p] = results[p]\n",
    "for result in counter.most_common(10):\n",
    "    print(result)"
   ]
  },
  {
   "cell_type": "code",
   "execution_count": 28,
   "metadata": {},
   "outputs": [
    {
     "name": "stdout",
     "output_type": "stream",
     "text": [
      "('{\"window\": 3, \"min_count\": 1, \"size\": 50, \"sample\": 0.01, \"dm\": 1, \"workers\": 4, \"hs\": 1, \"iter\": 100, \"negative\": 1}', 1750)\n",
      "('{\"window\": 3, \"min_count\": 1, \"size\": 100, \"sample\": 0.01, \"dm\": 1, \"workers\": 4, \"hs\": 1, \"iter\": 100, \"negative\": 1}', 1749)\n",
      "('{\"window\": 3, \"min_count\": 1, \"size\": 200, \"sample\": 0.01, \"dm\": 1, \"workers\": 4, \"hs\": 1, \"iter\": 100, \"negative\": 1}', 1734)\n",
      "('{\"window\": 3, \"min_count\": 1, \"size\": 300, \"sample\": 0.01, \"dm\": 1, \"workers\": 4, \"hs\": 1, \"iter\": 100, \"negative\": 1}', 1727)\n",
      "('{\"window\": 5, \"min_count\": 1, \"size\": 200, \"sample\": 0.01, \"dm\": 1, \"workers\": 4, \"hs\": 1, \"iter\": 100, \"negative\": 1}', 1724)\n",
      "('{\"window\": 3, \"min_count\": 1, \"size\": 100, \"sample\": 0.01, \"dm\": 1, \"workers\": 4, \"hs\": 1, \"iter\": 100, \"negative\": 3}', 1721)\n",
      "('{\"window\": 3, \"min_count\": 1, \"size\": 300, \"sample\": 0.01, \"dm\": 1, \"workers\": 4, \"hs\": 1, \"iter\": 100, \"negative\": 3}', 1720)\n",
      "('{\"window\": 3, \"min_count\": 1, \"size\": 200, \"sample\": 0.01, \"dm\": 1, \"workers\": 4, \"hs\": 1, \"iter\": 100, \"negative\": 3}', 1720)\n",
      "('{\"window\": 3, \"min_count\": 1, \"size\": 50, \"sample\": 0.01, \"dm\": 1, \"workers\": 4, \"hs\": 1, \"iter\": 100, \"negative\": 3}', 1705)\n",
      "('{\"window\": 5, \"min_count\": 1, \"size\": 50, \"sample\": 0.01, \"dm\": 1, \"workers\": 4, \"hs\": 1, \"iter\": 100, \"negative\": 3}', 1704)\n"
     ]
    }
   ],
   "source": [
    "# dm=1\n",
    "plist = [p for p in results if 'dm' in json.loads(p) and json.loads(p)['dm'] == 1]\n",
    "counter = Counter()\n",
    "for p in plist:\n",
    "    counter[p] = results[p]\n",
    "for result in counter.most_common(10):\n",
    "    print(result)"
   ]
  },
  {
   "cell_type": "code",
   "execution_count": 29,
   "metadata": {},
   "outputs": [
    {
     "name": "stdout",
     "output_type": "stream",
     "text": [
      "('{\"window\": 7, \"min_count\": 1, \"dm\": 0, \"workers\": 4, \"iter\": 100, \"size\": 50}', 914)\n",
      "('{\"window\": 10, \"min_count\": 1, \"dm\": 0, \"workers\": 4, \"iter\": 100, \"size\": 50}', 914)\n",
      "('{\"window\": 5, \"min_count\": 1, \"dm\": 0, \"workers\": 4, \"iter\": 100, \"size\": 50}', 913)\n",
      "('{\"window\": 3, \"min_count\": 1, \"dm\": 0, \"workers\": 4, \"iter\": 100, \"size\": 50}', 905)\n",
      "('{\"window\": 5, \"min_count\": 1, \"dm\": 0, \"workers\": 4, \"iter\": 100, \"size\": 100}', 883)\n",
      "('{\"window\": 7, \"min_count\": 1, \"dm\": 0, \"workers\": 4, \"iter\": 100, \"size\": 100}', 862)\n",
      "('{\"window\": 3, \"min_count\": 1, \"dm\": 0, \"workers\": 4, \"iter\": 100, \"size\": 100}', 856)\n",
      "('{\"window\": 10, \"min_count\": 1, \"dm\": 0, \"workers\": 4, \"iter\": 100, \"size\": 100}', 854)\n",
      "('{\"window\": 10, \"min_count\": 2, \"dm\": 0, \"workers\": 4, \"iter\": 100, \"size\": 50}', 852)\n",
      "('{\"window\": 3, \"min_count\": 2, \"dm\": 0, \"workers\": 4, \"iter\": 100, \"size\": 50}', 850)\n"
     ]
    }
   ],
   "source": [
    "# negative=0 and sample=0\n",
    "plist = [p for p in results if 'negative' not in json.loads(p)]\n",
    "counter = Counter()\n",
    "for p in plist:\n",
    "    counter[p] = results[p]\n",
    "for result in counter.most_common(10):\n",
    "    print(result)"
   ]
  },
  {
   "cell_type": "code",
   "execution_count": 30,
   "metadata": {
    "collapsed": true
   },
   "outputs": [],
   "source": [
    "df_models = DataFrame(counter.most_common())\n",
    "df_models.to_csv('data/loinc-long-names-2000-models.csv', index=False, header=False)"
   ]
  }
 ],
 "metadata": {
  "kernelspec": {
   "display_name": "Python 3",
   "language": "python",
   "name": "python3"
  },
  "language_info": {
   "codemirror_mode": {
    "name": "ipython",
    "version": 3
   },
   "file_extension": ".py",
   "mimetype": "text/x-python",
   "name": "python",
   "nbconvert_exporter": "python",
   "pygments_lexer": "ipython3",
   "version": "3.5.3"
  }
 },
 "nbformat": 4,
 "nbformat_minor": 2
}
