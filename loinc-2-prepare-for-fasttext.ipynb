{
 "cells": [
  {
   "cell_type": "code",
   "execution_count": 1,
   "metadata": {
    "collapsed": true
   },
   "outputs": [],
   "source": [
    "import pandas as pd\n",
    "from pandas import DataFrame\n",
    "from random import shuffle"
   ]
  },
  {
   "cell_type": "code",
   "execution_count": 2,
   "metadata": {
    "collapsed": true
   },
   "outputs": [],
   "source": [
    "def fasttext_label(df, label_col, text_col):\n",
    "    \"\"\"\n",
    "    Creates labeled data as required by fastText. Labels are prefixed\n",
    "    by '__label__' followed by text.\n",
    "    df: DataFrame\n",
    "    label_col: string\n",
    "    text_col: string\n",
    "    return: a new data frame of labeled data\n",
    "    \"\"\"\n",
    "    rows = []\n",
    "    for idx, row in df.iterrows():\n",
    "        rows.append('__label__' + str(row[label_col]) + ' ' + str(row[text_col]))\n",
    "    return DataFrame(rows)"
   ]
  },
  {
   "cell_type": "markdown",
   "metadata": {},
   "source": [
    "### All text and text of the same label from different sources on separate rows"
   ]
  },
  {
   "cell_type": "code",
   "execution_count": 3,
   "metadata": {
    "collapsed": true
   },
   "outputs": [],
   "source": [
    "df_all = pd.read_csv('data/loinc-labeled-text-all.csv')"
   ]
  },
  {
   "cell_type": "code",
   "execution_count": 4,
   "metadata": {
    "collapsed": true
   },
   "outputs": [],
   "source": [
    "df_all_no_labels = df_all['text_normed']"
   ]
  },
  {
   "cell_type": "code",
   "execution_count": 5,
   "metadata": {
    "collapsed": true
   },
   "outputs": [],
   "source": [
    "df_all_no_labels.to_csv('data/loinc-all-fasttext-no-label.txt', index=False, header=False)"
   ]
  },
  {
   "cell_type": "code",
   "execution_count": 6,
   "metadata": {
    "collapsed": true
   },
   "outputs": [],
   "source": [
    "df_all_with_labels = fasttext_label(df_all, 'label', 'text_normed')"
   ]
  },
  {
   "cell_type": "code",
   "execution_count": 7,
   "metadata": {},
   "outputs": [
    {
     "data": {
      "text/html": [
       "<div>\n",
       "<style>\n",
       "    .dataframe thead tr:only-child th {\n",
       "        text-align: right;\n",
       "    }\n",
       "\n",
       "    .dataframe thead th {\n",
       "        text-align: left;\n",
       "    }\n",
       "\n",
       "    .dataframe tbody tr th {\n",
       "        vertical-align: top;\n",
       "    }\n",
       "</style>\n",
       "<table border=\"1\" class=\"dataframe\">\n",
       "  <thead>\n",
       "    <tr style=\"text-align: right;\">\n",
       "      <th></th>\n",
       "      <th>0</th>\n",
       "    </tr>\n",
       "  </thead>\n",
       "  <tbody>\n",
       "    <tr>\n",
       "      <th>1632432</th>\n",
       "      <td>__label__3356-3 anileridine serpl-mcnc</td>\n",
       "    </tr>\n",
       "    <tr>\n",
       "      <th>594811</th>\n",
       "      <td>__label__21325-6 aby</td>\n",
       "    </tr>\n",
       "    <tr>\n",
       "      <th>1061757</th>\n",
       "      <td>__label__13942-8 random</td>\n",
       "    </tr>\n",
       "  </tbody>\n",
       "</table>\n",
       "</div>"
      ],
      "text/plain": [
       "                                              0\n",
       "1632432  __label__3356-3 anileridine serpl-mcnc\n",
       "594811                     __label__21325-6 aby\n",
       "1061757                 __label__13942-8 random"
      ]
     },
     "execution_count": 7,
     "metadata": {},
     "output_type": "execute_result"
    }
   ],
   "source": [
    "df_all_with_labels.sample(3)"
   ]
  },
  {
   "cell_type": "code",
   "execution_count": 8,
   "metadata": {
    "collapsed": true
   },
   "outputs": [],
   "source": [
    "df_all_with_labels.to_csv('data/loinc-all-fasttext-with-label.txt', index=False, header=False)"
   ]
  },
  {
   "cell_type": "markdown",
   "metadata": {},
   "source": [
    "### All text and text of the same label from different sources are concatenated\n",
    "\n",
    "Note the data generated at this step can also be used by gensim."
   ]
  },
  {
   "cell_type": "code",
   "execution_count": 9,
   "metadata": {
    "collapsed": true
   },
   "outputs": [],
   "source": [
    "def concat(group):\n",
    "    \"\"\"\n",
    "    To be called by group by label. Concatenate short name, long name,\n",
    "    and shuffled others.\n",
    "    group: DataFrame, note a grouped object is a data frame\n",
    "    return: concatenated text\n",
    "    \"\"\"\n",
    "    short_name = ''\n",
    "    long_name = ''\n",
    "    others = []\n",
    "    for idx, row in group.iterrows():\n",
    "        source = row['source']\n",
    "        text = row['text_normed']\n",
    "        if source == 'SHORTNAME':\n",
    "            short_name = text\n",
    "        elif source == 'LONG_COMMON_NAME':\n",
    "            long_name = text\n",
    "        else:\n",
    "            others.append(text)\n",
    "    shuffle(others)\n",
    "    return short_name + ' ' + long_name + ' ' + ' '.join(others)"
   ]
  },
  {
   "cell_type": "code",
   "execution_count": 11,
   "metadata": {
    "collapsed": true
   },
   "outputs": [],
   "source": [
    "gb = df_all.groupby('label')\n",
    "concatenated = gb.apply(lambda group: concat(group))"
   ]
  },
  {
   "cell_type": "code",
   "execution_count": 12,
   "metadata": {},
   "outputs": [
    {
     "data": {
      "text/plain": [
       "pandas.core.series.Series"
      ]
     },
     "execution_count": 12,
     "metadata": {},
     "output_type": "execute_result"
    }
   ],
   "source": [
    "type(concatenated)"
   ]
  },
  {
   "cell_type": "code",
   "execution_count": 13,
   "metadata": {},
   "outputs": [
    {
     "data": {
      "text/plain": [
       "label\n",
       "17422-7    b19v igg+igm ser-acnc parvovirus b19 igg+igm a...\n",
       "57312-1    prnp gene mut tested bld/t prnp gene mutations...\n",
       "72501-0    hcys 6h p met serpl-scnc homocyst(e)ine [moles...\n",
       "dtype: object"
      ]
     },
     "execution_count": 13,
     "metadata": {},
     "output_type": "execute_result"
    }
   ],
   "source": [
    "concatenated.sample(3)"
   ]
  },
  {
   "cell_type": "code",
   "execution_count": 14,
   "metadata": {
    "collapsed": true
   },
   "outputs": [],
   "source": [
    "df_all_concat = concatenated.to_frame('text')"
   ]
  },
  {
   "cell_type": "code",
   "execution_count": 15,
   "metadata": {},
   "outputs": [
    {
     "data": {
      "text/html": [
       "<div>\n",
       "<style>\n",
       "    .dataframe thead tr:only-child th {\n",
       "        text-align: right;\n",
       "    }\n",
       "\n",
       "    .dataframe thead th {\n",
       "        text-align: left;\n",
       "    }\n",
       "\n",
       "    .dataframe tbody tr th {\n",
       "        vertical-align: top;\n",
       "    }\n",
       "</style>\n",
       "<table border=\"1\" class=\"dataframe\">\n",
       "  <thead>\n",
       "    <tr style=\"text-align: right;\">\n",
       "      <th></th>\n",
       "      <th>text</th>\n",
       "    </tr>\n",
       "    <tr>\n",
       "      <th>label</th>\n",
       "      <th></th>\n",
       "    </tr>\n",
       "  </thead>\n",
       "  <tbody>\n",
       "    <tr>\n",
       "      <th>78077-5</th>\n",
       "      <td>being tired made it hard for me to remember t...</td>\n",
       "    </tr>\n",
       "    <tr>\n",
       "      <th>25343-5</th>\n",
       "      <td>fasciola igg ser-acnc fasciola sp igg ab [unit...</td>\n",
       "    </tr>\n",
       "    <tr>\n",
       "      <th>18511-6</th>\n",
       "      <td>p wave onset time refb p wave onset [time] ref...</td>\n",
       "    </tr>\n",
       "  </tbody>\n",
       "</table>\n",
       "</div>"
      ],
      "text/plain": [
       "                                                      text\n",
       "label                                                     \n",
       "78077-5   being tired made it hard for me to remember t...\n",
       "25343-5  fasciola igg ser-acnc fasciola sp igg ab [unit...\n",
       "18511-6  p wave onset time refb p wave onset [time] ref..."
      ]
     },
     "execution_count": 15,
     "metadata": {},
     "output_type": "execute_result"
    }
   ],
   "source": [
    "df_all_concat.sample(3)"
   ]
  },
  {
   "cell_type": "code",
   "execution_count": 16,
   "metadata": {
    "collapsed": true
   },
   "outputs": [],
   "source": [
    "df_all_concat['label'] = df_all_concat.index"
   ]
  },
  {
   "cell_type": "code",
   "execution_count": 17,
   "metadata": {},
   "outputs": [
    {
     "data": {
      "text/html": [
       "<div>\n",
       "<style>\n",
       "    .dataframe thead tr:only-child th {\n",
       "        text-align: right;\n",
       "    }\n",
       "\n",
       "    .dataframe thead th {\n",
       "        text-align: left;\n",
       "    }\n",
       "\n",
       "    .dataframe tbody tr th {\n",
       "        vertical-align: top;\n",
       "    }\n",
       "</style>\n",
       "<table border=\"1\" class=\"dataframe\">\n",
       "  <thead>\n",
       "    <tr style=\"text-align: right;\">\n",
       "      <th></th>\n",
       "      <th>text</th>\n",
       "      <th>label</th>\n",
       "    </tr>\n",
       "    <tr>\n",
       "      <th>label</th>\n",
       "      <th></th>\n",
       "      <th></th>\n",
       "    </tr>\n",
       "  </thead>\n",
       "  <tbody>\n",
       "    <tr>\n",
       "      <th>72020-1</th>\n",
       "      <td>vr-12 vitality (vt) score - oblique method t-...</td>\n",
       "      <td>72020-1</td>\n",
       "    </tr>\n",
       "    <tr>\n",
       "      <th>16703-1</th>\n",
       "      <td>cyclosporin plas-mcnc cyclosporine [mass/volum...</td>\n",
       "      <td>16703-1</td>\n",
       "    </tr>\n",
       "    <tr>\n",
       "      <th>59155-2</th>\n",
       "      <td>17ohp 20m p chal serpl-scnc 17-hydroxyprogeste...</td>\n",
       "      <td>59155-2</td>\n",
       "    </tr>\n",
       "  </tbody>\n",
       "</table>\n",
       "</div>"
      ],
      "text/plain": [
       "                                                      text    label\n",
       "label                                                              \n",
       "72020-1   vr-12 vitality (vt) score - oblique method t-...  72020-1\n",
       "16703-1  cyclosporin plas-mcnc cyclosporine [mass/volum...  16703-1\n",
       "59155-2  17ohp 20m p chal serpl-scnc 17-hydroxyprogeste...  59155-2"
      ]
     },
     "execution_count": 17,
     "metadata": {},
     "output_type": "execute_result"
    }
   ],
   "source": [
    "df_all_concat.sample(3)"
   ]
  },
  {
   "cell_type": "code",
   "execution_count": 18,
   "metadata": {
    "collapsed": true
   },
   "outputs": [],
   "source": [
    "# Save for gensim\n",
    "df_all_concat.to_csv('data/loinc-labeled-text-all-concatenated.csv', index=False)"
   ]
  },
  {
   "cell_type": "code",
   "execution_count": 19,
   "metadata": {
    "collapsed": true
   },
   "outputs": [],
   "source": [
    "df_all_concat_no_labels = df_all_concat['text']\n",
    "df_all_concat_no_labels.to_csv('data/loinc-all-concat-fasttext-no-label.txt', index=False, header=False)"
   ]
  },
  {
   "cell_type": "code",
   "execution_count": 21,
   "metadata": {},
   "outputs": [],
   "source": [
    "df_all_concat_with_labels = fasttext_label(df_all_concat, 'label', 'text')"
   ]
  },
  {
   "cell_type": "code",
   "execution_count": 22,
   "metadata": {},
   "outputs": [
    {
     "data": {
      "text/html": [
       "<div>\n",
       "<style>\n",
       "    .dataframe thead tr:only-child th {\n",
       "        text-align: right;\n",
       "    }\n",
       "\n",
       "    .dataframe thead th {\n",
       "        text-align: left;\n",
       "    }\n",
       "\n",
       "    .dataframe tbody tr th {\n",
       "        vertical-align: top;\n",
       "    }\n",
       "</style>\n",
       "<table border=\"1\" class=\"dataframe\">\n",
       "  <thead>\n",
       "    <tr style=\"text-align: right;\">\n",
       "      <th></th>\n",
       "      <th>0</th>\n",
       "    </tr>\n",
       "  </thead>\n",
       "  <tbody>\n",
       "    <tr>\n",
       "      <th>51360</th>\n",
       "      <td>__label__56821-2 problem exacerbating factors ...</td>\n",
       "    </tr>\n",
       "    <tr>\n",
       "      <th>79917</th>\n",
       "      <td>__label__83145-3 grip strength test nih grip s...</td>\n",
       "    </tr>\n",
       "    <tr>\n",
       "      <th>25836</th>\n",
       "      <td>__label__33623-0 penta-cp1 24h stl-mrate penta...</td>\n",
       "    </tr>\n",
       "  </tbody>\n",
       "</table>\n",
       "</div>"
      ],
      "text/plain": [
       "                                                       0\n",
       "51360  __label__56821-2 problem exacerbating factors ...\n",
       "79917  __label__83145-3 grip strength test nih grip s...\n",
       "25836  __label__33623-0 penta-cp1 24h stl-mrate penta..."
      ]
     },
     "execution_count": 22,
     "metadata": {},
     "output_type": "execute_result"
    }
   ],
   "source": [
    "df_all_concat_with_labels.sample(3)"
   ]
  },
  {
   "cell_type": "code",
   "execution_count": 23,
   "metadata": {
    "collapsed": true
   },
   "outputs": [],
   "source": [
    "df_all_concat_with_labels.to_csv('data/loinc-all-concat-fasttext-with-label.txt', index=False, header=False)"
   ]
  }
 ],
 "metadata": {
  "kernelspec": {
   "display_name": "Python 3",
   "language": "python",
   "name": "python3"
  },
  "language_info": {
   "codemirror_mode": {
    "name": "ipython",
    "version": 3
   },
   "file_extension": ".py",
   "mimetype": "text/x-python",
   "name": "python",
   "nbconvert_exporter": "python",
   "pygments_lexer": "ipython3",
   "version": "3.5.3"
  }
 },
 "nbformat": 4,
 "nbformat_minor": 2
}
