{
 "cells": [
  {
   "cell_type": "markdown",
   "metadata": {},
   "source": [
    "### Introduction\n",
    "\n",
    "LOINC short names and long names."
   ]
  },
  {
   "cell_type": "code",
   "execution_count": 1,
   "metadata": {
    "collapsed": true
   },
   "outputs": [],
   "source": [
    "from functools import reduce\n",
    "from collections import Counter\n",
    "import json\n",
    "import pandas as pd\n",
    "from gensim.models.doc2vec import Doc2Vec\n",
    "from gs import tokenize\n",
    "from gs import tagdocs\n",
    "from gs import train\n",
    "from gs import evaluate"
   ]
  },
  {
   "cell_type": "code",
   "execution_count": 2,
   "metadata": {},
   "outputs": [
    {
     "data": {
      "text/html": [
       "<div>\n",
       "<style>\n",
       "    .dataframe thead tr:only-child th {\n",
       "        text-align: right;\n",
       "    }\n",
       "\n",
       "    .dataframe thead th {\n",
       "        text-align: left;\n",
       "    }\n",
       "\n",
       "    .dataframe tbody tr th {\n",
       "        vertical-align: top;\n",
       "    }\n",
       "</style>\n",
       "<table border=\"1\" class=\"dataframe\">\n",
       "  <thead>\n",
       "    <tr style=\"text-align: right;\">\n",
       "      <th></th>\n",
       "      <th>label</th>\n",
       "      <th>text</th>\n",
       "      <th>source</th>\n",
       "      <th>text_normed</th>\n",
       "    </tr>\n",
       "  </thead>\n",
       "  <tbody>\n",
       "    <tr>\n",
       "      <th>153534</th>\n",
       "      <td>66567-9</td>\n",
       "      <td>Image name Spine PhenX</td>\n",
       "      <td>SHORTNAME</td>\n",
       "      <td>image name spine phenx</td>\n",
       "    </tr>\n",
       "    <tr>\n",
       "      <th>14962</th>\n",
       "      <td>74670-1</td>\n",
       "      <td>Cocaine+Metabolites [Presence] in Saliva (oral...</td>\n",
       "      <td>LONG_COMMON_NAME</td>\n",
       "      <td>cocaine+metabolites [presence] in saliva (oral...</td>\n",
       "    </tr>\n",
       "  </tbody>\n",
       "</table>\n",
       "</div>"
      ],
      "text/plain": [
       "          label                                               text  \\\n",
       "153534  66567-9                             Image name Spine PhenX   \n",
       "14962   74670-1  Cocaine+Metabolites [Presence] in Saliva (oral...   \n",
       "\n",
       "                  source                                        text_normed  \n",
       "153534         SHORTNAME                             image name spine phenx  \n",
       "14962   LONG_COMMON_NAME  cocaine+metabolites [presence] in saliva (oral...  "
      ]
     },
     "execution_count": 2,
     "metadata": {},
     "output_type": "execute_result"
    }
   ],
   "source": [
    "df = pd.read_csv('data/loinc-labeled-text-names.csv')\n",
    "df.sample(2)"
   ]
  },
  {
   "cell_type": "markdown",
   "metadata": {},
   "source": [
    "### Tag the documents"
   ]
  },
  {
   "cell_type": "code",
   "execution_count": 3,
   "metadata": {},
   "outputs": [
    {
     "data": {
      "text/plain": [
       "[TaggedDocument(words=['needed', 'help', 'doing', 'my', 'usual', 'activities', 'because', 'of', 'my', 'fatigue', 'in', 'the', 'past', 'days', 'neuroqol'], tags=['67925-8']),\n",
       " TaggedDocument(words=['coxsackievirus', 'ab', 'units', 'volume', 'in', 'serum'], tags=['7837-8'])]"
      ]
     },
     "execution_count": 3,
     "metadata": {},
     "output_type": "execute_result"
    }
   ],
   "source": [
    "docs = tagdocs(df)\n",
    "docs[:2]"
   ]
  },
  {
   "cell_type": "markdown",
   "metadata": {},
   "source": [
    "### Build the models"
   ]
  },
  {
   "cell_type": "code",
   "execution_count": 4,
   "metadata": {
    "collapsed": true
   },
   "outputs": [],
   "source": [
    "model50 = Doc2Vec(dm=0, min_count=1, size=50, window=5, hs=1, sample=0.01, negative=3, workers=4, iter=100)\n",
    "model300 = Doc2Vec(dm=0, min_count=1, size=300, window=7, hs=1, sample=0.01, negative=3, workers=4, iter=100)\n",
    "models = [model300, model50]"
   ]
  },
  {
   "cell_type": "code",
   "execution_count": 5,
   "metadata": {},
   "outputs": [
    {
     "name": "stdout",
     "output_type": "stream",
     "text": [
      "CPU times: user 20min 14s, sys: 2min 27s, total: 22min 42s\n",
      "Wall time: 13min 42s\n"
     ]
    }
   ],
   "source": [
    "%time train(docs, [model50, model300])"
   ]
  },
  {
   "cell_type": "markdown",
   "metadata": {},
   "source": [
    "### Evaluate the models"
   ]
  },
  {
   "cell_type": "code",
   "execution_count": 6,
   "metadata": {},
   "outputs": [
    {
     "name": "stdout",
     "output_type": "stream",
     "text": [
      "157577 95819\n"
     ]
    }
   ],
   "source": [
    "# Top 2 hit rate\n",
    "labels, hits = evaluate(df, model50)\n",
    "print(len(hits), reduce(lambda x,y: x+y, hits))"
   ]
  },
  {
   "cell_type": "code",
   "execution_count": 7,
   "metadata": {},
   "outputs": [
    {
     "name": "stdout",
     "output_type": "stream",
     "text": [
      "157577 125257\n"
     ]
    }
   ],
   "source": [
    "# Top 2 hit rate\n",
    "labels, hits = evaluate(df, model300)\n",
    "print(len(hits), reduce(lambda x,y: x+y, hits))"
   ]
  },
  {
   "cell_type": "markdown",
   "metadata": {},
   "source": [
    "### Run some examples"
   ]
  },
  {
   "cell_type": "code",
   "execution_count": 8,
   "metadata": {},
   "outputs": [
    {
     "data": {
      "text/plain": [
       "[('47436-1', 0.4600881338119507),\n",
       " ('24316-2', 0.4451015591621399),\n",
       " ('83095-0', 0.44373759627342224),\n",
       " ('35398-7', 0.4420682489871979),\n",
       " ('33479-7', 0.42958277463912964),\n",
       " ('23971-5', 0.42857277393341064),\n",
       " ('5158-1', 0.4173392653465271),\n",
       " ('47437-9', 0.4164949953556061),\n",
       " ('13237-3', 0.4150683879852295),\n",
       " ('48638-1', 0.4141130745410919)]"
      ]
     },
     "execution_count": 8,
     "metadata": {},
     "output_type": "execute_result"
    }
   ],
   "source": [
    "# Mayo Clinic Test ID: EBVE 56104\n",
    "# Should map to LOINC 50969-5\n",
    "words = tokenize('Epstein-Barr Virus (EBV), IgG Antibody to Early Antigen, Serum')\n",
    "model300.docvecs.most_similar([model300.infer_vector(words)])"
   ]
  },
  {
   "cell_type": "code",
   "execution_count": 10,
   "metadata": {},
   "outputs": [
    {
     "data": {
      "text/html": [
       "<div>\n",
       "<style>\n",
       "    .dataframe thead tr:only-child th {\n",
       "        text-align: right;\n",
       "    }\n",
       "\n",
       "    .dataframe thead th {\n",
       "        text-align: left;\n",
       "    }\n",
       "\n",
       "    .dataframe tbody tr th {\n",
       "        vertical-align: top;\n",
       "    }\n",
       "</style>\n",
       "<table border=\"1\" class=\"dataframe\">\n",
       "  <thead>\n",
       "    <tr style=\"text-align: right;\">\n",
       "      <th></th>\n",
       "      <th>label</th>\n",
       "      <th>text</th>\n",
       "      <th>source</th>\n",
       "      <th>text_normed</th>\n",
       "    </tr>\n",
       "  </thead>\n",
       "  <tbody>\n",
       "    <tr>\n",
       "      <th>2330</th>\n",
       "      <td>24316-2</td>\n",
       "      <td>EBV VCA IgG+IgM Pnl Ser</td>\n",
       "      <td>SHORTNAME</td>\n",
       "      <td>ebv vca igg+igm pnl ser</td>\n",
       "    </tr>\n",
       "    <tr>\n",
       "      <th>21696</th>\n",
       "      <td>5158-1</td>\n",
       "      <td>Epstein Barr virus capsid IgG Ab [Titer] in Se...</td>\n",
       "      <td>LONG_COMMON_NAME</td>\n",
       "      <td>epstein barr virus capsid igg ab [titer] in se...</td>\n",
       "    </tr>\n",
       "    <tr>\n",
       "      <th>34027</th>\n",
       "      <td>23971-5</td>\n",
       "      <td>EBV EA IgG Titr Ser</td>\n",
       "      <td>SHORTNAME</td>\n",
       "      <td>ebv ea igg titr ser</td>\n",
       "    </tr>\n",
       "    <tr>\n",
       "      <th>35159</th>\n",
       "      <td>83095-0</td>\n",
       "      <td>EBV VCA+EA IgG Ser Ql IA</td>\n",
       "      <td>SHORTNAME</td>\n",
       "      <td>ebv vca+ea igg ser ql ia</td>\n",
       "    </tr>\n",
       "    <tr>\n",
       "      <th>36306</th>\n",
       "      <td>83095-0</td>\n",
       "      <td>Epstein Barr virus capsid+early IgG Ab [Presen...</td>\n",
       "      <td>LONG_COMMON_NAME</td>\n",
       "      <td>epstein barr virus capsid+early igg ab [presen...</td>\n",
       "    </tr>\n",
       "    <tr>\n",
       "      <th>40114</th>\n",
       "      <td>35398-7</td>\n",
       "      <td>EBV DNA Mouth Ql PCR</td>\n",
       "      <td>SHORTNAME</td>\n",
       "      <td>ebv dna mouth ql pcr</td>\n",
       "    </tr>\n",
       "    <tr>\n",
       "      <th>47262</th>\n",
       "      <td>23971-5</td>\n",
       "      <td>Epstein Barr virus early IgG Ab [Titer] in Serum</td>\n",
       "      <td>LONG_COMMON_NAME</td>\n",
       "      <td>epstein barr virus early igg ab [titer] in serum</td>\n",
       "    </tr>\n",
       "    <tr>\n",
       "      <th>53594</th>\n",
       "      <td>24316-2</td>\n",
       "      <td>Epstein Barr virus capsid IgG and IgM panel - ...</td>\n",
       "      <td>LONG_COMMON_NAME</td>\n",
       "      <td>epstein barr virus capsid igg and igm panel - ...</td>\n",
       "    </tr>\n",
       "    <tr>\n",
       "      <th>59659</th>\n",
       "      <td>48638-1</td>\n",
       "      <td>Cryoglobulin type [Identifier] in Serum by Imm...</td>\n",
       "      <td>LONG_COMMON_NAME</td>\n",
       "      <td>cryoglobulin type [identifier] in serum by imm...</td>\n",
       "    </tr>\n",
       "    <tr>\n",
       "      <th>68192</th>\n",
       "      <td>48638-1</td>\n",
       "      <td>Cryoglob Typ Ser IFE</td>\n",
       "      <td>SHORTNAME</td>\n",
       "      <td>cryoglob typ ser ife</td>\n",
       "    </tr>\n",
       "    <tr>\n",
       "      <th>77584</th>\n",
       "      <td>35398-7</td>\n",
       "      <td>Epstein Barr virus DNA [Presence] in Mouth by ...</td>\n",
       "      <td>LONG_COMMON_NAME</td>\n",
       "      <td>epstein barr virus dna [presence] in mouth by ...</td>\n",
       "    </tr>\n",
       "    <tr>\n",
       "      <th>82387</th>\n",
       "      <td>47436-1</td>\n",
       "      <td>EBV EA IgG Titr Fld</td>\n",
       "      <td>SHORTNAME</td>\n",
       "      <td>ebv ea igg titr fld</td>\n",
       "    </tr>\n",
       "    <tr>\n",
       "      <th>88879</th>\n",
       "      <td>33479-7</td>\n",
       "      <td>Epstein Barr virus early restricted Ab [Titer]...</td>\n",
       "      <td>LONG_COMMON_NAME</td>\n",
       "      <td>epstein barr virus early restricted ab [titer]...</td>\n",
       "    </tr>\n",
       "    <tr>\n",
       "      <th>101682</th>\n",
       "      <td>47436-1</td>\n",
       "      <td>Epstein Barr virus early IgG Ab [Titer] in Bod...</td>\n",
       "      <td>LONG_COMMON_NAME</td>\n",
       "      <td>epstein barr virus early igg ab [titer] in bod...</td>\n",
       "    </tr>\n",
       "    <tr>\n",
       "      <th>115423</th>\n",
       "      <td>33479-7</td>\n",
       "      <td>EBV EA-R Ab Titr Ser</td>\n",
       "      <td>SHORTNAME</td>\n",
       "      <td>ebv ea-r ab titr ser</td>\n",
       "    </tr>\n",
       "    <tr>\n",
       "      <th>129093</th>\n",
       "      <td>47437-9</td>\n",
       "      <td>Epstein Barr virus early restricted Ab [Presen...</td>\n",
       "      <td>LONG_COMMON_NAME</td>\n",
       "      <td>epstein barr virus early restricted ab [presen...</td>\n",
       "    </tr>\n",
       "    <tr>\n",
       "      <th>132059</th>\n",
       "      <td>47437-9</td>\n",
       "      <td>EBV EA-R Ab Ser Ql</td>\n",
       "      <td>SHORTNAME</td>\n",
       "      <td>ebv ea-r ab ser ql</td>\n",
       "    </tr>\n",
       "    <tr>\n",
       "      <th>134565</th>\n",
       "      <td>5158-1</td>\n",
       "      <td>EBV VCA IgG Titr Ser IF</td>\n",
       "      <td>SHORTNAME</td>\n",
       "      <td>ebv vca igg titr ser if</td>\n",
       "    </tr>\n",
       "    <tr>\n",
       "      <th>145011</th>\n",
       "      <td>13237-3</td>\n",
       "      <td>EBV EA-R Ab Ser Ql IF</td>\n",
       "      <td>SHORTNAME</td>\n",
       "      <td>ebv ea-r ab ser ql if</td>\n",
       "    </tr>\n",
       "    <tr>\n",
       "      <th>155142</th>\n",
       "      <td>13237-3</td>\n",
       "      <td>Epstein Barr virus early restricted Ab [Presen...</td>\n",
       "      <td>LONG_COMMON_NAME</td>\n",
       "      <td>epstein barr virus early restricted ab [presen...</td>\n",
       "    </tr>\n",
       "  </tbody>\n",
       "</table>\n",
       "</div>"
      ],
      "text/plain": [
       "          label                                               text  \\\n",
       "2330    24316-2                            EBV VCA IgG+IgM Pnl Ser   \n",
       "21696    5158-1  Epstein Barr virus capsid IgG Ab [Titer] in Se...   \n",
       "34027   23971-5                                EBV EA IgG Titr Ser   \n",
       "35159   83095-0                           EBV VCA+EA IgG Ser Ql IA   \n",
       "36306   83095-0  Epstein Barr virus capsid+early IgG Ab [Presen...   \n",
       "40114   35398-7                               EBV DNA Mouth Ql PCR   \n",
       "47262   23971-5   Epstein Barr virus early IgG Ab [Titer] in Serum   \n",
       "53594   24316-2  Epstein Barr virus capsid IgG and IgM panel - ...   \n",
       "59659   48638-1  Cryoglobulin type [Identifier] in Serum by Imm...   \n",
       "68192   48638-1                               Cryoglob Typ Ser IFE   \n",
       "77584   35398-7  Epstein Barr virus DNA [Presence] in Mouth by ...   \n",
       "82387   47436-1                                EBV EA IgG Titr Fld   \n",
       "88879   33479-7  Epstein Barr virus early restricted Ab [Titer]...   \n",
       "101682  47436-1  Epstein Barr virus early IgG Ab [Titer] in Bod...   \n",
       "115423  33479-7                               EBV EA-R Ab Titr Ser   \n",
       "129093  47437-9  Epstein Barr virus early restricted Ab [Presen...   \n",
       "132059  47437-9                                 EBV EA-R Ab Ser Ql   \n",
       "134565   5158-1                            EBV VCA IgG Titr Ser IF   \n",
       "145011  13237-3                              EBV EA-R Ab Ser Ql IF   \n",
       "155142  13237-3  Epstein Barr virus early restricted Ab [Presen...   \n",
       "\n",
       "                  source                                        text_normed  \n",
       "2330           SHORTNAME                            ebv vca igg+igm pnl ser  \n",
       "21696   LONG_COMMON_NAME  epstein barr virus capsid igg ab [titer] in se...  \n",
       "34027          SHORTNAME                                ebv ea igg titr ser  \n",
       "35159          SHORTNAME                           ebv vca+ea igg ser ql ia  \n",
       "36306   LONG_COMMON_NAME  epstein barr virus capsid+early igg ab [presen...  \n",
       "40114          SHORTNAME                               ebv dna mouth ql pcr  \n",
       "47262   LONG_COMMON_NAME   epstein barr virus early igg ab [titer] in serum  \n",
       "53594   LONG_COMMON_NAME  epstein barr virus capsid igg and igm panel - ...  \n",
       "59659   LONG_COMMON_NAME  cryoglobulin type [identifier] in serum by imm...  \n",
       "68192          SHORTNAME                               cryoglob typ ser ife  \n",
       "77584   LONG_COMMON_NAME  epstein barr virus dna [presence] in mouth by ...  \n",
       "82387          SHORTNAME                                ebv ea igg titr fld  \n",
       "88879   LONG_COMMON_NAME  epstein barr virus early restricted ab [titer]...  \n",
       "101682  LONG_COMMON_NAME  epstein barr virus early igg ab [titer] in bod...  \n",
       "115423         SHORTNAME                               ebv ea-r ab titr ser  \n",
       "129093  LONG_COMMON_NAME  epstein barr virus early restricted ab [presen...  \n",
       "132059         SHORTNAME                                 ebv ea-r ab ser ql  \n",
       "134565         SHORTNAME                            ebv vca igg titr ser if  \n",
       "145011         SHORTNAME                              ebv ea-r ab ser ql if  \n",
       "155142  LONG_COMMON_NAME  epstein barr virus early restricted ab [presen...  "
      ]
     },
     "execution_count": 10,
     "metadata": {},
     "output_type": "execute_result"
    }
   ],
   "source": [
    "similar = ['47436-1', '24316-2', '83095-0', '35398-7', '33479-7',\n",
    "           '23971-5', '5158-1', '47437-9', '13237-3', '48638-1']\n",
    "df[df['label'].isin(similar)]"
   ]
  },
  {
   "cell_type": "code",
   "execution_count": 11,
   "metadata": {},
   "outputs": [
    {
     "data": {
      "text/plain": [
       "[('24316-2', 48.64946645498276),\n",
       " ('47436-1', 48.33875101804733),\n",
       " ('23971-5', 42.6216177046299),\n",
       " ('83095-0', 40.47811743617058),\n",
       " ('5158-1', 35.447747230529785),\n",
       " ('47066-6', 35.27552109956741),\n",
       " ('7886-5', 32.2407329082489),\n",
       " ('35398-7', 31.34234368801117),\n",
       " ('7885-7', 29.453456193208694),\n",
       " ('20491-7', 24.863735914230347)]"
      ]
     },
     "execution_count": 11,
     "metadata": {},
     "output_type": "execute_result"
    }
   ],
   "source": [
    "# The method infer_vector() has randomness. The results are not deterministic\n",
    "# especially if the model is not well trained.\n",
    "# Run 100 times, tally the most common\n",
    "words = tokenize('Epstein-Barr Virus (EBV), IgG Antibody to Early Antigen, Serum')\n",
    "counter = Counter()\n",
    "for i in range(100):\n",
    "    docs = model300.docvecs.most_similar([model300.infer_vector(words)])\n",
    "    for doc in docs:\n",
    "        if doc[0] not in counter:\n",
    "            counter[doc[0]] = doc[1]\n",
    "        else:\n",
    "            counter[doc[0]] += doc[1]\n",
    "counter.most_common(10)"
   ]
  },
  {
   "cell_type": "code",
   "execution_count": 12,
   "metadata": {},
   "outputs": [
    {
     "data": {
      "text/html": [
       "<div>\n",
       "<style>\n",
       "    .dataframe thead tr:only-child th {\n",
       "        text-align: right;\n",
       "    }\n",
       "\n",
       "    .dataframe thead th {\n",
       "        text-align: left;\n",
       "    }\n",
       "\n",
       "    .dataframe tbody tr th {\n",
       "        vertical-align: top;\n",
       "    }\n",
       "</style>\n",
       "<table border=\"1\" class=\"dataframe\">\n",
       "  <thead>\n",
       "    <tr style=\"text-align: right;\">\n",
       "      <th></th>\n",
       "      <th>label</th>\n",
       "      <th>text</th>\n",
       "      <th>source</th>\n",
       "      <th>text_normed</th>\n",
       "    </tr>\n",
       "  </thead>\n",
       "  <tbody>\n",
       "    <tr>\n",
       "      <th>2330</th>\n",
       "      <td>24316-2</td>\n",
       "      <td>EBV VCA IgG+IgM Pnl Ser</td>\n",
       "      <td>SHORTNAME</td>\n",
       "      <td>ebv vca igg+igm pnl ser</td>\n",
       "    </tr>\n",
       "    <tr>\n",
       "      <th>13838</th>\n",
       "      <td>47066-6</td>\n",
       "      <td>Epstein Barr virus capsid IgM Ab [Titer] in Bo...</td>\n",
       "      <td>LONG_COMMON_NAME</td>\n",
       "      <td>epstein barr virus capsid igm ab [titer] in bo...</td>\n",
       "    </tr>\n",
       "    <tr>\n",
       "      <th>21696</th>\n",
       "      <td>5158-1</td>\n",
       "      <td>Epstein Barr virus capsid IgG Ab [Titer] in Se...</td>\n",
       "      <td>LONG_COMMON_NAME</td>\n",
       "      <td>epstein barr virus capsid igg ab [titer] in se...</td>\n",
       "    </tr>\n",
       "    <tr>\n",
       "      <th>34027</th>\n",
       "      <td>23971-5</td>\n",
       "      <td>EBV EA IgG Titr Ser</td>\n",
       "      <td>SHORTNAME</td>\n",
       "      <td>ebv ea igg titr ser</td>\n",
       "    </tr>\n",
       "    <tr>\n",
       "      <th>35159</th>\n",
       "      <td>83095-0</td>\n",
       "      <td>EBV VCA+EA IgG Ser Ql IA</td>\n",
       "      <td>SHORTNAME</td>\n",
       "      <td>ebv vca+ea igg ser ql ia</td>\n",
       "    </tr>\n",
       "    <tr>\n",
       "      <th>36306</th>\n",
       "      <td>83095-0</td>\n",
       "      <td>Epstein Barr virus capsid+early IgG Ab [Presen...</td>\n",
       "      <td>LONG_COMMON_NAME</td>\n",
       "      <td>epstein barr virus capsid+early igg ab [presen...</td>\n",
       "    </tr>\n",
       "    <tr>\n",
       "      <th>40114</th>\n",
       "      <td>35398-7</td>\n",
       "      <td>EBV DNA Mouth Ql PCR</td>\n",
       "      <td>SHORTNAME</td>\n",
       "      <td>ebv dna mouth ql pcr</td>\n",
       "    </tr>\n",
       "    <tr>\n",
       "      <th>47262</th>\n",
       "      <td>23971-5</td>\n",
       "      <td>Epstein Barr virus early IgG Ab [Titer] in Serum</td>\n",
       "      <td>LONG_COMMON_NAME</td>\n",
       "      <td>epstein barr virus early igg ab [titer] in serum</td>\n",
       "    </tr>\n",
       "    <tr>\n",
       "      <th>53594</th>\n",
       "      <td>24316-2</td>\n",
       "      <td>Epstein Barr virus capsid IgG and IgM panel - ...</td>\n",
       "      <td>LONG_COMMON_NAME</td>\n",
       "      <td>epstein barr virus capsid igg and igm panel - ...</td>\n",
       "    </tr>\n",
       "    <tr>\n",
       "      <th>60759</th>\n",
       "      <td>7886-5</td>\n",
       "      <td>Epstein Barr virus capsid IgM Ab [Units/volume...</td>\n",
       "      <td>LONG_COMMON_NAME</td>\n",
       "      <td>epstein barr virus capsid igm ab [units/volume...</td>\n",
       "    </tr>\n",
       "    <tr>\n",
       "      <th>65393</th>\n",
       "      <td>20491-7</td>\n",
       "      <td>EBV VCA IgM Titr Ser</td>\n",
       "      <td>SHORTNAME</td>\n",
       "      <td>ebv vca igm titr ser</td>\n",
       "    </tr>\n",
       "    <tr>\n",
       "      <th>70236</th>\n",
       "      <td>20491-7</td>\n",
       "      <td>Epstein Barr virus capsid IgM Ab [Titer] in Serum</td>\n",
       "      <td>LONG_COMMON_NAME</td>\n",
       "      <td>epstein barr virus capsid igm ab [titer] in serum</td>\n",
       "    </tr>\n",
       "    <tr>\n",
       "      <th>73023</th>\n",
       "      <td>7885-7</td>\n",
       "      <td>EBV VCA IgG Ser-aCnc</td>\n",
       "      <td>SHORTNAME</td>\n",
       "      <td>ebv vca igg ser-acnc</td>\n",
       "    </tr>\n",
       "    <tr>\n",
       "      <th>77584</th>\n",
       "      <td>35398-7</td>\n",
       "      <td>Epstein Barr virus DNA [Presence] in Mouth by ...</td>\n",
       "      <td>LONG_COMMON_NAME</td>\n",
       "      <td>epstein barr virus dna [presence] in mouth by ...</td>\n",
       "    </tr>\n",
       "    <tr>\n",
       "      <th>77705</th>\n",
       "      <td>7885-7</td>\n",
       "      <td>Epstein Barr virus capsid IgG Ab [Units/volume...</td>\n",
       "      <td>LONG_COMMON_NAME</td>\n",
       "      <td>epstein barr virus capsid igg ab [units/volume...</td>\n",
       "    </tr>\n",
       "    <tr>\n",
       "      <th>82387</th>\n",
       "      <td>47436-1</td>\n",
       "      <td>EBV EA IgG Titr Fld</td>\n",
       "      <td>SHORTNAME</td>\n",
       "      <td>ebv ea igg titr fld</td>\n",
       "    </tr>\n",
       "    <tr>\n",
       "      <th>101682</th>\n",
       "      <td>47436-1</td>\n",
       "      <td>Epstein Barr virus early IgG Ab [Titer] in Bod...</td>\n",
       "      <td>LONG_COMMON_NAME</td>\n",
       "      <td>epstein barr virus early igg ab [titer] in bod...</td>\n",
       "    </tr>\n",
       "    <tr>\n",
       "      <th>119587</th>\n",
       "      <td>47066-6</td>\n",
       "      <td>EBV VCA IgM Titr Fld IF</td>\n",
       "      <td>SHORTNAME</td>\n",
       "      <td>ebv vca igm titr fld if</td>\n",
       "    </tr>\n",
       "    <tr>\n",
       "      <th>134565</th>\n",
       "      <td>5158-1</td>\n",
       "      <td>EBV VCA IgG Titr Ser IF</td>\n",
       "      <td>SHORTNAME</td>\n",
       "      <td>ebv vca igg titr ser if</td>\n",
       "    </tr>\n",
       "    <tr>\n",
       "      <th>146110</th>\n",
       "      <td>7886-5</td>\n",
       "      <td>EBV VCA IgM Ser-aCnc</td>\n",
       "      <td>SHORTNAME</td>\n",
       "      <td>ebv vca igm ser-acnc</td>\n",
       "    </tr>\n",
       "  </tbody>\n",
       "</table>\n",
       "</div>"
      ],
      "text/plain": [
       "          label                                               text  \\\n",
       "2330    24316-2                            EBV VCA IgG+IgM Pnl Ser   \n",
       "13838   47066-6  Epstein Barr virus capsid IgM Ab [Titer] in Bo...   \n",
       "21696    5158-1  Epstein Barr virus capsid IgG Ab [Titer] in Se...   \n",
       "34027   23971-5                                EBV EA IgG Titr Ser   \n",
       "35159   83095-0                           EBV VCA+EA IgG Ser Ql IA   \n",
       "36306   83095-0  Epstein Barr virus capsid+early IgG Ab [Presen...   \n",
       "40114   35398-7                               EBV DNA Mouth Ql PCR   \n",
       "47262   23971-5   Epstein Barr virus early IgG Ab [Titer] in Serum   \n",
       "53594   24316-2  Epstein Barr virus capsid IgG and IgM panel - ...   \n",
       "60759    7886-5  Epstein Barr virus capsid IgM Ab [Units/volume...   \n",
       "65393   20491-7                               EBV VCA IgM Titr Ser   \n",
       "70236   20491-7  Epstein Barr virus capsid IgM Ab [Titer] in Serum   \n",
       "73023    7885-7                               EBV VCA IgG Ser-aCnc   \n",
       "77584   35398-7  Epstein Barr virus DNA [Presence] in Mouth by ...   \n",
       "77705    7885-7  Epstein Barr virus capsid IgG Ab [Units/volume...   \n",
       "82387   47436-1                                EBV EA IgG Titr Fld   \n",
       "101682  47436-1  Epstein Barr virus early IgG Ab [Titer] in Bod...   \n",
       "119587  47066-6                            EBV VCA IgM Titr Fld IF   \n",
       "134565   5158-1                            EBV VCA IgG Titr Ser IF   \n",
       "146110   7886-5                               EBV VCA IgM Ser-aCnc   \n",
       "\n",
       "                  source                                        text_normed  \n",
       "2330           SHORTNAME                            ebv vca igg+igm pnl ser  \n",
       "13838   LONG_COMMON_NAME  epstein barr virus capsid igm ab [titer] in bo...  \n",
       "21696   LONG_COMMON_NAME  epstein barr virus capsid igg ab [titer] in se...  \n",
       "34027          SHORTNAME                                ebv ea igg titr ser  \n",
       "35159          SHORTNAME                           ebv vca+ea igg ser ql ia  \n",
       "36306   LONG_COMMON_NAME  epstein barr virus capsid+early igg ab [presen...  \n",
       "40114          SHORTNAME                               ebv dna mouth ql pcr  \n",
       "47262   LONG_COMMON_NAME   epstein barr virus early igg ab [titer] in serum  \n",
       "53594   LONG_COMMON_NAME  epstein barr virus capsid igg and igm panel - ...  \n",
       "60759   LONG_COMMON_NAME  epstein barr virus capsid igm ab [units/volume...  \n",
       "65393          SHORTNAME                               ebv vca igm titr ser  \n",
       "70236   LONG_COMMON_NAME  epstein barr virus capsid igm ab [titer] in serum  \n",
       "73023          SHORTNAME                               ebv vca igg ser-acnc  \n",
       "77584   LONG_COMMON_NAME  epstein barr virus dna [presence] in mouth by ...  \n",
       "77705   LONG_COMMON_NAME  epstein barr virus capsid igg ab [units/volume...  \n",
       "82387          SHORTNAME                                ebv ea igg titr fld  \n",
       "101682  LONG_COMMON_NAME  epstein barr virus early igg ab [titer] in bod...  \n",
       "119587         SHORTNAME                            ebv vca igm titr fld if  \n",
       "134565         SHORTNAME                            ebv vca igg titr ser if  \n",
       "146110         SHORTNAME                               ebv vca igm ser-acnc  "
      ]
     },
     "execution_count": 12,
     "metadata": {},
     "output_type": "execute_result"
    }
   ],
   "source": [
    "# The results seem to have better hits than models trained\n",
    "# on long names only as the top 10 are all about EBV\n",
    "similar = [_[0] for _ in counter.most_common(10)]\n",
    "df[df['label'].isin(similar)]"
   ]
  },
  {
   "cell_type": "code",
   "execution_count": 13,
   "metadata": {},
   "outputs": [
    {
     "data": {
      "text/plain": [
       "[('23972-3', 34.919836938381195),\n",
       " ('24316-2', 33.34568375349045),\n",
       " ('23971-5', 27.544857621192932),\n",
       " ('47434-6', 26.79735666513443),\n",
       " ('7886-5', 25.865068554878235),\n",
       " ('42497-8', 21.475822925567627),\n",
       " ('7936-8', 18.781601190567017),\n",
       " ('24007-7', 18.045230448246002),\n",
       " ('22295-0', 15.935540854930878),\n",
       " ('31371-8', 15.49030590057373)]"
      ]
     },
     "execution_count": 13,
     "metadata": {},
     "output_type": "execute_result"
    }
   ],
   "source": [
    "# Model50\n",
    "words = tokenize('Epstein-Barr Virus (EBV), IgG Antibody to Early Antigen, Serum')\n",
    "counter = Counter()\n",
    "for i in range(100):\n",
    "    docs = model50.docvecs.most_similar([model50.infer_vector(words)])\n",
    "    for doc in docs:\n",
    "        if doc[0] not in counter:\n",
    "            counter[doc[0]] = doc[1]\n",
    "        else:\n",
    "            counter[doc[0]] += doc[1]\n",
    "counter.most_common(10)"
   ]
  },
  {
   "cell_type": "code",
   "execution_count": 14,
   "metadata": {},
   "outputs": [
    {
     "data": {
      "text/html": [
       "<div>\n",
       "<style>\n",
       "    .dataframe thead tr:only-child th {\n",
       "        text-align: right;\n",
       "    }\n",
       "\n",
       "    .dataframe thead th {\n",
       "        text-align: left;\n",
       "    }\n",
       "\n",
       "    .dataframe tbody tr th {\n",
       "        vertical-align: top;\n",
       "    }\n",
       "</style>\n",
       "<table border=\"1\" class=\"dataframe\">\n",
       "  <thead>\n",
       "    <tr style=\"text-align: right;\">\n",
       "      <th></th>\n",
       "      <th>label</th>\n",
       "      <th>text</th>\n",
       "      <th>source</th>\n",
       "      <th>text_normed</th>\n",
       "    </tr>\n",
       "  </thead>\n",
       "  <tbody>\n",
       "    <tr>\n",
       "      <th>1429</th>\n",
       "      <td>7936-8</td>\n",
       "      <td>JEV RNA Ser Ql PCR</td>\n",
       "      <td>SHORTNAME</td>\n",
       "      <td>jev rna ser ql pcr</td>\n",
       "    </tr>\n",
       "    <tr>\n",
       "      <th>2330</th>\n",
       "      <td>24316-2</td>\n",
       "      <td>EBV VCA IgG+IgM Pnl Ser</td>\n",
       "      <td>SHORTNAME</td>\n",
       "      <td>ebv vca igg+igm pnl ser</td>\n",
       "    </tr>\n",
       "    <tr>\n",
       "      <th>13770</th>\n",
       "      <td>47434-6</td>\n",
       "      <td>EBV EA-D Ab Ser Ql</td>\n",
       "      <td>SHORTNAME</td>\n",
       "      <td>ebv ea-d ab ser ql</td>\n",
       "    </tr>\n",
       "    <tr>\n",
       "      <th>20568</th>\n",
       "      <td>24007-7</td>\n",
       "      <td>EBV EA IgG Ser-aCnc</td>\n",
       "      <td>SHORTNAME</td>\n",
       "      <td>ebv ea igg ser-acnc</td>\n",
       "    </tr>\n",
       "    <tr>\n",
       "      <th>21951</th>\n",
       "      <td>23972-3</td>\n",
       "      <td>EBV EA IgG Titr CSF</td>\n",
       "      <td>SHORTNAME</td>\n",
       "      <td>ebv ea igg titr csf</td>\n",
       "    </tr>\n",
       "    <tr>\n",
       "      <th>25453</th>\n",
       "      <td>31371-8</td>\n",
       "      <td>EBV EA IgG CSF-aCnc</td>\n",
       "      <td>SHORTNAME</td>\n",
       "      <td>ebv ea igg csf-acnc</td>\n",
       "    </tr>\n",
       "    <tr>\n",
       "      <th>34027</th>\n",
       "      <td>23971-5</td>\n",
       "      <td>EBV EA IgG Titr Ser</td>\n",
       "      <td>SHORTNAME</td>\n",
       "      <td>ebv ea igg titr ser</td>\n",
       "    </tr>\n",
       "    <tr>\n",
       "      <th>40550</th>\n",
       "      <td>47434-6</td>\n",
       "      <td>Epstein Barr virus early diffuse Ab [Presence]...</td>\n",
       "      <td>LONG_COMMON_NAME</td>\n",
       "      <td>epstein barr virus early diffuse ab [presence]...</td>\n",
       "    </tr>\n",
       "    <tr>\n",
       "      <th>43576</th>\n",
       "      <td>31371-8</td>\n",
       "      <td>Epstein Barr virus early IgG Ab [Units/volume]...</td>\n",
       "      <td>LONG_COMMON_NAME</td>\n",
       "      <td>epstein barr virus early igg ab [units/volume]...</td>\n",
       "    </tr>\n",
       "    <tr>\n",
       "      <th>47262</th>\n",
       "      <td>23971-5</td>\n",
       "      <td>Epstein Barr virus early IgG Ab [Titer] in Serum</td>\n",
       "      <td>LONG_COMMON_NAME</td>\n",
       "      <td>epstein barr virus early igg ab [titer] in serum</td>\n",
       "    </tr>\n",
       "    <tr>\n",
       "      <th>53594</th>\n",
       "      <td>24316-2</td>\n",
       "      <td>Epstein Barr virus capsid IgG and IgM panel - ...</td>\n",
       "      <td>LONG_COMMON_NAME</td>\n",
       "      <td>epstein barr virus capsid igg and igm panel - ...</td>\n",
       "    </tr>\n",
       "    <tr>\n",
       "      <th>53757</th>\n",
       "      <td>42497-8</td>\n",
       "      <td>EBV EA Ab Titr CSF</td>\n",
       "      <td>SHORTNAME</td>\n",
       "      <td>ebv ea ab titr csf</td>\n",
       "    </tr>\n",
       "    <tr>\n",
       "      <th>60759</th>\n",
       "      <td>7886-5</td>\n",
       "      <td>Epstein Barr virus capsid IgM Ab [Units/volume...</td>\n",
       "      <td>LONG_COMMON_NAME</td>\n",
       "      <td>epstein barr virus capsid igm ab [units/volume...</td>\n",
       "    </tr>\n",
       "    <tr>\n",
       "      <th>66827</th>\n",
       "      <td>23972-3</td>\n",
       "      <td>Epstein Barr virus early IgG Ab [Titer] in Cer...</td>\n",
       "      <td>LONG_COMMON_NAME</td>\n",
       "      <td>epstein barr virus early igg ab [titer] in cer...</td>\n",
       "    </tr>\n",
       "    <tr>\n",
       "      <th>74027</th>\n",
       "      <td>42497-8</td>\n",
       "      <td>Epstein Barr virus early Ab [Titer] in Cerebra...</td>\n",
       "      <td>LONG_COMMON_NAME</td>\n",
       "      <td>epstein barr virus early ab [titer] in cerebra...</td>\n",
       "    </tr>\n",
       "    <tr>\n",
       "      <th>91286</th>\n",
       "      <td>7936-8</td>\n",
       "      <td>Japanese encephalitis virus RNA [Presence] in ...</td>\n",
       "      <td>LONG_COMMON_NAME</td>\n",
       "      <td>japanese encephalitis virus rna [presence] in ...</td>\n",
       "    </tr>\n",
       "    <tr>\n",
       "      <th>96389</th>\n",
       "      <td>22295-0</td>\n",
       "      <td>Epstein Barr virus early IgG Ab [Presence] in ...</td>\n",
       "      <td>LONG_COMMON_NAME</td>\n",
       "      <td>epstein barr virus early igg ab [presence] in ...</td>\n",
       "    </tr>\n",
       "    <tr>\n",
       "      <th>144769</th>\n",
       "      <td>24007-7</td>\n",
       "      <td>Epstein Barr virus early IgG Ab [Units/volume]...</td>\n",
       "      <td>LONG_COMMON_NAME</td>\n",
       "      <td>epstein barr virus early igg ab [units/volume]...</td>\n",
       "    </tr>\n",
       "    <tr>\n",
       "      <th>146110</th>\n",
       "      <td>7886-5</td>\n",
       "      <td>EBV VCA IgM Ser-aCnc</td>\n",
       "      <td>SHORTNAME</td>\n",
       "      <td>ebv vca igm ser-acnc</td>\n",
       "    </tr>\n",
       "    <tr>\n",
       "      <th>149179</th>\n",
       "      <td>22295-0</td>\n",
       "      <td>EBV EA IgG Ser Ql</td>\n",
       "      <td>SHORTNAME</td>\n",
       "      <td>ebv ea igg ser ql</td>\n",
       "    </tr>\n",
       "  </tbody>\n",
       "</table>\n",
       "</div>"
      ],
      "text/plain": [
       "          label                                               text  \\\n",
       "1429     7936-8                                 JEV RNA Ser Ql PCR   \n",
       "2330    24316-2                            EBV VCA IgG+IgM Pnl Ser   \n",
       "13770   47434-6                                 EBV EA-D Ab Ser Ql   \n",
       "20568   24007-7                                EBV EA IgG Ser-aCnc   \n",
       "21951   23972-3                                EBV EA IgG Titr CSF   \n",
       "25453   31371-8                                EBV EA IgG CSF-aCnc   \n",
       "34027   23971-5                                EBV EA IgG Titr Ser   \n",
       "40550   47434-6  Epstein Barr virus early diffuse Ab [Presence]...   \n",
       "43576   31371-8  Epstein Barr virus early IgG Ab [Units/volume]...   \n",
       "47262   23971-5   Epstein Barr virus early IgG Ab [Titer] in Serum   \n",
       "53594   24316-2  Epstein Barr virus capsid IgG and IgM panel - ...   \n",
       "53757   42497-8                                 EBV EA Ab Titr CSF   \n",
       "60759    7886-5  Epstein Barr virus capsid IgM Ab [Units/volume...   \n",
       "66827   23972-3  Epstein Barr virus early IgG Ab [Titer] in Cer...   \n",
       "74027   42497-8  Epstein Barr virus early Ab [Titer] in Cerebra...   \n",
       "91286    7936-8  Japanese encephalitis virus RNA [Presence] in ...   \n",
       "96389   22295-0  Epstein Barr virus early IgG Ab [Presence] in ...   \n",
       "144769  24007-7  Epstein Barr virus early IgG Ab [Units/volume]...   \n",
       "146110   7886-5                               EBV VCA IgM Ser-aCnc   \n",
       "149179  22295-0                                  EBV EA IgG Ser Ql   \n",
       "\n",
       "                  source                                        text_normed  \n",
       "1429           SHORTNAME                                 jev rna ser ql pcr  \n",
       "2330           SHORTNAME                            ebv vca igg+igm pnl ser  \n",
       "13770          SHORTNAME                                 ebv ea-d ab ser ql  \n",
       "20568          SHORTNAME                                ebv ea igg ser-acnc  \n",
       "21951          SHORTNAME                                ebv ea igg titr csf  \n",
       "25453          SHORTNAME                                ebv ea igg csf-acnc  \n",
       "34027          SHORTNAME                                ebv ea igg titr ser  \n",
       "40550   LONG_COMMON_NAME  epstein barr virus early diffuse ab [presence]...  \n",
       "43576   LONG_COMMON_NAME  epstein barr virus early igg ab [units/volume]...  \n",
       "47262   LONG_COMMON_NAME   epstein barr virus early igg ab [titer] in serum  \n",
       "53594   LONG_COMMON_NAME  epstein barr virus capsid igg and igm panel - ...  \n",
       "53757          SHORTNAME                                 ebv ea ab titr csf  \n",
       "60759   LONG_COMMON_NAME  epstein barr virus capsid igm ab [units/volume...  \n",
       "66827   LONG_COMMON_NAME  epstein barr virus early igg ab [titer] in cer...  \n",
       "74027   LONG_COMMON_NAME  epstein barr virus early ab [titer] in cerebra...  \n",
       "91286   LONG_COMMON_NAME  japanese encephalitis virus rna [presence] in ...  \n",
       "96389   LONG_COMMON_NAME  epstein barr virus early igg ab [presence] in ...  \n",
       "144769  LONG_COMMON_NAME  epstein barr virus early igg ab [units/volume]...  \n",
       "146110         SHORTNAME                               ebv vca igm ser-acnc  \n",
       "149179         SHORTNAME                                  ebv ea igg ser ql  "
      ]
     },
     "execution_count": 14,
     "metadata": {},
     "output_type": "execute_result"
    }
   ],
   "source": [
    "similar = [_[0] for _ in counter.most_common(10)]\n",
    "df[df['label'].isin(similar)]"
   ]
  },
  {
   "cell_type": "code",
   "execution_count": 15,
   "metadata": {},
   "outputs": [
    {
     "data": {
      "text/plain": [
       "[('clumps', 0.23260585963726044),\n",
       " ('expectation', 0.2140417993068695),\n",
       " ('radiotherapy', 0.21192626655101776),\n",
       " ('sc', 0.2101733386516571),\n",
       " ('phage', 0.20290859043598175),\n",
       " ('basis', 0.19850529730319977),\n",
       " ('tropheryma', 0.19565574824810028),\n",
       " ('eta', 0.19346044957637787),\n",
       " ('huntington', 0.18593721091747284),\n",
       " ('triprolidine', 0.18499647080898285)]"
      ]
     },
     "execution_count": 15,
     "metadata": {},
     "output_type": "execute_result"
    }
   ],
   "source": [
    "model300.most_similar('volume')"
   ]
  },
  {
   "cell_type": "code",
   "execution_count": 16,
   "metadata": {},
   "outputs": [
    {
     "data": {
      "text/plain": [
       "[('stemphylium', 0.2266412377357483),\n",
       " ('corresponds', 0.22417479753494263),\n",
       " ('dcb', 0.2197464555501938),\n",
       " ('colds', 0.216793030500412),\n",
       " ('hypertension', 0.21315120160579681),\n",
       " ('schmorl', 0.21014277637004852),\n",
       " ('ghost', 0.21007652580738068),\n",
       " ('vaccines', 0.20926731824874878),\n",
       " ('botg', 0.20909249782562256),\n",
       " ('pa', 0.20865176618099213)]"
      ]
     },
     "execution_count": 16,
     "metadata": {},
     "output_type": "execute_result"
    }
   ],
   "source": [
    "model300.most_similar('moles')"
   ]
  },
  {
   "cell_type": "code",
   "execution_count": 17,
   "metadata": {},
   "outputs": [
    {
     "data": {
      "text/plain": [
       "[('loudly', 0.24894078075885773),\n",
       " ('bedfast', 0.24159587919712067),\n",
       " ('mycobacteria', 0.21509405970573425),\n",
       " ('neopterin', 0.21297617256641388),\n",
       " ('itis', 0.2102903425693512),\n",
       " ('psych', 0.2046247124671936),\n",
       " ('softball', 0.19912400841712952),\n",
       " ('ird', 0.19900789856910706),\n",
       " ('inspiration', 0.1957864761352539),\n",
       " ('tmstprange', 0.18929478526115417)]"
      ]
     },
     "execution_count": 17,
     "metadata": {},
     "output_type": "execute_result"
    }
   ],
   "source": [
    "model300.most_similar('serum')"
   ]
  },
  {
   "cell_type": "code",
   "execution_count": 18,
   "metadata": {},
   "outputs": [
    {
     "data": {
      "text/plain": [
       "[('cucurbitaceous', 0.2404169887304306),\n",
       " ('prussian', 0.2152346521615982),\n",
       " ('drain', 0.2114323377609253),\n",
       " ('pathological', 0.2026025503873825),\n",
       " ('fearing', 0.20049935579299927),\n",
       " ('reflecting', 0.20041228830814362),\n",
       " ('selected', 0.19779998064041138),\n",
       " ('discharge', 0.19205184280872345),\n",
       " ('longbeachae', 0.19103780388832092),\n",
       " ('tetrofosmin', 0.1906396597623825)]"
      ]
     },
     "execution_count": 18,
     "metadata": {},
     "output_type": "execute_result"
    }
   ],
   "source": [
    "model300.most_similar('plasma')"
   ]
  },
  {
   "cell_type": "code",
   "execution_count": 19,
   "metadata": {},
   "outputs": [
    {
     "data": {
      "text/plain": [
       "[('hgd', 0.23734012246131897),\n",
       " ('absorbed', 0.2357843816280365),\n",
       " ('hum', 0.22418248653411865),\n",
       " ('semliki', 0.21614745259284973),\n",
       " ('men', 0.21577033400535583),\n",
       " ('alcohols', 0.21456559002399445),\n",
       " ('trps', 0.20623928308486938),\n",
       " ('sentences', 0.20320552587509155),\n",
       " ('shots', 0.1983593851327896),\n",
       " ('molar', 0.1969108283519745)]"
      ]
     },
     "execution_count": 19,
     "metadata": {},
     "output_type": "execute_result"
    }
   ],
   "source": [
    "model300.most_similar('blood')"
   ]
  },
  {
   "cell_type": "code",
   "execution_count": 20,
   "metadata": {},
   "outputs": [
    {
     "data": {
      "text/plain": [
       "[('protocol', 0.23490993678569794),\n",
       " ('seek', 0.21646831929683685),\n",
       " ('but', 0.20729440450668335),\n",
       " ('terrified', 0.20406435430049896),\n",
       " ('identify', 0.19988307356834412),\n",
       " ('psitt', 0.19947919249534607),\n",
       " ('happens', 0.19912078976631165),\n",
       " ('syrup', 0.1978151500225067),\n",
       " ('butabarbital', 0.19764350354671478),\n",
       " ('solani', 0.19713544845581055)]"
      ]
     },
     "execution_count": 20,
     "metadata": {},
     "output_type": "execute_result"
    }
   ],
   "source": [
    "model300.most_similar('streptococcus')"
   ]
  },
  {
   "cell_type": "code",
   "execution_count": 21,
   "metadata": {},
   "outputs": [
    {
     "data": {
      "text/plain": [
       "[('defensive', 0.21428321301937103),\n",
       " ('portosystemic', 0.21238891780376434),\n",
       " ('wes', 0.2107398509979248),\n",
       " ('iadls', 0.2062404453754425),\n",
       " ('padv', 0.20236900448799133),\n",
       " ('aap', 0.1995161473751068),\n",
       " ('ipss', 0.19533191621303558),\n",
       " ('lidocain', 0.1941021978855133),\n",
       " ('piv', 0.191688671708107),\n",
       " ('estimation', 0.19055801630020142)]"
      ]
     },
     "execution_count": 21,
     "metadata": {},
     "output_type": "execute_result"
    }
   ],
   "source": [
    "model300.most_similar('glucose')"
   ]
  },
  {
   "cell_type": "code",
   "execution_count": 22,
   "metadata": {},
   "outputs": [
    {
     "data": {
      "text/plain": [
       "[('auth', 0.23866820335388184),\n",
       " ('congolensis', 0.21769201755523682),\n",
       " ('told', 0.21700794994831085),\n",
       " ('bang', 0.20489785075187683),\n",
       " ('acidified', 0.19865907728672028),\n",
       " ('style', 0.19300800561904907),\n",
       " ('uea', 0.19146479666233063),\n",
       " ('now', 0.19122052192687988),\n",
       " ('euroglyphus', 0.186101034283638),\n",
       " ('liter', 0.18312163650989532)]"
      ]
     },
     "execution_count": 22,
     "metadata": {},
     "output_type": "execute_result"
    }
   ],
   "source": [
    "model300.most_similar('acetaminophen')"
   ]
  },
  {
   "cell_type": "code",
   "execution_count": 23,
   "metadata": {},
   "outputs": [
    {
     "data": {
      "text/plain": [
       "[('mcd', 0.23703092336654663),\n",
       " ('usu', 0.21397759020328522),\n",
       " ('danger', 0.20548413693904877),\n",
       " ('reacted', 0.20282073318958282),\n",
       " ('dilemma', 0.1979306936264038),\n",
       " ('remind', 0.19624178111553192),\n",
       " ('mozzarella', 0.1951010674238205),\n",
       " ('stores', 0.1924324482679367),\n",
       " ('unexpected', 0.19134823977947235),\n",
       " ('unusually', 0.1912660300731659)]"
      ]
     },
     "execution_count": 23,
     "metadata": {},
     "output_type": "execute_result"
    }
   ],
   "source": [
    "model300.most_similar('diabetes')"
   ]
  },
  {
   "cell_type": "code",
   "execution_count": 24,
   "metadata": {},
   "outputs": [
    {
     "data": {
      "text/plain": [
       "[('16451-7', 0.6121147871017456),\n",
       " ('74150-4', 0.6081527471542358),\n",
       " ('66678-4', 0.6045306921005249),\n",
       " ('55399-0', 0.5851263403892517),\n",
       " ('56853-5', 0.5850776433944702),\n",
       " ('76654-3', 0.584358811378479),\n",
       " ('74151-2', 0.572638750076294),\n",
       " ('45636-8', 0.5639801621437073),\n",
       " ('5594-7', 0.5522032380104065),\n",
       " ('62787-7', 0.5516591668128967)]"
      ]
     },
     "execution_count": 24,
     "metadata": {},
     "output_type": "execute_result"
    }
   ],
   "source": [
    "model300.docvecs.most_similar([model300.infer_vector(['diabetes'])])"
   ]
  },
  {
   "cell_type": "code",
   "execution_count": 25,
   "metadata": {},
   "outputs": [
    {
     "data": {
      "text/html": [
       "<div>\n",
       "<style>\n",
       "    .dataframe thead tr:only-child th {\n",
       "        text-align: right;\n",
       "    }\n",
       "\n",
       "    .dataframe thead th {\n",
       "        text-align: left;\n",
       "    }\n",
       "\n",
       "    .dataframe tbody tr th {\n",
       "        vertical-align: top;\n",
       "    }\n",
       "</style>\n",
       "<table border=\"1\" class=\"dataframe\">\n",
       "  <thead>\n",
       "    <tr style=\"text-align: right;\">\n",
       "      <th></th>\n",
       "      <th>label</th>\n",
       "      <th>text</th>\n",
       "      <th>source</th>\n",
       "      <th>text_normed</th>\n",
       "    </tr>\n",
       "  </thead>\n",
       "  <tbody>\n",
       "    <tr>\n",
       "      <th>10707</th>\n",
       "      <td>16451-7</td>\n",
       "      <td>Beryllium [Presence] in Urine</td>\n",
       "      <td>LONG_COMMON_NAME</td>\n",
       "      <td>beryllium [presence] in urine</td>\n",
       "    </tr>\n",
       "    <tr>\n",
       "      <th>45409</th>\n",
       "      <td>74150-4</td>\n",
       "      <td>Diabetes Type I action plan</td>\n",
       "      <td>LONG_COMMON_NAME</td>\n",
       "      <td>diabetes type i action plan</td>\n",
       "    </tr>\n",
       "    <tr>\n",
       "      <th>47365</th>\n",
       "      <td>66678-4</td>\n",
       "      <td>Diabetes PhenX</td>\n",
       "      <td>SHORTNAME</td>\n",
       "      <td>diabetes phenx</td>\n",
       "    </tr>\n",
       "    <tr>\n",
       "      <th>105601</th>\n",
       "      <td>16451-7</td>\n",
       "      <td>Beryllium Ur Ql</td>\n",
       "      <td>SHORTNAME</td>\n",
       "      <td>beryllium ur ql</td>\n",
       "    </tr>\n",
       "    <tr>\n",
       "      <th>123600</th>\n",
       "      <td>74150-4</td>\n",
       "      <td>Diabetes type I action plan</td>\n",
       "      <td>SHORTNAME</td>\n",
       "      <td>diabetes type i action plan</td>\n",
       "    </tr>\n",
       "    <tr>\n",
       "      <th>151721</th>\n",
       "      <td>66678-4</td>\n",
       "      <td>Diabetes [PhenX]</td>\n",
       "      <td>LONG_COMMON_NAME</td>\n",
       "      <td>diabetes [phenx]</td>\n",
       "    </tr>\n",
       "  </tbody>\n",
       "</table>\n",
       "</div>"
      ],
      "text/plain": [
       "          label                           text            source  \\\n",
       "10707   16451-7  Beryllium [Presence] in Urine  LONG_COMMON_NAME   \n",
       "45409   74150-4    Diabetes Type I action plan  LONG_COMMON_NAME   \n",
       "47365   66678-4                 Diabetes PhenX         SHORTNAME   \n",
       "105601  16451-7                Beryllium Ur Ql         SHORTNAME   \n",
       "123600  74150-4    Diabetes type I action plan         SHORTNAME   \n",
       "151721  66678-4               Diabetes [PhenX]  LONG_COMMON_NAME   \n",
       "\n",
       "                          text_normed  \n",
       "10707   beryllium [presence] in urine  \n",
       "45409     diabetes type i action plan  \n",
       "47365                  diabetes phenx  \n",
       "105601                beryllium ur ql  \n",
       "123600    diabetes type i action plan  \n",
       "151721               diabetes [phenx]  "
      ]
     },
     "execution_count": 25,
     "metadata": {},
     "output_type": "execute_result"
    }
   ],
   "source": [
    "similar = ['16451-7', '74150-4', '66678-4']\n",
    "df[df['label'].isin(similar)]"
   ]
  },
  {
   "cell_type": "code",
   "execution_count": 26,
   "metadata": {},
   "outputs": [
    {
     "data": {
      "text/plain": [
       "[('70182-1', 0.687208354473114),\n",
       " ('8862-5', 0.6406380534172058),\n",
       " ('8863-3', 0.6285802721977234),\n",
       " ('8864-1', 0.627647340297699),\n",
       " ('70195-3', 0.6224223971366882),\n",
       " ('76297-1', 0.621720552444458),\n",
       " ('67521-5', 0.6214814782142639),\n",
       " ('70188-8', 0.6202735900878906),\n",
       " ('69523-9', 0.6122249960899353),\n",
       " ('76563-6', 0.6086527705192566)]"
      ]
     },
     "execution_count": 26,
     "metadata": {},
     "output_type": "execute_result"
    }
   ],
   "source": [
    "model300.docvecs.most_similar([model300.infer_vector(['stroke'])])"
   ]
  },
  {
   "cell_type": "code",
   "execution_count": 27,
   "metadata": {},
   "outputs": [
    {
     "data": {
      "text/html": [
       "<div>\n",
       "<style>\n",
       "    .dataframe thead tr:only-child th {\n",
       "        text-align: right;\n",
       "    }\n",
       "\n",
       "    .dataframe thead th {\n",
       "        text-align: left;\n",
       "    }\n",
       "\n",
       "    .dataframe tbody tr th {\n",
       "        vertical-align: top;\n",
       "    }\n",
       "</style>\n",
       "<table border=\"1\" class=\"dataframe\">\n",
       "  <thead>\n",
       "    <tr style=\"text-align: right;\">\n",
       "      <th></th>\n",
       "      <th>label</th>\n",
       "      <th>text</th>\n",
       "      <th>source</th>\n",
       "      <th>text_normed</th>\n",
       "    </tr>\n",
       "  </thead>\n",
       "  <tbody>\n",
       "    <tr>\n",
       "      <th>15641</th>\n",
       "      <td>8862-5</td>\n",
       "      <td>Right ventricular Stroke work</td>\n",
       "      <td>LONG_COMMON_NAME</td>\n",
       "      <td>right ventricular stroke work</td>\n",
       "    </tr>\n",
       "    <tr>\n",
       "      <th>56582</th>\n",
       "      <td>8863-3</td>\n",
       "      <td>LV Stroke work index</td>\n",
       "      <td>SHORTNAME</td>\n",
       "      <td>lv stroke work index</td>\n",
       "    </tr>\n",
       "    <tr>\n",
       "      <th>83969</th>\n",
       "      <td>70182-1</td>\n",
       "      <td>NIH Stroke Scale</td>\n",
       "      <td>LONG_COMMON_NAME</td>\n",
       "      <td>nih stroke scale</td>\n",
       "    </tr>\n",
       "    <tr>\n",
       "      <th>135785</th>\n",
       "      <td>8863-3</td>\n",
       "      <td>Left ventricular stroke work index</td>\n",
       "      <td>LONG_COMMON_NAME</td>\n",
       "      <td>left ventricular stroke work index</td>\n",
       "    </tr>\n",
       "    <tr>\n",
       "      <th>139920</th>\n",
       "      <td>8862-5</td>\n",
       "      <td>RV Stroke work</td>\n",
       "      <td>SHORTNAME</td>\n",
       "      <td>rv stroke work</td>\n",
       "    </tr>\n",
       "  </tbody>\n",
       "</table>\n",
       "</div>"
      ],
      "text/plain": [
       "          label                                text            source  \\\n",
       "15641    8862-5       Right ventricular Stroke work  LONG_COMMON_NAME   \n",
       "56582    8863-3                LV Stroke work index         SHORTNAME   \n",
       "83969   70182-1                    NIH Stroke Scale  LONG_COMMON_NAME   \n",
       "135785   8863-3  Left ventricular stroke work index  LONG_COMMON_NAME   \n",
       "139920   8862-5                      RV Stroke work         SHORTNAME   \n",
       "\n",
       "                               text_normed  \n",
       "15641        right ventricular stroke work  \n",
       "56582                 lv stroke work index  \n",
       "83969                     nih stroke scale  \n",
       "135785  left ventricular stroke work index  \n",
       "139920                      rv stroke work  "
      ]
     },
     "execution_count": 27,
     "metadata": {},
     "output_type": "execute_result"
    }
   ],
   "source": [
    "similar = ['70182-1', '8862-5', '8863-3']\n",
    "df[df['label'].isin(similar)]"
   ]
  },
  {
   "cell_type": "markdown",
   "metadata": {},
   "source": [
    "### Save the model"
   ]
  },
  {
   "cell_type": "code",
   "execution_count": 28,
   "metadata": {
    "collapsed": true
   },
   "outputs": [],
   "source": [
    "model300.save('gensim/loinc-model-names-300.d2v')"
   ]
  }
 ],
 "metadata": {
  "kernelspec": {
   "display_name": "Python 3",
   "language": "python",
   "name": "python3"
  },
  "language_info": {
   "codemirror_mode": {
    "name": "ipython",
    "version": 3
   },
   "file_extension": ".py",
   "mimetype": "text/x-python",
   "name": "python",
   "nbconvert_exporter": "python",
   "pygments_lexer": "ipython3",
   "version": "3.5.3"
  }
 },
 "nbformat": 4,
 "nbformat_minor": 2
}
