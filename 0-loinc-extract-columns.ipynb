{
 "cells": [
  {
   "cell_type": "code",
   "execution_count": 1,
   "metadata": {
    "collapsed": true
   },
   "outputs": [],
   "source": [
    "import pandas as pd\n",
    "from pandas import DataFrame"
   ]
  },
  {
   "cell_type": "code",
   "execution_count": 2,
   "metadata": {},
   "outputs": [
    {
     "name": "stderr",
     "output_type": "stream",
     "text": [
      "/Users/ericwu/Applications/miniconda3/envs/gensim3/lib/python3.5/site-packages/IPython/core/interactiveshell.py:2683: DtypeWarning: Columns (8,15,17,18,25,26,39,40,41,42,43,44,45) have mixed types. Specify dtype option on import or set low_memory=False.\n",
      "  interactivity=interactivity, compiler=compiler, result=result)\n"
     ]
    }
   ],
   "source": [
    "df_loinc = pd.read_csv('data/loinc.csv')"
   ]
  },
  {
   "cell_type": "code",
   "execution_count": 3,
   "metadata": {},
   "outputs": [
    {
     "data": {
      "text/plain": [
       "Index(['LOINC_NUM', 'COMPONENT', 'PROPERTY', 'TIME_ASPCT', 'SYSTEM',\n",
       "       'SCALE_TYP', 'METHOD_TYP', 'CLASS', 'VersionLastChanged', 'CHNG_TYPE',\n",
       "       'DefinitionDescription', 'STATUS', 'CONSUMER_NAME', 'CLASSTYPE',\n",
       "       'FORMULA', 'SPECIES', 'EXMPL_ANSWERS', 'SURVEY_QUEST_TEXT',\n",
       "       'SURVEY_QUEST_SRC', 'UNITSREQUIRED', 'SUBMITTED_UNITS', 'RELATEDNAMES2',\n",
       "       'SHORTNAME', 'ORDER_OBS', 'CDISC_COMMON_TESTS', 'HL7_FIELD_SUBFIELD_ID',\n",
       "       'EXTERNAL_COPYRIGHT_NOTICE', 'EXAMPLE_UNITS', 'LONG_COMMON_NAME',\n",
       "       'UnitsAndRange', 'DOCUMENT_SECTION', 'EXAMPLE_UCUM_UNITS',\n",
       "       'EXAMPLE_SI_UCUM_UNITS', 'STATUS_REASON', 'STATUS_TEXT',\n",
       "       'CHANGE_REASON_PUBLIC', 'COMMON_TEST_RANK', 'COMMON_ORDER_RANK',\n",
       "       'COMMON_SI_TEST_RANK', 'HL7_ATTACHMENT_STRUCTURE',\n",
       "       'EXTERNAL_COPYRIGHT_LINK', 'PanelType', 'AskAtOrderEntry',\n",
       "       'AssociatedObservations', 'VersionFirstReleased',\n",
       "       'ValidHL7AttachmentRequest'],\n",
       "      dtype='object')"
      ]
     },
     "execution_count": 3,
     "metadata": {},
     "output_type": "execute_result"
    }
   ],
   "source": [
    "df_loinc.columns"
   ]
  },
  {
   "cell_type": "code",
   "execution_count": 4,
   "metadata": {
    "collapsed": true
   },
   "outputs": [],
   "source": [
    "cols = ['LOINC_NUM', 'COMPONENT', 'PROPERTY', 'TIME_ASPCT', 'SYSTEM', 'SCALE_TYP', 'METHOD_TYP', 'CLASS',\n",
    "       'SHORTNAME', 'LONG_COMMON_NAME', 'RELATEDNAMES2']"
   ]
  },
  {
   "cell_type": "code",
   "execution_count": 5,
   "metadata": {},
   "outputs": [
    {
     "data": {
      "text/html": [
       "<div>\n",
       "<style>\n",
       "    .dataframe thead tr:only-child th {\n",
       "        text-align: right;\n",
       "    }\n",
       "\n",
       "    .dataframe thead th {\n",
       "        text-align: left;\n",
       "    }\n",
       "\n",
       "    .dataframe tbody tr th {\n",
       "        vertical-align: top;\n",
       "    }\n",
       "</style>\n",
       "<table border=\"1\" class=\"dataframe\">\n",
       "  <thead>\n",
       "    <tr style=\"text-align: right;\">\n",
       "      <th></th>\n",
       "      <th>LOINC_NUM</th>\n",
       "      <th>COMPONENT</th>\n",
       "      <th>PROPERTY</th>\n",
       "      <th>TIME_ASPCT</th>\n",
       "      <th>SYSTEM</th>\n",
       "      <th>SCALE_TYP</th>\n",
       "      <th>METHOD_TYP</th>\n",
       "      <th>CLASS</th>\n",
       "      <th>SHORTNAME</th>\n",
       "      <th>LONG_COMMON_NAME</th>\n",
       "      <th>RELATEDNAMES2</th>\n",
       "    </tr>\n",
       "  </thead>\n",
       "  <tbody>\n",
       "    <tr>\n",
       "      <th>3764</th>\n",
       "      <td>1331-8</td>\n",
       "      <td>V Ab</td>\n",
       "      <td>PrThr</td>\n",
       "      <td>Pt</td>\n",
       "      <td>Ser/Plas</td>\n",
       "      <td>Ord</td>\n",
       "      <td>NaN</td>\n",
       "      <td>BLDBK</td>\n",
       "      <td>V Ab SerPl Ql</td>\n",
       "      <td>V Ab [Presence] in Serum or Plasma</td>\n",
       "      <td>ABS; Aby; Antby; Anti; Antibodies; Antibody; A...</td>\n",
       "    </tr>\n",
       "    <tr>\n",
       "      <th>30070</th>\n",
       "      <td>38268-9</td>\n",
       "      <td>Bone density</td>\n",
       "      <td>Find</td>\n",
       "      <td>Pt</td>\n",
       "      <td>Whole body&gt;Skeletal system</td>\n",
       "      <td>Doc</td>\n",
       "      <td>DXA</td>\n",
       "      <td>RAD</td>\n",
       "      <td>Skeletal DXA BMD</td>\n",
       "      <td>Skeletal system DXA Bone density</td>\n",
       "      <td>BMD; bod; Bodies; Bone Densiometry; Bone Densi...</td>\n",
       "    </tr>\n",
       "    <tr>\n",
       "      <th>21105</th>\n",
       "      <td>29328-2</td>\n",
       "      <td>Xylose^2.5H post dose xylose PO</td>\n",
       "      <td>MCnc</td>\n",
       "      <td>Pt</td>\n",
       "      <td>Bld</td>\n",
       "      <td>Qn</td>\n",
       "      <td>NaN</td>\n",
       "      <td>CHAL</td>\n",
       "      <td>Xylose 2.5h p Xyl PO Bld-mCnc</td>\n",
       "      <td>Xylose [Mass/volume] in Blood --2.5 hours post...</td>\n",
       "      <td>2.5h p Xyl PO; After; Blood; CHEMISTRY.CHALLEN...</td>\n",
       "    </tr>\n",
       "    <tr>\n",
       "      <th>46552</th>\n",
       "      <td>52403-3</td>\n",
       "      <td>Activities permitted</td>\n",
       "      <td>Find</td>\n",
       "      <td>Pt</td>\n",
       "      <td>Speech therapy treatment plan</td>\n",
       "      <td>Nar</td>\n",
       "      <td>NaN</td>\n",
       "      <td>ATTACH.REHAB.SPEECH</td>\n",
       "      <td>NaN</td>\n",
       "      <td>Speech therapy treatment plan, Activities perm...</td>\n",
       "      <td>ATTACH; ATTACH.REHAB; ATTACH.REHAB.SPEECH; Fin...</td>\n",
       "    </tr>\n",
       "    <tr>\n",
       "      <th>77288</th>\n",
       "      <td>80663-8</td>\n",
       "      <td>4-Hydroxy 3-Nitrophenylacetate</td>\n",
       "      <td>MCnc</td>\n",
       "      <td>Pt</td>\n",
       "      <td>Urine</td>\n",
       "      <td>Qn</td>\n",
       "      <td>NaN</td>\n",
       "      <td>DRUG/TOX</td>\n",
       "      <td>HNPAA Ur-mCnc</td>\n",
       "      <td>4-Hydroxy 3-Nitrophenylacetate (HNPAA) [Mass/v...</td>\n",
       "      <td>DRUG/TOXICOLOGY; Drugs; HNPAA; Hydrox; III; Le...</td>\n",
       "    </tr>\n",
       "  </tbody>\n",
       "</table>\n",
       "</div>"
      ],
      "text/plain": [
       "      LOINC_NUM                        COMPONENT PROPERTY TIME_ASPCT  \\\n",
       "3764     1331-8                             V Ab    PrThr         Pt   \n",
       "30070   38268-9                     Bone density     Find         Pt   \n",
       "21105   29328-2  Xylose^2.5H post dose xylose PO     MCnc         Pt   \n",
       "46552   52403-3             Activities permitted     Find         Pt   \n",
       "77288   80663-8   4-Hydroxy 3-Nitrophenylacetate     MCnc         Pt   \n",
       "\n",
       "                              SYSTEM SCALE_TYP METHOD_TYP  \\\n",
       "3764                        Ser/Plas       Ord        NaN   \n",
       "30070     Whole body>Skeletal system       Doc        DXA   \n",
       "21105                            Bld        Qn        NaN   \n",
       "46552  Speech therapy treatment plan       Nar        NaN   \n",
       "77288                          Urine        Qn        NaN   \n",
       "\n",
       "                     CLASS                      SHORTNAME  \\\n",
       "3764                 BLDBK                  V Ab SerPl Ql   \n",
       "30070                  RAD               Skeletal DXA BMD   \n",
       "21105                 CHAL  Xylose 2.5h p Xyl PO Bld-mCnc   \n",
       "46552  ATTACH.REHAB.SPEECH                            NaN   \n",
       "77288             DRUG/TOX                  HNPAA Ur-mCnc   \n",
       "\n",
       "                                        LONG_COMMON_NAME  \\\n",
       "3764                  V Ab [Presence] in Serum or Plasma   \n",
       "30070                   Skeletal system DXA Bone density   \n",
       "21105  Xylose [Mass/volume] in Blood --2.5 hours post...   \n",
       "46552  Speech therapy treatment plan, Activities perm...   \n",
       "77288  4-Hydroxy 3-Nitrophenylacetate (HNPAA) [Mass/v...   \n",
       "\n",
       "                                           RELATEDNAMES2  \n",
       "3764   ABS; Aby; Antby; Anti; Antibodies; Antibody; A...  \n",
       "30070  BMD; bod; Bodies; Bone Densiometry; Bone Densi...  \n",
       "21105  2.5h p Xyl PO; After; Blood; CHEMISTRY.CHALLEN...  \n",
       "46552  ATTACH; ATTACH.REHAB; ATTACH.REHAB.SPEECH; Fin...  \n",
       "77288  DRUG/TOXICOLOGY; Drugs; HNPAA; Hydrox; III; Le...  "
      ]
     },
     "execution_count": 5,
     "metadata": {},
     "output_type": "execute_result"
    }
   ],
   "source": [
    "df_loinc[cols].sample(5)"
   ]
  },
  {
   "cell_type": "markdown",
   "metadata": {},
   "source": [
    "### Columns for embeddings\n",
    "\n",
    "The goal is collect short sentences that can be used to generate the embeddings.\n",
    "\n",
    "The following columns contain values that can be used directly as sentences for generating embeddings: \n",
    "\n",
    "    ['COMPONENT', 'SHORTNAME', 'LONG_COMMON_NAME', 'SYSTEM', 'CLASS']\n",
    "\n",
    "The column `RELATEDNAMES` must split by \";\" into multiple sentences.\n",
    "\n",
    "The final out put will be a data frame of 3 columns: `['LOINC_NUM', 'SENTENCE', 'ORG_COLUMN']`\n",
    "\n",
    "* LOINC_NUM -- The LOINC number is the label\n",
    "* SENTENCE -- The sentences that will be used to generate the embeddings\n",
    "* ORG_COLUMN -- The original column containing the sentence"
   ]
  },
  {
   "cell_type": "code",
   "execution_count": 6,
   "metadata": {
    "collapsed": true
   },
   "outputs": [],
   "source": [
    "df_component = df_loinc[['LOINC_NUM', 'COMPONENT']]\n",
    "df_short_name = df_loinc[['LOINC_NUM', 'SHORTNAME']]\n",
    "df_long_name = df_loinc[['LOINC_NUM', 'LONG_COMMON_NAME']]\n",
    "df_system = df_loinc[['LOINC_NUM', 'SYSTEM']]\n",
    "df_class = df_loinc[['LOINC_NUM', 'CLASS']]\n",
    "df_related = df_loinc[['LOINC_NUM', 'RELATEDNAMES2']]"
   ]
  },
  {
   "cell_type": "code",
   "execution_count": 7,
   "metadata": {},
   "outputs": [],
   "source": [
    "# Split the related names by ';' and save them into separate rows\n",
    "rows = []\n",
    "for index, row in df_related.iterrows():\n",
    "    loinc_num = row['LOINC_NUM']\n",
    "    names = row['RELATEDNAMES2']\n",
    "    for name in names.split(';'):\n",
    "        name = name.strip()\n",
    "        new_row = {\n",
    "            'LOINC_NUM': loinc_num,\n",
    "            'RELATED_NAME': name\n",
    "        }\n",
    "        rows.append(new_row)\n",
    "df_related = DataFrame(rows)"
   ]
  },
  {
   "cell_type": "code",
   "execution_count": 8,
   "metadata": {},
   "outputs": [
    {
     "data": {
      "text/plain": [
       "(1791428, 2)"
      ]
     },
     "execution_count": 8,
     "metadata": {},
     "output_type": "execute_result"
    }
   ],
   "source": [
    "df_related.shape"
   ]
  },
  {
   "cell_type": "code",
   "execution_count": 9,
   "metadata": {},
   "outputs": [
    {
     "data": {
      "text/html": [
       "<div>\n",
       "<style>\n",
       "    .dataframe thead tr:only-child th {\n",
       "        text-align: right;\n",
       "    }\n",
       "\n",
       "    .dataframe thead th {\n",
       "        text-align: left;\n",
       "    }\n",
       "\n",
       "    .dataframe tbody tr th {\n",
       "        vertical-align: top;\n",
       "    }\n",
       "</style>\n",
       "<table border=\"1\" class=\"dataframe\">\n",
       "  <thead>\n",
       "    <tr style=\"text-align: right;\">\n",
       "      <th></th>\n",
       "      <th>LOINC_NUM</th>\n",
       "      <th>RELATED_NAME</th>\n",
       "    </tr>\n",
       "  </thead>\n",
       "  <tbody>\n",
       "    <tr>\n",
       "      <th>0</th>\n",
       "      <td>10000-8</td>\n",
       "      <td>Cardiac</td>\n",
       "    </tr>\n",
       "    <tr>\n",
       "      <th>1</th>\n",
       "      <td>10000-8</td>\n",
       "      <td>Durat</td>\n",
       "    </tr>\n",
       "    <tr>\n",
       "      <th>2</th>\n",
       "      <td>10000-8</td>\n",
       "      <td>ECG</td>\n",
       "    </tr>\n",
       "    <tr>\n",
       "      <th>3</th>\n",
       "      <td>10000-8</td>\n",
       "      <td>EKG.MEASUREMENTS</td>\n",
       "    </tr>\n",
       "    <tr>\n",
       "      <th>4</th>\n",
       "      <td>10000-8</td>\n",
       "      <td>Electrocardiogram</td>\n",
       "    </tr>\n",
       "  </tbody>\n",
       "</table>\n",
       "</div>"
      ],
      "text/plain": [
       "  LOINC_NUM       RELATED_NAME\n",
       "0   10000-8            Cardiac\n",
       "1   10000-8              Durat\n",
       "2   10000-8                ECG\n",
       "3   10000-8   EKG.MEASUREMENTS\n",
       "4   10000-8  Electrocardiogram"
      ]
     },
     "execution_count": 9,
     "metadata": {},
     "output_type": "execute_result"
    }
   ],
   "source": [
    "df_related.head(5)"
   ]
  },
  {
   "cell_type": "code",
   "execution_count": 10,
   "metadata": {},
   "outputs": [
    {
     "data": {
      "text/plain": [
       "[{'LOINC_NUM': '10000-8', 'RELATED_NAME': 'Cardiac'},\n",
       " {'LOINC_NUM': '10000-8', 'RELATED_NAME': 'Durat'},\n",
       " {'LOINC_NUM': '10000-8', 'RELATED_NAME': 'ECG'},\n",
       " {'LOINC_NUM': '10000-8', 'RELATED_NAME': 'EKG.MEASUREMENTS'},\n",
       " {'LOINC_NUM': '10000-8', 'RELATED_NAME': 'Electrocardiogram'},\n",
       " {'LOINC_NUM': '10000-8', 'RELATED_NAME': 'Electrocardiograph'},\n",
       " {'LOINC_NUM': '10000-8', 'RELATED_NAME': 'Hrt'},\n",
       " {'LOINC_NUM': '10000-8', 'RELATED_NAME': \"Painter's colic\"},\n",
       " {'LOINC_NUM': '10000-8', 'RELATED_NAME': 'PB'},\n",
       " {'LOINC_NUM': '10000-8', 'RELATED_NAME': 'Plumbism'},\n",
       " {'LOINC_NUM': '10000-8', 'RELATED_NAME': 'Point in time'},\n",
       " {'LOINC_NUM': '10000-8', 'RELATED_NAME': 'QNT'},\n",
       " {'LOINC_NUM': '10000-8', 'RELATED_NAME': 'Quan'},\n",
       " {'LOINC_NUM': '10000-8', 'RELATED_NAME': 'Quant'},\n",
       " {'LOINC_NUM': '10000-8', 'RELATED_NAME': 'Quantitative'},\n",
       " {'LOINC_NUM': '10000-8', 'RELATED_NAME': 'R prime'},\n",
       " {'LOINC_NUM': '10000-8', 'RELATED_NAME': \"R' wave dur L-AVR\"},\n",
       " {'LOINC_NUM': '10000-8', 'RELATED_NAME': 'R wave dur L-AVR'},\n",
       " {'LOINC_NUM': '10000-8', 'RELATED_NAME': 'Random'},\n",
       " {'LOINC_NUM': '10000-8', 'RELATED_NAME': 'Right'},\n",
       " {'LOINC_NUM': '10001-6', 'RELATED_NAME': 'Cardiac'},\n",
       " {'LOINC_NUM': '10001-6', 'RELATED_NAME': 'Durat'},\n",
       " {'LOINC_NUM': '10001-6', 'RELATED_NAME': 'ECG'},\n",
       " {'LOINC_NUM': '10001-6', 'RELATED_NAME': 'EKG.MEASUREMENTS'},\n",
       " {'LOINC_NUM': '10001-6', 'RELATED_NAME': 'Electrocardiogram'},\n",
       " {'LOINC_NUM': '10001-6', 'RELATED_NAME': 'Electrocardiograph'},\n",
       " {'LOINC_NUM': '10001-6', 'RELATED_NAME': 'Hrt'},\n",
       " {'LOINC_NUM': '10001-6', 'RELATED_NAME': \"Painter's colic\"},\n",
       " {'LOINC_NUM': '10001-6', 'RELATED_NAME': 'PB'},\n",
       " {'LOINC_NUM': '10001-6', 'RELATED_NAME': 'Plumbism'}]"
      ]
     },
     "execution_count": 10,
     "metadata": {},
     "output_type": "execute_result"
    }
   ],
   "source": [
    "rows[:30]"
   ]
  },
  {
   "cell_type": "code",
   "execution_count": 11,
   "metadata": {
    "collapsed": true
   },
   "outputs": [],
   "source": [
    "df_component.to_csv('data/loinc-component.csv', index=False)\n",
    "df_short_name.to_csv('data/loinc-short-name.csv', index=False)\n",
    "df_long_name.to_csv('data/loinc-long-name.csv', index=False)\n",
    "df_system.to_csv('data/loinc-system.csv', index=False)\n",
    "df_class.to_csv('data/loinc-class.csv', index=False)\n",
    "df_related.to_csv('data/loinc-related-name.csv', index=False)"
   ]
  }
 ],
 "metadata": {
  "kernelspec": {
   "display_name": "Python 3",
   "language": "python",
   "name": "python3"
  },
  "language_info": {
   "codemirror_mode": {
    "name": "ipython",
    "version": 3
   },
   "file_extension": ".py",
   "mimetype": "text/x-python",
   "name": "python",
   "nbconvert_exporter": "python",
   "pygments_lexer": "ipython3",
   "version": "3.5.3"
  }
 },
 "nbformat": 4,
 "nbformat_minor": 2
}
