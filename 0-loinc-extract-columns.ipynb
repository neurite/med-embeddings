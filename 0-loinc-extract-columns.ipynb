{
 "cells": [
  {
   "cell_type": "code",
   "execution_count": 1,
   "metadata": {
    "collapsed": true
   },
   "outputs": [],
   "source": [
    "import pandas as pd\n",
    "from pandas import DataFrame"
   ]
  },
  {
   "cell_type": "code",
   "execution_count": 2,
   "metadata": {},
   "outputs": [
    {
     "name": "stderr",
     "output_type": "stream",
     "text": [
      "/Users/ericwu/Applications/miniconda3/envs/gensim3/lib/python3.5/site-packages/IPython/core/interactiveshell.py:2683: DtypeWarning: Columns (8,15,17,18,25,26,39,40,41,42,43,44,45) have mixed types. Specify dtype option on import or set low_memory=False.\n",
      "  interactivity=interactivity, compiler=compiler, result=result)\n"
     ]
    }
   ],
   "source": [
    "df_loinc = pd.read_csv('data/loinc.csv')"
   ]
  },
  {
   "cell_type": "code",
   "execution_count": 3,
   "metadata": {},
   "outputs": [
    {
     "data": {
      "text/plain": [
       "Index(['LOINC_NUM', 'COMPONENT', 'PROPERTY', 'TIME_ASPCT', 'SYSTEM',\n",
       "       'SCALE_TYP', 'METHOD_TYP', 'CLASS', 'VersionLastChanged', 'CHNG_TYPE',\n",
       "       'DefinitionDescription', 'STATUS', 'CONSUMER_NAME', 'CLASSTYPE',\n",
       "       'FORMULA', 'SPECIES', 'EXMPL_ANSWERS', 'SURVEY_QUEST_TEXT',\n",
       "       'SURVEY_QUEST_SRC', 'UNITSREQUIRED', 'SUBMITTED_UNITS', 'RELATEDNAMES2',\n",
       "       'SHORTNAME', 'ORDER_OBS', 'CDISC_COMMON_TESTS', 'HL7_FIELD_SUBFIELD_ID',\n",
       "       'EXTERNAL_COPYRIGHT_NOTICE', 'EXAMPLE_UNITS', 'LONG_COMMON_NAME',\n",
       "       'UnitsAndRange', 'DOCUMENT_SECTION', 'EXAMPLE_UCUM_UNITS',\n",
       "       'EXAMPLE_SI_UCUM_UNITS', 'STATUS_REASON', 'STATUS_TEXT',\n",
       "       'CHANGE_REASON_PUBLIC', 'COMMON_TEST_RANK', 'COMMON_ORDER_RANK',\n",
       "       'COMMON_SI_TEST_RANK', 'HL7_ATTACHMENT_STRUCTURE',\n",
       "       'EXTERNAL_COPYRIGHT_LINK', 'PanelType', 'AskAtOrderEntry',\n",
       "       'AssociatedObservations', 'VersionFirstReleased',\n",
       "       'ValidHL7AttachmentRequest'],\n",
       "      dtype='object')"
      ]
     },
     "execution_count": 3,
     "metadata": {},
     "output_type": "execute_result"
    }
   ],
   "source": [
    "df_loinc.columns"
   ]
  },
  {
   "cell_type": "markdown",
   "metadata": {},
   "source": [
    "### A subset of columns\n",
    "\n",
    "A subset of columns whose values can be potentially used as traning text for embeddings."
   ]
  },
  {
   "cell_type": "code",
   "execution_count": 4,
   "metadata": {
    "collapsed": true
   },
   "outputs": [],
   "source": [
    "cols = ['LOINC_NUM', 'COMPONENT', 'PROPERTY', 'TIME_ASPCT', 'SYSTEM', 'SCALE_TYP', 'METHOD_TYP', 'CLASS',\n",
    "       'SHORTNAME', 'LONG_COMMON_NAME', 'RELATEDNAMES2']"
   ]
  },
  {
   "cell_type": "code",
   "execution_count": 5,
   "metadata": {},
   "outputs": [
    {
     "data": {
      "text/html": [
       "<div>\n",
       "<style>\n",
       "    .dataframe thead tr:only-child th {\n",
       "        text-align: right;\n",
       "    }\n",
       "\n",
       "    .dataframe thead th {\n",
       "        text-align: left;\n",
       "    }\n",
       "\n",
       "    .dataframe tbody tr th {\n",
       "        vertical-align: top;\n",
       "    }\n",
       "</style>\n",
       "<table border=\"1\" class=\"dataframe\">\n",
       "  <thead>\n",
       "    <tr style=\"text-align: right;\">\n",
       "      <th></th>\n",
       "      <th>LOINC_NUM</th>\n",
       "      <th>COMPONENT</th>\n",
       "      <th>PROPERTY</th>\n",
       "      <th>TIME_ASPCT</th>\n",
       "      <th>SYSTEM</th>\n",
       "      <th>SCALE_TYP</th>\n",
       "      <th>METHOD_TYP</th>\n",
       "      <th>CLASS</th>\n",
       "      <th>SHORTNAME</th>\n",
       "      <th>LONG_COMMON_NAME</th>\n",
       "      <th>RELATEDNAMES2</th>\n",
       "    </tr>\n",
       "  </thead>\n",
       "  <tbody>\n",
       "    <tr>\n",
       "      <th>5884</th>\n",
       "      <td>1523-0</td>\n",
       "      <td>Glucose^30M post 0.05-0.15 U insulin/kg IV pos...</td>\n",
       "      <td>MCnc</td>\n",
       "      <td>Pt</td>\n",
       "      <td>Ser/Plas</td>\n",
       "      <td>Qn</td>\n",
       "      <td>NaN</td>\n",
       "      <td>CHAL</td>\n",
       "      <td>Glucose 30M p U/kg Ins IV SerPl-mCnc</td>\n",
       "      <td>Glucose [Mass/volume] in Serum or Plasma --30 ...</td>\n",
       "      <td>30M p U/kg Ins IV; After; Calorie Fast; CHEMIS...</td>\n",
       "    </tr>\n",
       "    <tr>\n",
       "      <th>77283</th>\n",
       "      <td>80659-6</td>\n",
       "      <td>Activated clotting time</td>\n",
       "      <td>Time</td>\n",
       "      <td>Pt</td>\n",
       "      <td>Bld</td>\n",
       "      <td>Qn</td>\n",
       "      <td>Coag.kaolin induced</td>\n",
       "      <td>COAG</td>\n",
       "      <td>ACT Bld Kaolin induc</td>\n",
       "      <td>Activated clotting time (ACT) of Blood induced...</td>\n",
       "      <td>ACT; Activ; Activated coagulation time; Blood;...</td>\n",
       "    </tr>\n",
       "    <tr>\n",
       "      <th>78566</th>\n",
       "      <td>8183-6</td>\n",
       "      <td>Benzoylecgonine</td>\n",
       "      <td>PrThr</td>\n",
       "      <td>Pt</td>\n",
       "      <td>Gast fld</td>\n",
       "      <td>Ord</td>\n",
       "      <td>NaN</td>\n",
       "      <td>DRUG/TOX</td>\n",
       "      <td>BZE Gast Ql</td>\n",
       "      <td>Benzoylecgonine [Presence] in Gastric fluid</td>\n",
       "      <td>BEC; BEG; Benz; Benzoylec; BZE; Cocaine degrad...</td>\n",
       "    </tr>\n",
       "    <tr>\n",
       "      <th>81004</th>\n",
       "      <td>84349-0</td>\n",
       "      <td>Consultation note</td>\n",
       "      <td>Find</td>\n",
       "      <td>Pt</td>\n",
       "      <td>{Setting}</td>\n",
       "      <td>Doc</td>\n",
       "      <td>Pastoral care</td>\n",
       "      <td>DOC.ONTOLOGY</td>\n",
       "      <td>Pastoral Care Consult note</td>\n",
       "      <td>Pastoral care Consult note</td>\n",
       "      <td>Consult note; DOC.ONT; Document; Encounter; Ev...</td>\n",
       "    </tr>\n",
       "    <tr>\n",
       "      <th>57400</th>\n",
       "      <td>62380-1</td>\n",
       "      <td>Chromosome band involved end</td>\n",
       "      <td>Find</td>\n",
       "      <td>Pt</td>\n",
       "      <td>Bld/Tiss</td>\n",
       "      <td>Nom</td>\n",
       "      <td>Molgen</td>\n",
       "      <td>HL7.CYTOGEN</td>\n",
       "      <td>Chrom band involved end</td>\n",
       "      <td>Chromosome band involved end</td>\n",
       "      <td>Bands; Blood; bnd; Chrom band involved end; Ch...</td>\n",
       "    </tr>\n",
       "  </tbody>\n",
       "</table>\n",
       "</div>"
      ],
      "text/plain": [
       "      LOINC_NUM                                          COMPONENT PROPERTY  \\\n",
       "5884     1523-0  Glucose^30M post 0.05-0.15 U insulin/kg IV pos...     MCnc   \n",
       "77283   80659-6                            Activated clotting time     Time   \n",
       "78566    8183-6                                    Benzoylecgonine    PrThr   \n",
       "81004   84349-0                                  Consultation note     Find   \n",
       "57400   62380-1                       Chromosome band involved end     Find   \n",
       "\n",
       "      TIME_ASPCT     SYSTEM SCALE_TYP           METHOD_TYP         CLASS  \\\n",
       "5884          Pt   Ser/Plas        Qn                  NaN          CHAL   \n",
       "77283         Pt        Bld        Qn  Coag.kaolin induced          COAG   \n",
       "78566         Pt   Gast fld       Ord                  NaN      DRUG/TOX   \n",
       "81004         Pt  {Setting}       Doc        Pastoral care  DOC.ONTOLOGY   \n",
       "57400         Pt   Bld/Tiss       Nom               Molgen   HL7.CYTOGEN   \n",
       "\n",
       "                                  SHORTNAME  \\\n",
       "5884   Glucose 30M p U/kg Ins IV SerPl-mCnc   \n",
       "77283                  ACT Bld Kaolin induc   \n",
       "78566                           BZE Gast Ql   \n",
       "81004            Pastoral Care Consult note   \n",
       "57400               Chrom band involved end   \n",
       "\n",
       "                                        LONG_COMMON_NAME  \\\n",
       "5884   Glucose [Mass/volume] in Serum or Plasma --30 ...   \n",
       "77283  Activated clotting time (ACT) of Blood induced...   \n",
       "78566        Benzoylecgonine [Presence] in Gastric fluid   \n",
       "81004                         Pastoral care Consult note   \n",
       "57400                       Chromosome band involved end   \n",
       "\n",
       "                                           RELATEDNAMES2  \n",
       "5884   30M p U/kg Ins IV; After; Calorie Fast; CHEMIS...  \n",
       "77283  ACT; Activ; Activated coagulation time; Blood;...  \n",
       "78566  BEC; BEG; Benz; Benzoylec; BZE; Cocaine degrad...  \n",
       "81004  Consult note; DOC.ONT; Document; Encounter; Ev...  \n",
       "57400  Bands; Blood; bnd; Chrom band involved end; Ch...  "
      ]
     },
     "execution_count": 5,
     "metadata": {},
     "output_type": "execute_result"
    }
   ],
   "source": [
    "df_loinc[cols].sample(5)"
   ]
  },
  {
   "cell_type": "markdown",
   "metadata": {},
   "source": [
    "### The final set of columns for embeddings\n",
    "\n",
    "The goal is collect short sentences that can be used to generate the embeddings.\n",
    "\n",
    "The following columns contain values that can be used directly as sentences for generating embeddings: \n",
    "\n",
    "    ['COMPONENT', 'SHORTNAME', 'LONG_COMMON_NAME', 'SYSTEM', 'CLASS']\n",
    "\n",
    "The column `RELATEDNAMES` must split by \";\" into multiple sentences.\n",
    "\n",
    "The final out put will be a data frame of 3 columns: `['LOINC_NUM', 'SENTENCE', 'ORG_COLUMN']`\n",
    "\n",
    "* LOINC_NUM -- The LOINC number is the label\n",
    "* SENTENCE -- The sentences that will be used to generate the embeddings\n",
    "* ORG_COLUMN -- The original column containing the sentence"
   ]
  },
  {
   "cell_type": "code",
   "execution_count": 6,
   "metadata": {
    "collapsed": true
   },
   "outputs": [],
   "source": [
    "df_component = df_loinc[['LOINC_NUM', 'COMPONENT']]\n",
    "df_short_name = df_loinc[['LOINC_NUM', 'SHORTNAME']]\n",
    "df_long_name = df_loinc[['LOINC_NUM', 'LONG_COMMON_NAME']]\n",
    "df_system = df_loinc[['LOINC_NUM', 'SYSTEM']]\n",
    "df_class = df_loinc[['LOINC_NUM', 'CLASS']]\n",
    "df_related = df_loinc[['LOINC_NUM', 'RELATEDNAMES2']]"
   ]
  },
  {
   "cell_type": "code",
   "execution_count": 7,
   "metadata": {
    "collapsed": true
   },
   "outputs": [],
   "source": [
    "# Split the related names by ';' and save them into separate rows\n",
    "rows = []\n",
    "for index, row in df_related.iterrows():\n",
    "    loinc_num = row['LOINC_NUM']\n",
    "    names = row['RELATEDNAMES2']\n",
    "    for name in names.split(';'):\n",
    "        name = name.strip()\n",
    "        new_row = {\n",
    "            'LOINC_NUM': loinc_num,\n",
    "            'RELATED_NAME': name\n",
    "        }\n",
    "        rows.append(new_row)\n",
    "df_related = DataFrame(rows)"
   ]
  },
  {
   "cell_type": "code",
   "execution_count": 8,
   "metadata": {},
   "outputs": [
    {
     "data": {
      "text/plain": [
       "(1791428, 2)"
      ]
     },
     "execution_count": 8,
     "metadata": {},
     "output_type": "execute_result"
    }
   ],
   "source": [
    "df_related.shape"
   ]
  },
  {
   "cell_type": "code",
   "execution_count": 9,
   "metadata": {},
   "outputs": [
    {
     "data": {
      "text/html": [
       "<div>\n",
       "<style>\n",
       "    .dataframe thead tr:only-child th {\n",
       "        text-align: right;\n",
       "    }\n",
       "\n",
       "    .dataframe thead th {\n",
       "        text-align: left;\n",
       "    }\n",
       "\n",
       "    .dataframe tbody tr th {\n",
       "        vertical-align: top;\n",
       "    }\n",
       "</style>\n",
       "<table border=\"1\" class=\"dataframe\">\n",
       "  <thead>\n",
       "    <tr style=\"text-align: right;\">\n",
       "      <th></th>\n",
       "      <th>LOINC_NUM</th>\n",
       "      <th>RELATED_NAME</th>\n",
       "    </tr>\n",
       "  </thead>\n",
       "  <tbody>\n",
       "    <tr>\n",
       "      <th>0</th>\n",
       "      <td>10000-8</td>\n",
       "      <td>Cardiac</td>\n",
       "    </tr>\n",
       "    <tr>\n",
       "      <th>1</th>\n",
       "      <td>10000-8</td>\n",
       "      <td>Durat</td>\n",
       "    </tr>\n",
       "    <tr>\n",
       "      <th>2</th>\n",
       "      <td>10000-8</td>\n",
       "      <td>ECG</td>\n",
       "    </tr>\n",
       "    <tr>\n",
       "      <th>3</th>\n",
       "      <td>10000-8</td>\n",
       "      <td>EKG.MEASUREMENTS</td>\n",
       "    </tr>\n",
       "    <tr>\n",
       "      <th>4</th>\n",
       "      <td>10000-8</td>\n",
       "      <td>Electrocardiogram</td>\n",
       "    </tr>\n",
       "  </tbody>\n",
       "</table>\n",
       "</div>"
      ],
      "text/plain": [
       "  LOINC_NUM       RELATED_NAME\n",
       "0   10000-8            Cardiac\n",
       "1   10000-8              Durat\n",
       "2   10000-8                ECG\n",
       "3   10000-8   EKG.MEASUREMENTS\n",
       "4   10000-8  Electrocardiogram"
      ]
     },
     "execution_count": 9,
     "metadata": {},
     "output_type": "execute_result"
    }
   ],
   "source": [
    "df_related.head(5)"
   ]
  },
  {
   "cell_type": "code",
   "execution_count": 10,
   "metadata": {},
   "outputs": [
    {
     "data": {
      "text/plain": [
       "[{'LOINC_NUM': '10000-8', 'RELATED_NAME': 'Cardiac'},\n",
       " {'LOINC_NUM': '10000-8', 'RELATED_NAME': 'Durat'},\n",
       " {'LOINC_NUM': '10000-8', 'RELATED_NAME': 'ECG'},\n",
       " {'LOINC_NUM': '10000-8', 'RELATED_NAME': 'EKG.MEASUREMENTS'},\n",
       " {'LOINC_NUM': '10000-8', 'RELATED_NAME': 'Electrocardiogram'},\n",
       " {'LOINC_NUM': '10000-8', 'RELATED_NAME': 'Electrocardiograph'},\n",
       " {'LOINC_NUM': '10000-8', 'RELATED_NAME': 'Hrt'},\n",
       " {'LOINC_NUM': '10000-8', 'RELATED_NAME': \"Painter's colic\"},\n",
       " {'LOINC_NUM': '10000-8', 'RELATED_NAME': 'PB'},\n",
       " {'LOINC_NUM': '10000-8', 'RELATED_NAME': 'Plumbism'}]"
      ]
     },
     "execution_count": 10,
     "metadata": {},
     "output_type": "execute_result"
    }
   ],
   "source": [
    "# Make sure the data frame is correctly generated from the rows\n",
    "rows[:10]"
   ]
  },
  {
   "cell_type": "markdown",
   "metadata": {},
   "source": [
    "### Remove duplicates"
   ]
  },
  {
   "cell_type": "code",
   "execution_count": 12,
   "metadata": {},
   "outputs": [],
   "source": [
    "df_component = df_component.drop_duplicates()\n",
    "df_short_name = df_short_name.drop_duplicates()\n",
    "df_long_name = df_long_name.drop_duplicates()\n",
    "df_system = df_system.drop_duplicates()\n",
    "df_class = df_class.drop_duplicates()\n",
    "df_related = df_related.drop_duplicates()"
   ]
  },
  {
   "cell_type": "markdown",
   "metadata": {},
   "source": [
    "### Save the results"
   ]
  },
  {
   "cell_type": "code",
   "execution_count": 13,
   "metadata": {
    "collapsed": true
   },
   "outputs": [],
   "source": [
    "df_component.to_csv('data/loinc-component.csv', index=False)\n",
    "df_short_name.to_csv('data/loinc-short-name.csv', index=False)\n",
    "df_long_name.to_csv('data/loinc-long-name.csv', index=False)\n",
    "df_system.to_csv('data/loinc-system.csv', index=False)\n",
    "df_class.to_csv('data/loinc-class.csv', index=False)\n",
    "df_related.to_csv('data/loinc-related-name.csv', index=False)"
   ]
  }
 ],
 "metadata": {
  "kernelspec": {
   "display_name": "Python 3",
   "language": "python",
   "name": "python3"
  },
  "language_info": {
   "codemirror_mode": {
    "name": "ipython",
    "version": 3
   },
   "file_extension": ".py",
   "mimetype": "text/x-python",
   "name": "python",
   "nbconvert_exporter": "python",
   "pygments_lexer": "ipython3",
   "version": "3.5.3"
  }
 },
 "nbformat": 4,
 "nbformat_minor": 2
}
