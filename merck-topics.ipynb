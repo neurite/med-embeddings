{
 "cells": [
  {
   "cell_type": "code",
   "execution_count": 1,
   "metadata": {},
   "outputs": [],
   "source": [
    "from pathlib import Path\n",
    "import re, string\n",
    "from gensim.models.word2vec import Word2Vec"
   ]
  },
  {
   "cell_type": "code",
   "execution_count": 2,
   "metadata": {},
   "outputs": [],
   "source": [
    "# Patterns for leading and trailing punctuation marks\n",
    "punc_begin = re.compile('^[%s]+' % re.escape(string.punctuation))\n",
    "punc_end = re.compile('[%s]+$' % re.escape(string.punctuation))"
   ]
  },
  {
   "cell_type": "code",
   "execution_count": 3,
   "metadata": {},
   "outputs": [],
   "source": [
    "def sentences():\n",
    "    sentences = []\n",
    "    files = Path('data/merck-topics-2017-11-23/').glob('**/*')\n",
    "    for file in files:\n",
    "        with file.open() as filein:\n",
    "            lines = filein.readlines()\n",
    "            for line in lines:\n",
    "                tokens = line.lower().split()\n",
    "                tokens = [token.strip() for token in tokens]\n",
    "                tokens = [re.sub(punc_begin, '', token) for token in tokens]\n",
    "                tokens = [re.sub(punc_end, '', token) for token in tokens]\n",
    "                tokens = [token for token in tokens if len(token) > 0]\n",
    "                sentences.append(tokens)\n",
    "    return sentences"
   ]
  },
  {
   "cell_type": "code",
   "execution_count": 4,
   "metadata": {},
   "outputs": [],
   "source": [
    "model = Word2Vec(sentences())"
   ]
  },
  {
   "cell_type": "code",
   "execution_count": 5,
   "metadata": {},
   "outputs": [
    {
     "data": {
      "text/plain": [
       "[('cancers', 0.7418906688690186),\n",
       " ('carcinoma', 0.6450203657150269),\n",
       " ('adenocarcinoma', 0.6149548292160034),\n",
       " ('tumor', 0.5961090326309204),\n",
       " ('melanoma', 0.57428377866745),\n",
       " ('prostate', 0.5718021392822266),\n",
       " ('metastases', 0.52112877368927),\n",
       " ('lymphoma', 0.5182576775550842),\n",
       " ('tumors', 0.517723560333252),\n",
       " ('sarcoma', 0.4998699128627777)]"
      ]
     },
     "execution_count": 5,
     "metadata": {},
     "output_type": "execute_result"
    }
   ],
   "source": [
    "model.wv.most_similar(positive=['cancer'])"
   ]
  },
  {
   "cell_type": "code",
   "execution_count": 6,
   "metadata": {},
   "outputs": [
    {
     "data": {
      "text/plain": [
       "[('transformation', 0.773547887802124),\n",
       " ('benign', 0.7065020799636841),\n",
       " ('adenomas', 0.7040392160415649),\n",
       " ('cancerous', 0.6933955550193787),\n",
       " ('melanoma', 0.6685755252838135),\n",
       " ('adenocarcinomas', 0.6517176628112793),\n",
       " ('carcinomas', 0.6425170302391052),\n",
       " ('high-grade', 0.6397116184234619),\n",
       " ('nonadenomatous', 0.6377661228179932),\n",
       " ('lymphomas', 0.6366579532623291)]"
      ]
     },
     "execution_count": 6,
     "metadata": {},
     "output_type": "execute_result"
    }
   ],
   "source": [
    "model.wv.most_similar(positive=['malignant'])"
   ]
  },
  {
   "cell_type": "code",
   "execution_count": 7,
   "metadata": {
    "scrolled": true
   },
   "outputs": [
    {
     "data": {
      "text/plain": [
       "[('glucose', 0.7360876202583313),\n",
       " ('carbohydrates', 0.6713556051254272),\n",
       " ('lipids', 0.6708924770355225),\n",
       " ('galactose', 0.6640836596488953),\n",
       " ('cholesterol', 0.6597653031349182),\n",
       " ('sucrose', 0.6494026780128479),\n",
       " ('fats', 0.6487394571304321),\n",
       " ('ammonia', 0.6243336200714111),\n",
       " ('triglycerides', 0.6217348575592041),\n",
       " ('a1c', 0.6080040335655212)]"
      ]
     },
     "execution_count": 7,
     "metadata": {},
     "output_type": "execute_result"
    }
   ],
   "source": [
    "model.wv.most_similar(positive=['sugar'])"
   ]
  },
  {
   "cell_type": "code",
   "execution_count": 8,
   "metadata": {},
   "outputs": [
    {
     "data": {
      "text/plain": [
       "[('dm', 0.6624680757522583),\n",
       " ('mellitus', 0.6483187675476074),\n",
       " ('insipidus', 0.6136149168014526),\n",
       " ('obesity', 0.5705541372299194),\n",
       " ('diabetic', 0.5631070137023926),\n",
       " ('hypertension', 0.5522923469543457),\n",
       " ('nephrogenic', 0.549591600894928),\n",
       " ('alcoholism', 0.5180000066757202),\n",
       " ('dyslipidemia', 0.5172838568687439),\n",
       " ('atherosclerosis', 0.5154365301132202)]"
      ]
     },
     "execution_count": 8,
     "metadata": {},
     "output_type": "execute_result"
    }
   ],
   "source": [
    "model.wv.most_similar(positive=['diabetes'])"
   ]
  },
  {
   "cell_type": "code",
   "execution_count": 9,
   "metadata": {},
   "outputs": [
    {
     "data": {
      "text/plain": [
       "[('scaling', 0.8512666821479797),\n",
       " ('planus', 0.8204973936080933),\n",
       " ('lichen', 0.8050974607467651),\n",
       " ('eczema', 0.8031511306762695),\n",
       " ('rosacea', 0.8011435270309448),\n",
       " ('blistering', 0.7950164675712585),\n",
       " ('vulgaris', 0.7882848978042603),\n",
       " ('dermatitis', 0.7845450639724731),\n",
       " ('pustular', 0.7834339141845703),\n",
       " ('sclerosus', 0.772196888923645)]"
      ]
     },
     "execution_count": 9,
     "metadata": {},
     "output_type": "execute_result"
    }
   ],
   "source": [
    "model.wv.most_similar(positive=['psoriasis'])"
   ]
  },
  {
   "cell_type": "code",
   "execution_count": 10,
   "metadata": {},
   "outputs": [
    {
     "data": {
      "text/plain": [
       "[('300', 0.873751699924469),\n",
       " ('200', 0.8681505918502808),\n",
       " ('150', 0.8614224195480347),\n",
       " ('250', 0.8501552939414978),\n",
       " ('120', 0.8404273986816406),\n",
       " ('0.3', 0.8343183994293213),\n",
       " ('400', 0.8233770132064819),\n",
       " ('1000', 0.8209776878356934),\n",
       " ('1.0', 0.814278781414032),\n",
       " ('0.8', 0.8128980398178101)]"
      ]
     },
     "execution_count": 10,
     "metadata": {},
     "output_type": "execute_result"
    }
   ],
   "source": [
    "model.wv.most_similar(positive=['100'])"
   ]
  },
  {
   "cell_type": "code",
   "execution_count": 11,
   "metadata": {},
   "outputs": [
    {
     "data": {
      "text/plain": [
       "[('intraductal', 0.8791331052780151),\n",
       " ('glenn', 0.8191472291946411),\n",
       " ('lipoma', 0.8154205083847046),\n",
       " ('pkd', 0.8106021285057068),\n",
       " ('gk', 0.8105160593986511),\n",
       " ('cystadenocarcinoma', 0.810095489025116),\n",
       " ('skene', 0.8083108067512512),\n",
       " ('intracorneal', 0.8072136640548706),\n",
       " ('fc', 0.805770754814148),\n",
       " ('sln', 0.8032029271125793)]"
      ]
     },
     "execution_count": 11,
     "metadata": {},
     "output_type": "execute_result"
    }
   ],
   "source": [
    "model.wv.most_similar(positive=['papilloma'])"
   ]
  },
  {
   "cell_type": "code",
   "execution_count": 12,
   "metadata": {},
   "outputs": [
    {
     "data": {
      "text/plain": [
       "[('papillomavirus', 0.8030089139938354),\n",
       " ('human', 0.7550371885299683),\n",
       " ('poliovirus', 0.6889576315879822),\n",
       " ('herpesviruses', 0.6879425048828125),\n",
       " ('vzv', 0.6727120280265808),\n",
       " ('herpesvirus', 0.6724347472190857),\n",
       " ('varicella-zoster', 0.6710348725318909),\n",
       " ('gondii', 0.6703339219093323),\n",
       " ('meningitidis', 0.6673886775970459),\n",
       " ('papillomaviruses', 0.6496900916099548)]"
      ]
     },
     "execution_count": 12,
     "metadata": {},
     "output_type": "execute_result"
    }
   ],
   "source": [
    "model.wv.most_similar(positive=['hpv'])"
   ]
  },
  {
   "cell_type": "code",
   "execution_count": 13,
   "metadata": {},
   "outputs": [
    {
     "data": {
      "text/plain": [
       "[('n-methyl-d-aspartate', 0.9082049131393433),\n",
       " ('memantine', 0.9052895307540894),\n",
       " ('nilotinib', 0.8685386180877686),\n",
       " ('entacapone', 0.8617355823516846),\n",
       " ('asparaginase', 0.8521819710731506),\n",
       " ('il-17', 0.8509945273399353),\n",
       " ('apremilast', 0.847725510597229),\n",
       " ('catechol', 0.847434401512146),\n",
       " ('5-alpha-reductase', 0.8469164371490479),\n",
       " ('integrin', 0.8448348641395569)]"
      ]
     },
     "execution_count": 13,
     "metadata": {},
     "output_type": "execute_result"
    }
   ],
   "source": [
    "model.wv.most_similar(positive=['nmda'])"
   ]
  },
  {
   "cell_type": "code",
   "execution_count": 14,
   "metadata": {},
   "outputs": [
    {
     "data": {
      "text/plain": [
       "[('norepinephrine', 0.8518733978271484),\n",
       " ('dopamine', 0.8506501913070679),\n",
       " ('adrenergic', 0.8490609526634216),\n",
       " ('5-hydroxytryptamine', 0.8467927575111389),\n",
       " ('reuptake', 0.825350284576416),\n",
       " ('antagonists', 0.8016381859779358),\n",
       " ('alpha-adrenergic', 0.7977383136749268),\n",
       " ('bradykinin', 0.7960352301597595),\n",
       " ('cholinergic', 0.7957416772842407),\n",
       " ('5-ht2', 0.7938324809074402)]"
      ]
     },
     "execution_count": 14,
     "metadata": {},
     "output_type": "execute_result"
    }
   ],
   "source": [
    "model.wv.most_similar(positive=['5-ht'])"
   ]
  }
 ],
 "metadata": {
  "kernelspec": {
   "display_name": "Python 3",
   "language": "python",
   "name": "python3"
  },
  "language_info": {
   "codemirror_mode": {
    "name": "ipython",
    "version": 3
   },
   "file_extension": ".py",
   "mimetype": "text/x-python",
   "name": "python",
   "nbconvert_exporter": "python",
   "pygments_lexer": "ipython3",
   "version": "3.5.4"
  }
 },
 "nbformat": 4,
 "nbformat_minor": 2
}
