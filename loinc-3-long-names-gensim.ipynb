{
 "cells": [
  {
   "cell_type": "markdown",
   "metadata": {},
   "source": [
    "### Introduction\n",
    "\n",
    "LOINC long names only."
   ]
  },
  {
   "cell_type": "code",
   "execution_count": 21,
   "metadata": {
    "collapsed": true
   },
   "outputs": [],
   "source": [
    "from functools import reduce\n",
    "from collections import Counter\n",
    "import json\n",
    "import pandas as pd\n",
    "from gensim.models.doc2vec import Doc2Vec\n",
    "from gs import tokenize\n",
    "from gs import tagdocs\n",
    "from gs import train\n",
    "from gs import evaluate"
   ]
  },
  {
   "cell_type": "code",
   "execution_count": 2,
   "metadata": {},
   "outputs": [
    {
     "data": {
      "text/html": [
       "<div>\n",
       "<style>\n",
       "    .dataframe thead tr:only-child th {\n",
       "        text-align: right;\n",
       "    }\n",
       "\n",
       "    .dataframe thead th {\n",
       "        text-align: left;\n",
       "    }\n",
       "\n",
       "    .dataframe tbody tr th {\n",
       "        vertical-align: top;\n",
       "    }\n",
       "</style>\n",
       "<table border=\"1\" class=\"dataframe\">\n",
       "  <thead>\n",
       "    <tr style=\"text-align: right;\">\n",
       "      <th></th>\n",
       "      <th>label</th>\n",
       "      <th>text</th>\n",
       "      <th>source</th>\n",
       "      <th>text_normed</th>\n",
       "    </tr>\n",
       "  </thead>\n",
       "  <tbody>\n",
       "    <tr>\n",
       "      <th>140956</th>\n",
       "      <td>28505-6</td>\n",
       "      <td>Personal Care Knowledge Family [OMAHA]</td>\n",
       "      <td>LONG_COMMON_NAME</td>\n",
       "      <td>personal care knowledge family [omaha]</td>\n",
       "    </tr>\n",
       "    <tr>\n",
       "      <th>23345</th>\n",
       "      <td>4269-7</td>\n",
       "      <td>Glucose.PO [Mass] of Dose</td>\n",
       "      <td>LONG_COMMON_NAME</td>\n",
       "      <td>glucose.po [mass] of dose</td>\n",
       "    </tr>\n",
       "  </tbody>\n",
       "</table>\n",
       "</div>"
      ],
      "text/plain": [
       "          label                                    text            source  \\\n",
       "140956  28505-6  Personal Care Knowledge Family [OMAHA]  LONG_COMMON_NAME   \n",
       "23345    4269-7               Glucose.PO [Mass] of Dose  LONG_COMMON_NAME   \n",
       "\n",
       "                                   text_normed  \n",
       "140956  personal care knowledge family [omaha]  \n",
       "23345                glucose.po [mass] of dose  "
      ]
     },
     "execution_count": 2,
     "metadata": {},
     "output_type": "execute_result"
    }
   ],
   "source": [
    "df = pd.read_csv('data/loinc-labeled-text-names.csv')\n",
    "df = df[df['source'] == 'LONG_COMMON_NAME']\n",
    "df.sample(2)"
   ]
  },
  {
   "cell_type": "markdown",
   "metadata": {},
   "source": [
    "### Tag the documents"
   ]
  },
  {
   "cell_type": "code",
   "execution_count": 3,
   "metadata": {},
   "outputs": [
    {
     "data": {
      "text/plain": [
       "[TaggedDocument(words=['needed', 'help', 'doing', 'my', 'usual', 'activities', 'because', 'of', 'my', 'fatigue', 'in', 'the', 'past', 'days', 'neuroqol'], tags=['67925-8']),\n",
       " TaggedDocument(words=['coxsackievirus', 'ab', 'units', 'volume', 'in', 'serum'], tags=['7837-8'])]"
      ]
     },
     "execution_count": 3,
     "metadata": {},
     "output_type": "execute_result"
    }
   ],
   "source": [
    "docs = tagdocs(df)\n",
    "docs[:2]"
   ]
  },
  {
   "cell_type": "markdown",
   "metadata": {},
   "source": [
    "### Build the models"
   ]
  },
  {
   "cell_type": "code",
   "execution_count": 4,
   "metadata": {
    "collapsed": true
   },
   "outputs": [],
   "source": [
    "model50 = Doc2Vec(dm=0, min_count=1, size=50, window=5, hs=1, sample=0.01, negative=3, workers=4, iter=100)\n",
    "model300 = Doc2Vec(dm=0, min_count=1, size=300, window=7, hs=1, sample=0.01, negative=3, workers=4, iter=100)\n",
    "models = [model300, model50]"
   ]
  },
  {
   "cell_type": "code",
   "execution_count": 5,
   "metadata": {},
   "outputs": [
    {
     "name": "stdout",
     "output_type": "stream",
     "text": [
      "CPU times: user 11min 22s, sys: 1min 16s, total: 12min 39s\n",
      "Wall time: 7min 6s\n"
     ]
    }
   ],
   "source": [
    "%time train(docs, models)"
   ]
  },
  {
   "cell_type": "markdown",
   "metadata": {},
   "source": [
    "### Evaluate the models"
   ]
  },
  {
   "cell_type": "code",
   "execution_count": 28,
   "metadata": {},
   "outputs": [
    {
     "name": "stdout",
     "output_type": "stream",
     "text": [
      "83377 67299\n"
     ]
    }
   ],
   "source": [
    "# Top 2 hit rate\n",
    "labels, hits = evaluate(df, model50)\n",
    "print(len(hits), reduce(lambda x,y: x+y, hits))"
   ]
  },
  {
   "cell_type": "code",
   "execution_count": 29,
   "metadata": {},
   "outputs": [
    {
     "name": "stdout",
     "output_type": "stream",
     "text": [
      "83377 72733\n"
     ]
    }
   ],
   "source": [
    "# Top 2 hit rate\n",
    "labels, hits = evaluate(df, model300)\n",
    "print(len(hits), reduce(lambda x,y: x+y, hits))"
   ]
  },
  {
   "cell_type": "markdown",
   "metadata": {},
   "source": [
    "### Run examples"
   ]
  },
  {
   "cell_type": "code",
   "execution_count": 35,
   "metadata": {},
   "outputs": [
    {
     "data": {
      "text/plain": [
       "[('56687-7', 0.5024705529212952),\n",
       " ('23995-4', 0.48149374127388),\n",
       " ('486-1', 0.4810114800930023),\n",
       " ('34652-8', 0.47832024097442627),\n",
       " ('50969-5', 0.4708244502544403),\n",
       " ('5265-4', 0.4679912030696869),\n",
       " ('24007-7', 0.4629364609718323),\n",
       " ('25535-6', 0.4603499472141266),\n",
       " ('82740-2', 0.45872822403907776),\n",
       " ('45171-6', 0.4584764242172241)]"
      ]
     },
     "execution_count": 35,
     "metadata": {},
     "output_type": "execute_result"
    }
   ],
   "source": [
    "# Mayo Clinic Test ID: EBVE 56104\n",
    "# Should map to LOINC 50969-5\n",
    "words = tokenize('Epstein-Barr Virus (EBV), IgG Antibody to Early Antigen, Serum')\n",
    "model300.docvecs.most_similar([model300.infer_vector(words)])"
   ]
  },
  {
   "cell_type": "code",
   "execution_count": 38,
   "metadata": {},
   "outputs": [
    {
     "data": {
      "text/html": [
       "<div>\n",
       "<style>\n",
       "    .dataframe thead tr:only-child th {\n",
       "        text-align: right;\n",
       "    }\n",
       "\n",
       "    .dataframe thead th {\n",
       "        text-align: left;\n",
       "    }\n",
       "\n",
       "    .dataframe tbody tr th {\n",
       "        vertical-align: top;\n",
       "    }\n",
       "</style>\n",
       "<table border=\"1\" class=\"dataframe\">\n",
       "  <thead>\n",
       "    <tr style=\"text-align: right;\">\n",
       "      <th></th>\n",
       "      <th>label</th>\n",
       "      <th>text</th>\n",
       "      <th>source</th>\n",
       "      <th>text_normed</th>\n",
       "    </tr>\n",
       "  </thead>\n",
       "  <tbody>\n",
       "    <tr>\n",
       "      <th>25774</th>\n",
       "      <td>34652-8</td>\n",
       "      <td>Pancreatic islet cell Ab [Moles/volume] in Serum</td>\n",
       "      <td>LONG_COMMON_NAME</td>\n",
       "      <td>pancreatic islet cell ab [moles/volume] in serum</td>\n",
       "    </tr>\n",
       "    <tr>\n",
       "      <th>42028</th>\n",
       "      <td>56687-7</td>\n",
       "      <td>Pancreatic islet cell IgG Ab [Titer] in Serum ...</td>\n",
       "      <td>LONG_COMMON_NAME</td>\n",
       "      <td>pancreatic islet cell igg ab [titer] in serum ...</td>\n",
       "    </tr>\n",
       "    <tr>\n",
       "      <th>67161</th>\n",
       "      <td>5265-4</td>\n",
       "      <td>Pancreatic islet cell Ab [Presence] in Serum b...</td>\n",
       "      <td>LONG_COMMON_NAME</td>\n",
       "      <td>pancreatic islet cell ab [presence] in serum b...</td>\n",
       "    </tr>\n",
       "    <tr>\n",
       "      <th>101061</th>\n",
       "      <td>486-1</td>\n",
       "      <td>Teicoplanin [Susceptibility] by Serum bacteric...</td>\n",
       "      <td>LONG_COMMON_NAME</td>\n",
       "      <td>teicoplanin [susceptibility] by serum bacteric...</td>\n",
       "    </tr>\n",
       "    <tr>\n",
       "      <th>127043</th>\n",
       "      <td>25535-6</td>\n",
       "      <td>Teicoplanin [Moles/volume] in Serum or Plasma ...</td>\n",
       "      <td>LONG_COMMON_NAME</td>\n",
       "      <td>teicoplanin [moles/volume] in serum or plasma ...</td>\n",
       "    </tr>\n",
       "    <tr>\n",
       "      <th>142355</th>\n",
       "      <td>23995-4</td>\n",
       "      <td>Epstein Barr virus early IgG Ab [Titer] in Ser...</td>\n",
       "      <td>LONG_COMMON_NAME</td>\n",
       "      <td>epstein barr virus early igg ab [titer] in ser...</td>\n",
       "    </tr>\n",
       "    <tr>\n",
       "      <th>144769</th>\n",
       "      <td>24007-7</td>\n",
       "      <td>Epstein Barr virus early IgG Ab [Units/volume]...</td>\n",
       "      <td>LONG_COMMON_NAME</td>\n",
       "      <td>epstein barr virus early igg ab [units/volume]...</td>\n",
       "    </tr>\n",
       "    <tr>\n",
       "      <th>147554</th>\n",
       "      <td>50969-5</td>\n",
       "      <td>Epstein Barr virus early diffuse IgG Ab [Units...</td>\n",
       "      <td>LONG_COMMON_NAME</td>\n",
       "      <td>epstein barr virus early diffuse igg ab [units...</td>\n",
       "    </tr>\n",
       "  </tbody>\n",
       "</table>\n",
       "</div>"
      ],
      "text/plain": [
       "          label                                               text  \\\n",
       "25774   34652-8   Pancreatic islet cell Ab [Moles/volume] in Serum   \n",
       "42028   56687-7  Pancreatic islet cell IgG Ab [Titer] in Serum ...   \n",
       "67161    5265-4  Pancreatic islet cell Ab [Presence] in Serum b...   \n",
       "101061    486-1  Teicoplanin [Susceptibility] by Serum bacteric...   \n",
       "127043  25535-6  Teicoplanin [Moles/volume] in Serum or Plasma ...   \n",
       "142355  23995-4  Epstein Barr virus early IgG Ab [Titer] in Ser...   \n",
       "144769  24007-7  Epstein Barr virus early IgG Ab [Units/volume]...   \n",
       "147554  50969-5  Epstein Barr virus early diffuse IgG Ab [Units...   \n",
       "\n",
       "                  source                                        text_normed  \n",
       "25774   LONG_COMMON_NAME   pancreatic islet cell ab [moles/volume] in serum  \n",
       "42028   LONG_COMMON_NAME  pancreatic islet cell igg ab [titer] in serum ...  \n",
       "67161   LONG_COMMON_NAME  pancreatic islet cell ab [presence] in serum b...  \n",
       "101061  LONG_COMMON_NAME  teicoplanin [susceptibility] by serum bacteric...  \n",
       "127043  LONG_COMMON_NAME  teicoplanin [moles/volume] in serum or plasma ...  \n",
       "142355  LONG_COMMON_NAME  epstein barr virus early igg ab [titer] in ser...  \n",
       "144769  LONG_COMMON_NAME  epstein barr virus early igg ab [units/volume]...  \n",
       "147554  LONG_COMMON_NAME  epstein barr virus early diffuse igg ab [units...  "
      ]
     },
     "execution_count": 38,
     "metadata": {},
     "output_type": "execute_result"
    }
   ],
   "source": [
    "ebves = ['56687-7', '23995-4', '486-1', '34652-8', '50969-5', '5265-4', '24007-7', '25535-6']\n",
    "df[df['label'].isin(ebves)]"
   ]
  },
  {
   "cell_type": "code",
   "execution_count": 41,
   "metadata": {},
   "outputs": [
    {
     "name": "stdout",
     "output_type": "stream",
     "text": [
      "[('486-1', 44.144061386585236), ('23995-4', 40.99312576651573), ('25535-6', 34.597068160772324), ('58-8', 32.19485482573509), ('25309-6', 31.43113601207733), ('289-9', 27.521335512399673), ('40511-8', 27.26491215825081), ('14083-0', 23.657666563987732), ('23971-5', 19.69461390376091), ('3337-3', 17.277297645807266)]\n"
     ]
    }
   ],
   "source": [
    "# The method infer_vector() has randomness. The results are not deterministic\n",
    "# especially if the model is not well trained.\n",
    "# Run 100 times, tally the most common\n",
    "words = tokenize('Epstein-Barr Virus (EBV), IgG Antibody to Early Antigen, Serum')\n",
    "counter = Counter()\n",
    "for i in range(100):\n",
    "    docs = model300.docvecs.most_similar([model300.infer_vector(words)])\n",
    "    for doc in docs:\n",
    "        if doc[0] not in counter:\n",
    "            counter[doc[0]] = doc[1]\n",
    "        else:\n",
    "            counter[doc[0]] += doc[1]\n",
    "print(counter.most_common(10))"
   ]
  },
  {
   "cell_type": "code",
   "execution_count": 42,
   "metadata": {},
   "outputs": [
    {
     "data": {
      "text/html": [
       "<div>\n",
       "<style>\n",
       "    .dataframe thead tr:only-child th {\n",
       "        text-align: right;\n",
       "    }\n",
       "\n",
       "    .dataframe thead th {\n",
       "        text-align: left;\n",
       "    }\n",
       "\n",
       "    .dataframe tbody tr th {\n",
       "        vertical-align: top;\n",
       "    }\n",
       "</style>\n",
       "<table border=\"1\" class=\"dataframe\">\n",
       "  <thead>\n",
       "    <tr style=\"text-align: right;\">\n",
       "      <th></th>\n",
       "      <th>label</th>\n",
       "      <th>text</th>\n",
       "      <th>source</th>\n",
       "      <th>text_normed</th>\n",
       "    </tr>\n",
       "  </thead>\n",
       "  <tbody>\n",
       "    <tr>\n",
       "      <th>22050</th>\n",
       "      <td>25309-6</td>\n",
       "      <td>Amobarbital [Moles/volume] in Serum or Plasma</td>\n",
       "      <td>LONG_COMMON_NAME</td>\n",
       "      <td>amobarbital [moles/volume] in serum or plasma</td>\n",
       "    </tr>\n",
       "    <tr>\n",
       "      <th>29131</th>\n",
       "      <td>289-9</td>\n",
       "      <td>Isoniazid [Susceptibility] by Serum bactericid...</td>\n",
       "      <td>LONG_COMMON_NAME</td>\n",
       "      <td>isoniazid [susceptibility] by serum bactericid...</td>\n",
       "    </tr>\n",
       "    <tr>\n",
       "      <th>47262</th>\n",
       "      <td>23971-5</td>\n",
       "      <td>Epstein Barr virus early IgG Ab [Titer] in Serum</td>\n",
       "      <td>LONG_COMMON_NAME</td>\n",
       "      <td>epstein barr virus early igg ab [titer] in serum</td>\n",
       "    </tr>\n",
       "    <tr>\n",
       "      <th>81001</th>\n",
       "      <td>40511-8</td>\n",
       "      <td>Snowshoe hare virus Ab [Titer] in Serum by Hem...</td>\n",
       "      <td>LONG_COMMON_NAME</td>\n",
       "      <td>snowshoe hare virus ab [titer] in serum by hem...</td>\n",
       "    </tr>\n",
       "    <tr>\n",
       "      <th>101061</th>\n",
       "      <td>486-1</td>\n",
       "      <td>Teicoplanin [Susceptibility] by Serum bacteric...</td>\n",
       "      <td>LONG_COMMON_NAME</td>\n",
       "      <td>teicoplanin [susceptibility] by serum bacteric...</td>\n",
       "    </tr>\n",
       "    <tr>\n",
       "      <th>127043</th>\n",
       "      <td>25535-6</td>\n",
       "      <td>Teicoplanin [Moles/volume] in Serum or Plasma ...</td>\n",
       "      <td>LONG_COMMON_NAME</td>\n",
       "      <td>teicoplanin [moles/volume] in serum or plasma ...</td>\n",
       "    </tr>\n",
       "    <tr>\n",
       "      <th>127326</th>\n",
       "      <td>14083-0</td>\n",
       "      <td>Epstein Barr virus early Ab [Titer] in Serum b...</td>\n",
       "      <td>LONG_COMMON_NAME</td>\n",
       "      <td>epstein barr virus early ab [titer] in serum b...</td>\n",
       "    </tr>\n",
       "    <tr>\n",
       "      <th>139950</th>\n",
       "      <td>3337-3</td>\n",
       "      <td>Amobarbital [Presence] in Serum or Plasma</td>\n",
       "      <td>LONG_COMMON_NAME</td>\n",
       "      <td>amobarbital [presence] in serum or plasma</td>\n",
       "    </tr>\n",
       "    <tr>\n",
       "      <th>142355</th>\n",
       "      <td>23995-4</td>\n",
       "      <td>Epstein Barr virus early IgG Ab [Titer] in Ser...</td>\n",
       "      <td>LONG_COMMON_NAME</td>\n",
       "      <td>epstein barr virus early igg ab [titer] in ser...</td>\n",
       "    </tr>\n",
       "    <tr>\n",
       "      <th>150309</th>\n",
       "      <td>58-8</td>\n",
       "      <td>Capreomycin [Susceptibility] by Serum bacteric...</td>\n",
       "      <td>LONG_COMMON_NAME</td>\n",
       "      <td>capreomycin [susceptibility] by serum bacteric...</td>\n",
       "    </tr>\n",
       "  </tbody>\n",
       "</table>\n",
       "</div>"
      ],
      "text/plain": [
       "          label                                               text  \\\n",
       "22050   25309-6      Amobarbital [Moles/volume] in Serum or Plasma   \n",
       "29131     289-9  Isoniazid [Susceptibility] by Serum bactericid...   \n",
       "47262   23971-5   Epstein Barr virus early IgG Ab [Titer] in Serum   \n",
       "81001   40511-8  Snowshoe hare virus Ab [Titer] in Serum by Hem...   \n",
       "101061    486-1  Teicoplanin [Susceptibility] by Serum bacteric...   \n",
       "127043  25535-6  Teicoplanin [Moles/volume] in Serum or Plasma ...   \n",
       "127326  14083-0  Epstein Barr virus early Ab [Titer] in Serum b...   \n",
       "139950   3337-3          Amobarbital [Presence] in Serum or Plasma   \n",
       "142355  23995-4  Epstein Barr virus early IgG Ab [Titer] in Ser...   \n",
       "150309     58-8  Capreomycin [Susceptibility] by Serum bacteric...   \n",
       "\n",
       "                  source                                        text_normed  \n",
       "22050   LONG_COMMON_NAME      amobarbital [moles/volume] in serum or plasma  \n",
       "29131   LONG_COMMON_NAME  isoniazid [susceptibility] by serum bactericid...  \n",
       "47262   LONG_COMMON_NAME   epstein barr virus early igg ab [titer] in serum  \n",
       "81001   LONG_COMMON_NAME  snowshoe hare virus ab [titer] in serum by hem...  \n",
       "101061  LONG_COMMON_NAME  teicoplanin [susceptibility] by serum bacteric...  \n",
       "127043  LONG_COMMON_NAME  teicoplanin [moles/volume] in serum or plasma ...  \n",
       "127326  LONG_COMMON_NAME  epstein barr virus early ab [titer] in serum b...  \n",
       "139950  LONG_COMMON_NAME          amobarbital [presence] in serum or plasma  \n",
       "142355  LONG_COMMON_NAME  epstein barr virus early igg ab [titer] in ser...  \n",
       "150309  LONG_COMMON_NAME  capreomycin [susceptibility] by serum bacteric...  "
      ]
     },
     "execution_count": 42,
     "metadata": {},
     "output_type": "execute_result"
    }
   ],
   "source": [
    "ebves = ['486-1', '23995-4', '25535-6', '58-8', '25309-6', '289-9', '40511-8', '14083-0', '23971-5', '3337-3']\n",
    "df[df['label'].isin(ebves)]"
   ]
  },
  {
   "cell_type": "code",
   "execution_count": 44,
   "metadata": {},
   "outputs": [
    {
     "name": "stdout",
     "output_type": "stream",
     "text": [
      "[('50969-5', 45.77522426843643), ('33563-8', 41.53895753622055), ('8086-1', 35.698059648275375), ('13927-9', 30.962683022022247), ('45171-6', 30.94540160894394), ('45225-0', 28.883053302764893), ('13236-5', 27.647278010845184), ('34652-8', 24.83622545003891), ('56687-7', 22.42901784181595), ('22293-5', 18.480848729610443)]\n"
     ]
    }
   ],
   "source": [
    "# Run the same for model50\n",
    "# The method infer_vector() has randomness. The results are not deterministic\n",
    "# especially if the model is not well trained.\n",
    "# Run 100 times, tally the most common\n",
    "words = tokenize('Epstein-Barr Virus (EBV), IgG Antibody to Early Antigen, Serum')\n",
    "counter = Counter()\n",
    "for i in range(100):\n",
    "    docs = model50.docvecs.most_similar([model50.infer_vector(words)])\n",
    "    for doc in docs:\n",
    "        if doc[0] not in counter:\n",
    "            counter[doc[0]] = doc[1]\n",
    "        else:\n",
    "            counter[doc[0]] += doc[1]\n",
    "print(counter.most_common(10))"
   ]
  },
  {
   "cell_type": "code",
   "execution_count": 45,
   "metadata": {},
   "outputs": [
    {
     "data": {
      "text/html": [
       "<div>\n",
       "<style>\n",
       "    .dataframe thead tr:only-child th {\n",
       "        text-align: right;\n",
       "    }\n",
       "\n",
       "    .dataframe thead th {\n",
       "        text-align: left;\n",
       "    }\n",
       "\n",
       "    .dataframe tbody tr th {\n",
       "        vertical-align: top;\n",
       "    }\n",
       "</style>\n",
       "<table border=\"1\" class=\"dataframe\">\n",
       "  <thead>\n",
       "    <tr style=\"text-align: right;\">\n",
       "      <th></th>\n",
       "      <th>label</th>\n",
       "      <th>text</th>\n",
       "      <th>source</th>\n",
       "      <th>text_normed</th>\n",
       "    </tr>\n",
       "  </thead>\n",
       "  <tbody>\n",
       "    <tr>\n",
       "      <th>3185</th>\n",
       "      <td>22293-5</td>\n",
       "      <td>Epstein Barr virus early Ab [Units/volume] in ...</td>\n",
       "      <td>LONG_COMMON_NAME</td>\n",
       "      <td>epstein barr virus early ab [units/volume] in ...</td>\n",
       "    </tr>\n",
       "    <tr>\n",
       "      <th>5466</th>\n",
       "      <td>45225-0</td>\n",
       "      <td>Pancreatic islet cell complement fixing Ab [Ti...</td>\n",
       "      <td>LONG_COMMON_NAME</td>\n",
       "      <td>pancreatic islet cell complement fixing ab [ti...</td>\n",
       "    </tr>\n",
       "    <tr>\n",
       "      <th>10914</th>\n",
       "      <td>13236-5</td>\n",
       "      <td>Epstein Barr virus early diffuse Ab [Presence]...</td>\n",
       "      <td>LONG_COMMON_NAME</td>\n",
       "      <td>epstein barr virus early diffuse ab [presence]...</td>\n",
       "    </tr>\n",
       "    <tr>\n",
       "      <th>25774</th>\n",
       "      <td>34652-8</td>\n",
       "      <td>Pancreatic islet cell Ab [Moles/volume] in Serum</td>\n",
       "      <td>LONG_COMMON_NAME</td>\n",
       "      <td>pancreatic islet cell ab [moles/volume] in serum</td>\n",
       "    </tr>\n",
       "    <tr>\n",
       "      <th>42028</th>\n",
       "      <td>56687-7</td>\n",
       "      <td>Pancreatic islet cell IgG Ab [Titer] in Serum ...</td>\n",
       "      <td>LONG_COMMON_NAME</td>\n",
       "      <td>pancreatic islet cell igg ab [titer] in serum ...</td>\n",
       "    </tr>\n",
       "    <tr>\n",
       "      <th>45717</th>\n",
       "      <td>33563-8</td>\n",
       "      <td>Pancreatic islet cell IgG Ab [Units/volume] in...</td>\n",
       "      <td>LONG_COMMON_NAME</td>\n",
       "      <td>pancreatic islet cell igg ab [units/volume] in...</td>\n",
       "    </tr>\n",
       "    <tr>\n",
       "      <th>66431</th>\n",
       "      <td>45171-6</td>\n",
       "      <td>Pancreatic islet cell Ab [Units/volume] in Ser...</td>\n",
       "      <td>LONG_COMMON_NAME</td>\n",
       "      <td>pancreatic islet cell ab [units/volume] in ser...</td>\n",
       "    </tr>\n",
       "    <tr>\n",
       "      <th>121636</th>\n",
       "      <td>8086-1</td>\n",
       "      <td>Pancreatic islet cell Ab [Units/volume] in Serum</td>\n",
       "      <td>LONG_COMMON_NAME</td>\n",
       "      <td>pancreatic islet cell ab [units/volume] in serum</td>\n",
       "    </tr>\n",
       "    <tr>\n",
       "      <th>144261</th>\n",
       "      <td>13927-9</td>\n",
       "      <td>Pancreatic islet cell Ab [Titer] in Serum</td>\n",
       "      <td>LONG_COMMON_NAME</td>\n",
       "      <td>pancreatic islet cell ab [titer] in serum</td>\n",
       "    </tr>\n",
       "    <tr>\n",
       "      <th>147554</th>\n",
       "      <td>50969-5</td>\n",
       "      <td>Epstein Barr virus early diffuse IgG Ab [Units...</td>\n",
       "      <td>LONG_COMMON_NAME</td>\n",
       "      <td>epstein barr virus early diffuse igg ab [units...</td>\n",
       "    </tr>\n",
       "  </tbody>\n",
       "</table>\n",
       "</div>"
      ],
      "text/plain": [
       "          label                                               text  \\\n",
       "3185    22293-5  Epstein Barr virus early Ab [Units/volume] in ...   \n",
       "5466    45225-0  Pancreatic islet cell complement fixing Ab [Ti...   \n",
       "10914   13236-5  Epstein Barr virus early diffuse Ab [Presence]...   \n",
       "25774   34652-8   Pancreatic islet cell Ab [Moles/volume] in Serum   \n",
       "42028   56687-7  Pancreatic islet cell IgG Ab [Titer] in Serum ...   \n",
       "45717   33563-8  Pancreatic islet cell IgG Ab [Units/volume] in...   \n",
       "66431   45171-6  Pancreatic islet cell Ab [Units/volume] in Ser...   \n",
       "121636   8086-1   Pancreatic islet cell Ab [Units/volume] in Serum   \n",
       "144261  13927-9          Pancreatic islet cell Ab [Titer] in Serum   \n",
       "147554  50969-5  Epstein Barr virus early diffuse IgG Ab [Units...   \n",
       "\n",
       "                  source                                        text_normed  \n",
       "3185    LONG_COMMON_NAME  epstein barr virus early ab [units/volume] in ...  \n",
       "5466    LONG_COMMON_NAME  pancreatic islet cell complement fixing ab [ti...  \n",
       "10914   LONG_COMMON_NAME  epstein barr virus early diffuse ab [presence]...  \n",
       "25774   LONG_COMMON_NAME   pancreatic islet cell ab [moles/volume] in serum  \n",
       "42028   LONG_COMMON_NAME  pancreatic islet cell igg ab [titer] in serum ...  \n",
       "45717   LONG_COMMON_NAME  pancreatic islet cell igg ab [units/volume] in...  \n",
       "66431   LONG_COMMON_NAME  pancreatic islet cell ab [units/volume] in ser...  \n",
       "121636  LONG_COMMON_NAME   pancreatic islet cell ab [units/volume] in serum  \n",
       "144261  LONG_COMMON_NAME          pancreatic islet cell ab [titer] in serum  \n",
       "147554  LONG_COMMON_NAME  epstein barr virus early diffuse igg ab [units...  "
      ]
     },
     "execution_count": 45,
     "metadata": {},
     "output_type": "execute_result"
    }
   ],
   "source": [
    "ebves = ['50969-5', '33563-8', '8086-1', '13927-9', '45171-6', '45225-0', '13236-5', '34652-8', '56687-7', '22293-5']\n",
    "df[df['label'].isin(ebves)]"
   ]
  },
  {
   "cell_type": "code",
   "execution_count": 46,
   "metadata": {},
   "outputs": [
    {
     "name": "stdout",
     "output_type": "stream",
     "text": [
      "[ 0.  0.  0.  0.  0.  0.  0.  0.  0.  0.  0.  0.  0.  0.  0.  0.  0.  0.\n",
      "  0.  0.  0.  0.  0.  0.  0.  0.  0.  0.  0.  0.  0.  0.  0.  0.  0.  0.\n",
      "  0.  0.  0.  0.  0.  0.  0.  0.  0.  0.  0.  0.  0.  0.]\n"
     ]
    }
   ],
   "source": [
    "# Set the same seed so that infer_vector()\n",
    "# return the same results on each and every run\n",
    "model50.random.seed(0)\n",
    "x = model50.infer_vector(['epstein', 'barr', 'virus', 'early', 'igg', 'ab'])\n",
    "model50.random.seed(0)\n",
    "y = model50.infer_vector(['epstein', 'barr', 'virus', 'early', 'igg', 'ab'])\n",
    "delta = x - y\n",
    "print(delta)"
   ]
  },
  {
   "cell_type": "code",
   "execution_count": 47,
   "metadata": {},
   "outputs": [
    {
     "data": {
      "text/plain": [
       "[('menarche', 0.2297549545764923),\n",
       " ('stifle', 0.22399133443832397),\n",
       " ('graffiti', 0.19848231971263885),\n",
       " ('foot', 0.18725237250328064),\n",
       " ('true', 0.18657299876213074),\n",
       " ('newberyite', 0.18505138158798218),\n",
       " ('realtor', 0.1836176961660385),\n",
       " ('creaky', 0.18329203128814697),\n",
       " ('pin', 0.17858730256557465),\n",
       " ('clinician', 0.1780276894569397)]"
      ]
     },
     "execution_count": 47,
     "metadata": {},
     "output_type": "execute_result"
    }
   ],
   "source": [
    "# Similar words are not that impressive\n",
    "# most_similar() runs deterministic\n",
    "model300.most_similar('volume')"
   ]
  },
  {
   "cell_type": "code",
   "execution_count": 48,
   "metadata": {},
   "outputs": [
    {
     "data": {
      "text/plain": [
       "[('maleic', 0.2153959572315216),\n",
       " ('isospora', 0.2122819423675537),\n",
       " ('suggestions', 0.20984108746051788),\n",
       " ('spontaneous', 0.19759142398834229),\n",
       " ('dimethylacetals', 0.19339193403720856),\n",
       " ('reviewing', 0.1924281269311905),\n",
       " ('splenic', 0.18962043523788452),\n",
       " ('thirsty', 0.18697085976600647),\n",
       " ('gentisate', 0.18520410358905792),\n",
       " ('trimethyllysine', 0.18495729565620422)]"
      ]
     },
     "execution_count": 48,
     "metadata": {},
     "output_type": "execute_result"
    }
   ],
   "source": [
    "model300.most_similar('moles')"
   ]
  },
  {
   "cell_type": "code",
   "execution_count": 49,
   "metadata": {},
   "outputs": [
    {
     "data": {
      "text/plain": [
       "[('erbb', 0.2318321168422699),\n",
       " ('relation', 0.22112730145454407),\n",
       " ('axilla', 0.20663727819919586),\n",
       " ('canalicular', 0.20466859638690948),\n",
       " ('rat', 0.20236684381961823),\n",
       " ('decadienediate', 0.19803588092327118),\n",
       " ('aniline', 0.19758117198944092),\n",
       " ('herbarum', 0.19648440182209015),\n",
       " ('else', 0.1938151866197586),\n",
       " ('ffd', 0.193358913064003)]"
      ]
     },
     "execution_count": 49,
     "metadata": {},
     "output_type": "execute_result"
    }
   ],
   "source": [
    "model300.most_similar('serum')"
   ]
  },
  {
   "cell_type": "code",
   "execution_count": 50,
   "metadata": {},
   "outputs": [
    {
     "data": {
      "text/plain": [
       "[('barrier', 0.2187296748161316),\n",
       " ('metanephrine', 0.21110078692436218),\n",
       " ('deal', 0.20796166360378265),\n",
       " ('reovirus', 0.19694575667381287),\n",
       " ('gnas', 0.19392485916614532),\n",
       " ('vibrations', 0.19261938333511353),\n",
       " ('figure', 0.19201980531215668),\n",
       " ('loquacious', 0.1853402853012085),\n",
       " ('noroxycodone', 0.1805088222026825),\n",
       " ('backpack', 0.1805063784122467)]"
      ]
     },
     "execution_count": 50,
     "metadata": {},
     "output_type": "execute_result"
    }
   ],
   "source": [
    "model300.most_similar('plasma')"
   ]
  },
  {
   "cell_type": "code",
   "execution_count": 51,
   "metadata": {},
   "outputs": [
    {
     "data": {
      "text/plain": [
       "[('channel', 0.2230667769908905),\n",
       " ('cotinine', 0.20671391487121582),\n",
       " ('axial', 0.20658428966999054),\n",
       " ('talampicillin', 0.20425158739089966),\n",
       " ('pmi', 0.19924785196781158),\n",
       " ('anticonvulsant', 0.19661115109920502),\n",
       " ('hemolyzed', 0.18989506363868713),\n",
       " ('leukocytary', 0.1867826133966446),\n",
       " ('prescribe', 0.18497586250305176),\n",
       " ('mullerian', 0.1799345314502716)]"
      ]
     },
     "execution_count": 51,
     "metadata": {},
     "output_type": "execute_result"
    }
   ],
   "source": [
    "model300.most_similar('blood')"
   ]
  },
  {
   "cell_type": "code",
   "execution_count": 52,
   "metadata": {},
   "outputs": [
    {
     "data": {
      "text/plain": [
       "[('phase', 0.20257756114006042),\n",
       " ('tuf', 0.19893112778663635),\n",
       " ('diethanolamine', 0.19269448518753052),\n",
       " ('pens', 0.19198058545589447),\n",
       " ('sdhb', 0.1905735433101654),\n",
       " ('dementia', 0.1904500126838684),\n",
       " ('nadolol', 0.18980106711387634),\n",
       " ('whelp', 0.1869278848171234),\n",
       " ('promotion', 0.1864202618598938),\n",
       " ('receptor', 0.18598870933055878)]"
      ]
     },
     "execution_count": 52,
     "metadata": {},
     "output_type": "execute_result"
    }
   ],
   "source": [
    "model300.most_similar('streptococcus')"
   ]
  },
  {
   "cell_type": "code",
   "execution_count": 53,
   "metadata": {},
   "outputs": [
    {
     "data": {
      "text/plain": [
       "[('trichophyton', 0.21472123265266418),\n",
       " ('snow', 0.21429543197155),\n",
       " ('desipramine', 0.20430803298950195),\n",
       " ('submission', 0.20406967401504517),\n",
       " ('manually', 0.19155070185661316),\n",
       " ('successful', 0.1887001395225525),\n",
       " ('listener', 0.1883692890405655),\n",
       " ('rent', 0.177993506193161),\n",
       " ('speak', 0.17647776007652283),\n",
       " ('premorbid', 0.17348122596740723)]"
      ]
     },
     "execution_count": 53,
     "metadata": {},
     "output_type": "execute_result"
    }
   ],
   "source": [
    "model300.most_similar('glucose')"
   ]
  },
  {
   "cell_type": "code",
   "execution_count": 54,
   "metadata": {},
   "outputs": [
    {
     "data": {
      "text/plain": [
       "[('restaurant', 0.21371184289455414),\n",
       " ('limb', 0.20785477757453918),\n",
       " ('debauchery', 0.20261988043785095),\n",
       " ('him', 0.19850939512252808),\n",
       " ('rufinamide', 0.19388362765312195),\n",
       " ('intramural', 0.19091060757637024),\n",
       " ('beverage', 0.1870700865983963),\n",
       " ('sunburns', 0.18620546162128448),\n",
       " ('sustaining', 0.1859477311372757),\n",
       " ('dme', 0.1849375218153)]"
      ]
     },
     "execution_count": 54,
     "metadata": {},
     "output_type": "execute_result"
    }
   ],
   "source": [
    "model300.most_similar('acetaminophen')"
   ]
  },
  {
   "cell_type": "code",
   "execution_count": 55,
   "metadata": {},
   "outputs": [
    {
     "data": {
      "text/plain": [
       "[('advises', 0.2140040248632431),\n",
       " ('miss', 0.21182572841644287),\n",
       " ('hydroxycotinine', 0.20032662153244019),\n",
       " ('fundal', 0.19427016377449036),\n",
       " ('epithelial', 0.19332091510295868),\n",
       " ('statistical', 0.19302773475646973),\n",
       " ('number', 0.19147227704524994),\n",
       " ('app', 0.19068971276283264),\n",
       " ('semilente', 0.1903798133134842),\n",
       " ('prosthesis', 0.1883821189403534)]"
      ]
     },
     "execution_count": 55,
     "metadata": {},
     "output_type": "execute_result"
    }
   ],
   "source": [
    "# Both word and doc\n",
    "# Notice that the performance on word is not good\n",
    "model300.most_similar('diabetes')"
   ]
  },
  {
   "cell_type": "code",
   "execution_count": 56,
   "metadata": {},
   "outputs": [
    {
     "data": {
      "text/plain": [
       "[('66678-4', 0.7416167855262756),\n",
       " ('62787-7', 0.6676766276359558),\n",
       " ('62791-9', 0.6426296830177307),\n",
       " ('65546-4', 0.6195601224899292),\n",
       " ('62401-5', 0.6022331118583679),\n",
       " ('62790-1', 0.5927032232284546),\n",
       " ('33248-6', 0.5924503803253174),\n",
       " ('54795-0', 0.5894614458084106),\n",
       " ('62287-8', 0.5866808295249939),\n",
       " ('66047-2', 0.5819916725158691)]"
      ]
     },
     "execution_count": 56,
     "metadata": {},
     "output_type": "execute_result"
    }
   ],
   "source": [
    "model300.docvecs.most_similar([model300.infer_vector(['diabetes'])])"
   ]
  },
  {
   "cell_type": "code",
   "execution_count": 57,
   "metadata": {},
   "outputs": [
    {
     "data": {
      "text/html": [
       "<div>\n",
       "<style>\n",
       "    .dataframe thead tr:only-child th {\n",
       "        text-align: right;\n",
       "    }\n",
       "\n",
       "    .dataframe thead th {\n",
       "        text-align: left;\n",
       "    }\n",
       "\n",
       "    .dataframe tbody tr th {\n",
       "        vertical-align: top;\n",
       "    }\n",
       "</style>\n",
       "<table border=\"1\" class=\"dataframe\">\n",
       "  <thead>\n",
       "    <tr style=\"text-align: right;\">\n",
       "      <th></th>\n",
       "      <th>label</th>\n",
       "      <th>text</th>\n",
       "      <th>source</th>\n",
       "      <th>text_normed</th>\n",
       "    </tr>\n",
       "  </thead>\n",
       "  <tbody>\n",
       "    <tr>\n",
       "      <th>6842</th>\n",
       "      <td>33248-6</td>\n",
       "      <td>Diabetes status [Identifier]</td>\n",
       "      <td>LONG_COMMON_NAME</td>\n",
       "      <td>diabetes status [identifier]</td>\n",
       "    </tr>\n",
       "    <tr>\n",
       "      <th>40760</th>\n",
       "      <td>62790-1</td>\n",
       "      <td>Deprecated PhenX measure - family history of d...</td>\n",
       "      <td>LONG_COMMON_NAME</td>\n",
       "      <td>deprecated phenx measure - family history of d...</td>\n",
       "    </tr>\n",
       "    <tr>\n",
       "      <th>101467</th>\n",
       "      <td>65546-4</td>\n",
       "      <td>Problem related to diabetes [PhenX]</td>\n",
       "      <td>LONG_COMMON_NAME</td>\n",
       "      <td>problem related to diabetes [phenx]</td>\n",
       "    </tr>\n",
       "    <tr>\n",
       "      <th>102098</th>\n",
       "      <td>54795-0</td>\n",
       "      <td>Diabetes mellitus in last 7 days [MDSv3]</td>\n",
       "      <td>LONG_COMMON_NAME</td>\n",
       "      <td>diabetes mellitus in last 7 days [mdsv3]</td>\n",
       "    </tr>\n",
       "    <tr>\n",
       "      <th>104649</th>\n",
       "      <td>62787-7</td>\n",
       "      <td>PhenX domain - Diabetes</td>\n",
       "      <td>LONG_COMMON_NAME</td>\n",
       "      <td>phenx domain - diabetes</td>\n",
       "    </tr>\n",
       "    <tr>\n",
       "      <th>142478</th>\n",
       "      <td>62791-9</td>\n",
       "      <td>PhenX - family history of diabetes protocol</td>\n",
       "      <td>LONG_COMMON_NAME</td>\n",
       "      <td>phenx - family history of diabetes protocol</td>\n",
       "    </tr>\n",
       "    <tr>\n",
       "      <th>145814</th>\n",
       "      <td>62401-5</td>\n",
       "      <td>PhenX - deep venous thrombosis protocol</td>\n",
       "      <td>LONG_COMMON_NAME</td>\n",
       "      <td>phenx - deep venous thrombosis protocol</td>\n",
       "    </tr>\n",
       "    <tr>\n",
       "      <th>151721</th>\n",
       "      <td>66678-4</td>\n",
       "      <td>Diabetes [PhenX]</td>\n",
       "      <td>LONG_COMMON_NAME</td>\n",
       "      <td>diabetes [phenx]</td>\n",
       "    </tr>\n",
       "  </tbody>\n",
       "</table>\n",
       "</div>"
      ],
      "text/plain": [
       "          label                                               text  \\\n",
       "6842    33248-6                       Diabetes status [Identifier]   \n",
       "40760   62790-1  Deprecated PhenX measure - family history of d...   \n",
       "101467  65546-4                Problem related to diabetes [PhenX]   \n",
       "102098  54795-0           Diabetes mellitus in last 7 days [MDSv3]   \n",
       "104649  62787-7                            PhenX domain - Diabetes   \n",
       "142478  62791-9        PhenX - family history of diabetes protocol   \n",
       "145814  62401-5            PhenX - deep venous thrombosis protocol   \n",
       "151721  66678-4                                   Diabetes [PhenX]   \n",
       "\n",
       "                  source                                        text_normed  \n",
       "6842    LONG_COMMON_NAME                       diabetes status [identifier]  \n",
       "40760   LONG_COMMON_NAME  deprecated phenx measure - family history of d...  \n",
       "101467  LONG_COMMON_NAME                problem related to diabetes [phenx]  \n",
       "102098  LONG_COMMON_NAME           diabetes mellitus in last 7 days [mdsv3]  \n",
       "104649  LONG_COMMON_NAME                            phenx domain - diabetes  \n",
       "142478  LONG_COMMON_NAME        phenx - family history of diabetes protocol  \n",
       "145814  LONG_COMMON_NAME            phenx - deep venous thrombosis protocol  \n",
       "151721  LONG_COMMON_NAME                                   diabetes [phenx]  "
      ]
     },
     "execution_count": 57,
     "metadata": {},
     "output_type": "execute_result"
    }
   ],
   "source": [
    "# The performance on doc seems much better\n",
    "similar = ['66678-4', '62787-7', '62791-9', '65546-4', '62401-5', '62790-1', '33248-6', '54795-0']\n",
    "df[df['label'].isin(similar)]"
   ]
  },
  {
   "cell_type": "code",
   "execution_count": 58,
   "metadata": {},
   "outputs": [
    {
     "data": {
      "text/plain": [
       "[('major', 0.23478995263576508),\n",
       " ('banana', 0.22888852655887604),\n",
       " ('lanes', 0.21150898933410645),\n",
       " ('predicted', 0.2113720178604126),\n",
       " ('balance', 0.20252446830272675),\n",
       " ('bruton', 0.19255386292934418),\n",
       " ('sell', 0.187323659658432),\n",
       " ('candidus', 0.1852608323097229),\n",
       " ('specify', 0.18446452915668488),\n",
       " ('towne', 0.18408231437206268)]"
      ]
     },
     "execution_count": 58,
     "metadata": {},
     "output_type": "execute_result"
    }
   ],
   "source": [
    "# Both word and doc\n",
    "model300.most_similar('stroke')"
   ]
  },
  {
   "cell_type": "code",
   "execution_count": 59,
   "metadata": {},
   "outputs": [
    {
     "data": {
      "text/plain": [
       "[('8862-5', 0.6665160059928894),\n",
       " ('20562-5', 0.6552237868309021),\n",
       " ('8775-9', 0.6382864117622375),\n",
       " ('8782-5', 0.6360149383544922),\n",
       " ('76297-1', 0.6291056871414185),\n",
       " ('18178-4', 0.626961886882782),\n",
       " ('8863-3', 0.6259074211120605),\n",
       " ('8776-7', 0.62371426820755),\n",
       " ('20323-2', 0.6229154467582703),\n",
       " ('8864-1', 0.6183098554611206)]"
      ]
     },
     "execution_count": 59,
     "metadata": {},
     "output_type": "execute_result"
    }
   ],
   "source": [
    "model300.docvecs.most_similar([model300.infer_vector(['stroke'])])"
   ]
  },
  {
   "cell_type": "code",
   "execution_count": 60,
   "metadata": {},
   "outputs": [
    {
     "data": {
      "text/html": [
       "<div>\n",
       "<style>\n",
       "    .dataframe thead tr:only-child th {\n",
       "        text-align: right;\n",
       "    }\n",
       "\n",
       "    .dataframe thead th {\n",
       "        text-align: left;\n",
       "    }\n",
       "\n",
       "    .dataframe tbody tr th {\n",
       "        vertical-align: top;\n",
       "    }\n",
       "</style>\n",
       "<table border=\"1\" class=\"dataframe\">\n",
       "  <thead>\n",
       "    <tr style=\"text-align: right;\">\n",
       "      <th></th>\n",
       "      <th>label</th>\n",
       "      <th>text</th>\n",
       "      <th>source</th>\n",
       "      <th>text_normed</th>\n",
       "    </tr>\n",
       "  </thead>\n",
       "  <tbody>\n",
       "    <tr>\n",
       "      <th>1049</th>\n",
       "      <td>76297-1</td>\n",
       "      <td>Left ventricular Stroke volume index</td>\n",
       "      <td>LONG_COMMON_NAME</td>\n",
       "      <td>left ventricular stroke volume index</td>\n",
       "    </tr>\n",
       "    <tr>\n",
       "      <th>15641</th>\n",
       "      <td>8862-5</td>\n",
       "      <td>Right ventricular Stroke work</td>\n",
       "      <td>LONG_COMMON_NAME</td>\n",
       "      <td>right ventricular stroke work</td>\n",
       "    </tr>\n",
       "    <tr>\n",
       "      <th>19105</th>\n",
       "      <td>8782-5</td>\n",
       "      <td>Right ventricular Stroke volume by MR</td>\n",
       "      <td>LONG_COMMON_NAME</td>\n",
       "      <td>right ventricular stroke volume by mr</td>\n",
       "    </tr>\n",
       "    <tr>\n",
       "      <th>102943</th>\n",
       "      <td>20562-5</td>\n",
       "      <td>Left ventricular Stroke volume</td>\n",
       "      <td>LONG_COMMON_NAME</td>\n",
       "      <td>left ventricular stroke volume</td>\n",
       "    </tr>\n",
       "    <tr>\n",
       "      <th>110383</th>\n",
       "      <td>18178-4</td>\n",
       "      <td>Left ventricular Wall motion index by US</td>\n",
       "      <td>LONG_COMMON_NAME</td>\n",
       "      <td>left ventricular wall motion index by us</td>\n",
       "    </tr>\n",
       "    <tr>\n",
       "      <th>113016</th>\n",
       "      <td>20323-2</td>\n",
       "      <td>Left ventricular Stroke volume by US.2D+Calcul...</td>\n",
       "      <td>LONG_COMMON_NAME</td>\n",
       "      <td>left ventricular stroke volume by us.2d+calcul...</td>\n",
       "    </tr>\n",
       "    <tr>\n",
       "      <th>124246</th>\n",
       "      <td>8776-7</td>\n",
       "      <td>Right ventricular Stroke volume by Angiography...</td>\n",
       "      <td>LONG_COMMON_NAME</td>\n",
       "      <td>right ventricular stroke volume by angiography...</td>\n",
       "    </tr>\n",
       "    <tr>\n",
       "      <th>135785</th>\n",
       "      <td>8863-3</td>\n",
       "      <td>Left ventricular stroke work index</td>\n",
       "      <td>LONG_COMMON_NAME</td>\n",
       "      <td>left ventricular stroke work index</td>\n",
       "    </tr>\n",
       "    <tr>\n",
       "      <th>138790</th>\n",
       "      <td>8864-1</td>\n",
       "      <td>Right ventricular Stroke work index</td>\n",
       "      <td>LONG_COMMON_NAME</td>\n",
       "      <td>right ventricular stroke work index</td>\n",
       "    </tr>\n",
       "    <tr>\n",
       "      <th>145772</th>\n",
       "      <td>8775-9</td>\n",
       "      <td>Right ventricular Stroke volume by 2D echo</td>\n",
       "      <td>LONG_COMMON_NAME</td>\n",
       "      <td>right ventricular stroke volume by 2d echo</td>\n",
       "    </tr>\n",
       "  </tbody>\n",
       "</table>\n",
       "</div>"
      ],
      "text/plain": [
       "          label                                               text  \\\n",
       "1049    76297-1               Left ventricular Stroke volume index   \n",
       "15641    8862-5                      Right ventricular Stroke work   \n",
       "19105    8782-5              Right ventricular Stroke volume by MR   \n",
       "102943  20562-5                     Left ventricular Stroke volume   \n",
       "110383  18178-4           Left ventricular Wall motion index by US   \n",
       "113016  20323-2  Left ventricular Stroke volume by US.2D+Calcul...   \n",
       "124246   8776-7  Right ventricular Stroke volume by Angiography...   \n",
       "135785   8863-3                 Left ventricular stroke work index   \n",
       "138790   8864-1                Right ventricular Stroke work index   \n",
       "145772   8775-9         Right ventricular Stroke volume by 2D echo   \n",
       "\n",
       "                  source                                        text_normed  \n",
       "1049    LONG_COMMON_NAME               left ventricular stroke volume index  \n",
       "15641   LONG_COMMON_NAME                      right ventricular stroke work  \n",
       "19105   LONG_COMMON_NAME              right ventricular stroke volume by mr  \n",
       "102943  LONG_COMMON_NAME                     left ventricular stroke volume  \n",
       "110383  LONG_COMMON_NAME           left ventricular wall motion index by us  \n",
       "113016  LONG_COMMON_NAME  left ventricular stroke volume by us.2d+calcul...  \n",
       "124246  LONG_COMMON_NAME  right ventricular stroke volume by angiography...  \n",
       "135785  LONG_COMMON_NAME                 left ventricular stroke work index  \n",
       "138790  LONG_COMMON_NAME                right ventricular stroke work index  \n",
       "145772  LONG_COMMON_NAME         right ventricular stroke volume by 2d echo  "
      ]
     },
     "execution_count": 60,
     "metadata": {},
     "output_type": "execute_result"
    }
   ],
   "source": [
    "# But just a single word can be ambiguous\n",
    "similar = ['8862-5', '20562-5', '8775-9', '8782-5', '76297-1',\n",
    "           '18178-4', '8863-3', '8776-7', '20323-2',  '8864-1']\n",
    "df[df['label'].isin(similar)]"
   ]
  }
 ],
 "metadata": {
  "kernelspec": {
   "display_name": "Python 3",
   "language": "python",
   "name": "python3"
  },
  "language_info": {
   "codemirror_mode": {
    "name": "ipython",
    "version": 3
   },
   "file_extension": ".py",
   "mimetype": "text/x-python",
   "name": "python",
   "nbconvert_exporter": "python",
   "pygments_lexer": "ipython3",
   "version": "3.5.3"
  }
 },
 "nbformat": 4,
 "nbformat_minor": 2
}
