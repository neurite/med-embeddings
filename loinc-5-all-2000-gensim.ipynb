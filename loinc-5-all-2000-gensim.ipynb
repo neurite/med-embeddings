{
 "cells": [
  {
   "cell_type": "markdown",
   "metadata": {},
   "source": [
    "### Introduction\n",
    "\n",
    "LOINC all text columns but only 2000 random samples for parameter tuning"
   ]
  },
  {
   "cell_type": "code",
   "execution_count": 16,
   "metadata": {},
   "outputs": [],
   "source": [
    "from functools import reduce\n",
    "from collections import Counter\n",
    "import json\n",
    "import pandas as pd\n",
    "from pandas import DataFrame\n",
    "from gensim.models.doc2vec import Doc2Vec\n",
    "from gs import tokenize\n",
    "from gs import tagdocs\n",
    "from gs import listparams\n",
    "from gs import listparams_sampling\n",
    "from gs import train\n",
    "from gs import evaluate"
   ]
  },
  {
   "cell_type": "code",
   "execution_count": 2,
   "metadata": {},
   "outputs": [
    {
     "data": {
      "text/html": [
       "<div>\n",
       "<style>\n",
       "    .dataframe thead tr:only-child th {\n",
       "        text-align: right;\n",
       "    }\n",
       "\n",
       "    .dataframe thead th {\n",
       "        text-align: left;\n",
       "    }\n",
       "\n",
       "    .dataframe tbody tr th {\n",
       "        vertical-align: top;\n",
       "    }\n",
       "</style>\n",
       "<table border=\"1\" class=\"dataframe\">\n",
       "  <thead>\n",
       "    <tr style=\"text-align: right;\">\n",
       "      <th></th>\n",
       "      <th>text</th>\n",
       "      <th>label</th>\n",
       "    </tr>\n",
       "  </thead>\n",
       "  <tbody>\n",
       "    <tr>\n",
       "      <th>62136</th>\n",
       "      <td>clot strength heparinase bld teg clot strength...</td>\n",
       "      <td>66752-7</td>\n",
       "    </tr>\n",
       "    <tr>\n",
       "      <th>44670</th>\n",
       "      <td>cd15 cells act/nor bld cd15 cells actual/norma...</td>\n",
       "      <td>50783-0</td>\n",
       "    </tr>\n",
       "  </tbody>\n",
       "</table>\n",
       "</div>"
      ],
      "text/plain": [
       "                                                    text    label\n",
       "62136  clot strength heparinase bld teg clot strength...  66752-7\n",
       "44670  cd15 cells act/nor bld cd15 cells actual/norma...  50783-0"
      ]
     },
     "execution_count": 2,
     "metadata": {},
     "output_type": "execute_result"
    }
   ],
   "source": [
    "df = pd.read_csv('data/loinc-labeled-text-all-concatenated.csv')\n",
    "df = df.sample(2000)\n",
    "df.sample(2)"
   ]
  },
  {
   "cell_type": "markdown",
   "metadata": {},
   "source": [
    "### Tag the documents"
   ]
  },
  {
   "cell_type": "code",
   "execution_count": 3,
   "metadata": {},
   "outputs": [
    {
     "data": {
      "text/plain": [
       "[TaggedDocument(words=['polys', 'leuk', 'nfr', 'fld', 'cells', 'leukocytes', 'in', 'body', 'fluid', 'wbc', 'cellularity', 'pmn', 'random', 'body', 'fluid', 'unsp', 'white', 'blood', 'cell', 'quan', 'leukocyte', 'hematology', 'cell', 'counts', 'poly', 'flu', 'point', 'in', 'time', 'leuc', 'wbc', 'body', 'fluid', 'bf', 'fld', 'quant', 'polys', 'wbcs', 'fl', 'bod', 'bodies', 'cells', 'leukocytes', 'cell', 'white', 'blood', 'cells', 'qnt', 'fluid', 'number', 'fraction', 'quantitative', 'percent', 'lkcs', 'segmented', 'wbc', 'leuk', 'body', 'fld', 'hem', 'bc'], tags=['26518-1']),\n",
       " TaggedDocument(words=['ur', 'mcnc', 'mass', 'volume', 'in', 'urine', 'drugs', 'ur', 'qnt', 'quantitative', 'nbu', 'point', 'in', 'time', 'drug', 'tox', 'quan', 'random', 'quant', 'level', 'mass', 'concentration', 'ua', 'buprenorphine', 'metabolite', 'drug', 'toxicology', 'urine', 'urn', 'norbup'], tags=['49753-7'])]"
      ]
     },
     "execution_count": 3,
     "metadata": {},
     "output_type": "execute_result"
    }
   ],
   "source": [
    "docs = tagdocs(df)\n",
    "docs[:2]"
   ]
  },
  {
   "cell_type": "markdown",
   "metadata": {},
   "source": [
    "### Build the models"
   ]
  },
  {
   "cell_type": "code",
   "execution_count": 4,
   "metadata": {},
   "outputs": [],
   "source": [
    "# Add params of no negative sampling and no down sampling\n",
    "dms = [0, 1]\n",
    "sizes = [50, 100, 200, 300]\n",
    "windows = [3, 5, 7, 10]\n",
    "mincounts = [1, 2]\n",
    "params = listparams(dms=dms, sizes=sizes, windows=windows,\n",
    "                    mincounts=mincounts, workers=4, epochs=100)"
   ]
  },
  {
   "cell_type": "code",
   "execution_count": 5,
   "metadata": {
    "collapsed": true
   },
   "outputs": [],
   "source": [
    "# Add params with negative sampling and down sampling\n",
    "dms = [0, 1]\n",
    "sizes = [50, 100, 200, 300]\n",
    "windows = [3, 5, 7, 10]\n",
    "mincounts = [1, 2]\n",
    "samples = [1e-1, 1e-2, 1e-3, 1e-4, 1e-5, 1e-6]\n",
    "negatives = [1, 3, 5, 7]\n",
    "hses = [0, 1]\n",
    "params.extend(listparams_sampling(\n",
    "    dms=dms, sizes=sizes, windows=windows, mincounts=mincounts,\n",
    "    samples=samples, negatives=negatives, hses = hses,\n",
    "    workers=4, epochs=100))"
   ]
  },
  {
   "cell_type": "code",
   "execution_count": 6,
   "metadata": {},
   "outputs": [
    {
     "data": {
      "text/plain": [
       "3136"
      ]
     },
     "execution_count": 6,
     "metadata": {},
     "output_type": "execute_result"
    }
   ],
   "source": [
    "# Should be 3136\n",
    "len(params)"
   ]
  },
  {
   "cell_type": "code",
   "execution_count": 7,
   "metadata": {
    "collapsed": true
   },
   "outputs": [],
   "source": [
    "models = [Doc2Vec(**paramdict) for paramdict in params]"
   ]
  },
  {
   "cell_type": "code",
   "execution_count": 8,
   "metadata": {},
   "outputs": [
    {
     "name": "stdout",
     "output_type": "stream",
     "text": [
      "CPU times: user 18h 5min 59s, sys: 1h 42min 40s, total: 19h 48min 39s\n",
      "Wall time: 1d 30min 16s\n"
     ]
    }
   ],
   "source": [
    "%time train(docs, models)"
   ]
  },
  {
   "cell_type": "markdown",
   "metadata": {},
   "source": [
    "### Evaluate the models"
   ]
  },
  {
   "cell_type": "code",
   "execution_count": 9,
   "metadata": {
    "collapsed": true
   },
   "outputs": [],
   "source": [
    "results = {}\n",
    "for p, model in zip(params, models):\n",
    "    labels, hits = evaluate(df, model)\n",
    "    results[json.dumps(p)] = reduce(lambda x,y: x+y, hits)"
   ]
  },
  {
   "cell_type": "code",
   "execution_count": 10,
   "metadata": {},
   "outputs": [
    {
     "name": "stdout",
     "output_type": "stream",
     "text": [
      "('{\"negative\": 1, \"window\": 10, \"hs\": 1, \"min_count\": 1, \"iter\": 100, \"sample\": 0.01, \"size\": 100, \"workers\": 4, \"dm\": 1}', 2000)\n",
      "('{\"negative\": 7, \"window\": 10, \"hs\": 1, \"min_count\": 1, \"iter\": 100, \"sample\": 0.01, \"size\": 50, \"workers\": 4, \"dm\": 1}', 2000)\n",
      "('{\"negative\": 7, \"window\": 3, \"hs\": 1, \"min_count\": 1, \"iter\": 100, \"sample\": 0.001, \"size\": 200, \"workers\": 4, \"dm\": 1}', 2000)\n",
      "('{\"negative\": 5, \"window\": 10, \"hs\": 1, \"min_count\": 1, \"iter\": 100, \"sample\": 0.01, \"size\": 100, \"workers\": 4, \"dm\": 1}', 2000)\n",
      "('{\"negative\": 7, \"window\": 3, \"hs\": 1, \"min_count\": 1, \"iter\": 100, \"sample\": 0.1, \"size\": 300, \"workers\": 4, \"dm\": 1}', 2000)\n",
      "('{\"negative\": 1, \"window\": 5, \"hs\": 1, \"min_count\": 2, \"iter\": 100, \"sample\": 0.001, \"size\": 50, \"workers\": 4, \"dm\": 1}', 2000)\n",
      "('{\"negative\": 1, \"window\": 7, \"hs\": 1, \"min_count\": 2, \"iter\": 100, \"sample\": 0.001, \"size\": 300, \"workers\": 4, \"dm\": 1}', 2000)\n",
      "('{\"negative\": 5, \"window\": 7, \"hs\": 1, \"min_count\": 1, \"iter\": 100, \"sample\": 0.1, \"size\": 300, \"workers\": 4, \"dm\": 0}', 2000)\n",
      "('{\"negative\": 1, \"window\": 10, \"hs\": 1, \"min_count\": 2, \"iter\": 100, \"sample\": 0.001, \"size\": 200, \"workers\": 4, \"dm\": 1}', 2000)\n",
      "('{\"negative\": 1, \"window\": 3, \"hs\": 1, \"min_count\": 2, \"iter\": 100, \"sample\": 0.01, \"size\": 300, \"workers\": 4, \"dm\": 1}', 2000)\n"
     ]
    }
   ],
   "source": [
    "counter = Counter(results)\n",
    "for result in counter.most_common(10):\n",
    "    print(result)"
   ]
  },
  {
   "cell_type": "code",
   "execution_count": 11,
   "metadata": {},
   "outputs": [
    {
     "name": "stdout",
     "output_type": "stream",
     "text": [
      "('{\"negative\": 7, \"window\": 3, \"hs\": 0, \"min_count\": 1, \"iter\": 100, \"sample\": 0.1, \"size\": 100, \"workers\": 4, \"dm\": 0}', 1935)\n",
      "('{\"negative\": 7, \"window\": 5, \"hs\": 0, \"min_count\": 1, \"iter\": 100, \"sample\": 0.0001, \"size\": 200, \"workers\": 4, \"dm\": 0}', 1931)\n",
      "('{\"negative\": 7, \"window\": 5, \"hs\": 0, \"min_count\": 1, \"iter\": 100, \"sample\": 0.1, \"size\": 50, \"workers\": 4, \"dm\": 0}', 1930)\n",
      "('{\"negative\": 7, \"window\": 10, \"hs\": 0, \"min_count\": 1, \"iter\": 100, \"sample\": 0.0001, \"size\": 300, \"workers\": 4, \"dm\": 0}', 1929)\n",
      "('{\"negative\": 7, \"window\": 5, \"hs\": 0, \"min_count\": 1, \"iter\": 100, \"sample\": 0.001, \"size\": 50, \"workers\": 4, \"dm\": 0}', 1927)\n",
      "('{\"negative\": 7, \"window\": 5, \"hs\": 0, \"min_count\": 1, \"iter\": 100, \"sample\": 0.0001, \"size\": 100, \"workers\": 4, \"dm\": 0}', 1927)\n",
      "('{\"negative\": 7, \"window\": 7, \"hs\": 0, \"min_count\": 1, \"iter\": 100, \"sample\": 0.1, \"size\": 50, \"workers\": 4, \"dm\": 0}', 1926)\n",
      "('{\"negative\": 7, \"window\": 3, \"hs\": 0, \"min_count\": 1, \"iter\": 100, \"sample\": 0.1, \"size\": 50, \"workers\": 4, \"dm\": 0}', 1926)\n",
      "('{\"negative\": 7, \"window\": 7, \"hs\": 0, \"min_count\": 1, \"iter\": 100, \"sample\": 0.01, \"size\": 100, \"workers\": 4, \"dm\": 0}', 1925)\n",
      "('{\"negative\": 7, \"window\": 5, \"hs\": 0, \"min_count\": 1, \"iter\": 100, \"sample\": 0.01, \"size\": 100, \"workers\": 4, \"dm\": 0}', 1925)\n"
     ]
    }
   ],
   "source": [
    "# hs=0\n",
    "plist = [p for p in results if 'hs' in json.loads(p) and json.loads(p)['hs'] == 0]\n",
    "counter = Counter()\n",
    "for p in plist:\n",
    "    counter[p] = results[p]\n",
    "for result in counter.most_common(10):\n",
    "    print(result)"
   ]
  },
  {
   "cell_type": "code",
   "execution_count": 12,
   "metadata": {},
   "outputs": [
    {
     "name": "stdout",
     "output_type": "stream",
     "text": [
      "('{\"negative\": 7, \"window\": 5, \"hs\": 1, \"min_count\": 1, \"iter\": 100, \"sample\": 0.1, \"size\": 100, \"workers\": 4, \"dm\": 1}', 2000)\n",
      "('{\"negative\": 1, \"window\": 10, \"hs\": 1, \"min_count\": 1, \"iter\": 100, \"sample\": 0.01, \"size\": 100, \"workers\": 4, \"dm\": 1}', 2000)\n",
      "('{\"negative\": 5, \"window\": 3, \"hs\": 1, \"min_count\": 1, \"iter\": 100, \"sample\": 0.001, \"size\": 50, \"workers\": 4, \"dm\": 1}', 2000)\n",
      "('{\"negative\": 7, \"window\": 3, \"hs\": 1, \"min_count\": 2, \"iter\": 100, \"sample\": 0.001, \"size\": 100, \"workers\": 4, \"dm\": 1}', 2000)\n",
      "('{\"negative\": 3, \"window\": 7, \"hs\": 1, \"min_count\": 2, \"iter\": 100, \"sample\": 0.01, \"size\": 200, \"workers\": 4, \"dm\": 1}', 2000)\n",
      "('{\"negative\": 1, \"window\": 5, \"hs\": 1, \"min_count\": 2, \"iter\": 100, \"sample\": 0.1, \"size\": 300, \"workers\": 4, \"dm\": 1}', 2000)\n",
      "('{\"negative\": 7, \"window\": 10, \"hs\": 1, \"min_count\": 1, \"iter\": 100, \"sample\": 0.01, \"size\": 50, \"workers\": 4, \"dm\": 1}', 2000)\n",
      "('{\"negative\": 1, \"window\": 3, \"hs\": 1, \"min_count\": 2, \"iter\": 100, \"sample\": 0.1, \"size\": 100, \"workers\": 4, \"dm\": 1}', 2000)\n",
      "('{\"negative\": 5, \"window\": 7, \"hs\": 1, \"min_count\": 2, \"iter\": 100, \"sample\": 0.1, \"size\": 100, \"workers\": 4, \"dm\": 1}', 2000)\n",
      "('{\"negative\": 7, \"window\": 3, \"hs\": 1, \"min_count\": 1, \"iter\": 100, \"sample\": 0.001, \"size\": 200, \"workers\": 4, \"dm\": 1}', 2000)\n"
     ]
    }
   ],
   "source": [
    "# dm=1\n",
    "plist = [p for p in results if 'dm' in json.loads(p) and json.loads(p)['dm'] == 1]\n",
    "counter = Counter()\n",
    "for p in plist:\n",
    "    counter[p] = results[p]\n",
    "for result in counter.most_common(10):\n",
    "    print(result)"
   ]
  },
  {
   "cell_type": "code",
   "execution_count": 13,
   "metadata": {},
   "outputs": [
    {
     "name": "stdout",
     "output_type": "stream",
     "text": [
      "('{\"window\": 3, \"min_count\": 1, \"iter\": 100, \"size\": 300, \"workers\": 4, \"dm\": 0}', 1915)\n",
      "('{\"window\": 10, \"min_count\": 1, \"iter\": 100, \"size\": 100, \"workers\": 4, \"dm\": 0}', 1910)\n",
      "('{\"window\": 3, \"min_count\": 1, \"iter\": 100, \"size\": 50, \"workers\": 4, \"dm\": 0}', 1909)\n",
      "('{\"window\": 5, \"min_count\": 1, \"iter\": 100, \"size\": 200, \"workers\": 4, \"dm\": 0}', 1908)\n",
      "('{\"window\": 7, \"min_count\": 1, \"iter\": 100, \"size\": 50, \"workers\": 4, \"dm\": 0}', 1907)\n",
      "('{\"window\": 10, \"min_count\": 1, \"iter\": 100, \"size\": 300, \"workers\": 4, \"dm\": 0}', 1907)\n",
      "('{\"window\": 10, \"min_count\": 1, \"iter\": 100, \"size\": 200, \"workers\": 4, \"dm\": 0}', 1906)\n",
      "('{\"window\": 5, \"min_count\": 1, \"iter\": 100, \"size\": 100, \"workers\": 4, \"dm\": 0}', 1905)\n",
      "('{\"window\": 3, \"min_count\": 1, \"iter\": 100, \"size\": 100, \"workers\": 4, \"dm\": 0}', 1905)\n",
      "('{\"window\": 10, \"min_count\": 1, \"iter\": 100, \"size\": 50, \"workers\": 4, \"dm\": 0}', 1903)\n"
     ]
    }
   ],
   "source": [
    "# negative=0 and sample=0\n",
    "plist = [p for p in results if 'negative' not in json.loads(p)]\n",
    "counter = Counter()\n",
    "for p in plist:\n",
    "    counter[p] = results[p]\n",
    "for result in counter.most_common(10):\n",
    "    print(result)"
   ]
  },
  {
   "cell_type": "code",
   "execution_count": 17,
   "metadata": {},
   "outputs": [],
   "source": [
    "counter = Counter(results)\n",
    "df_models = DataFrame(counter.most_common())\n",
    "df_models.to_csv('data/loinc-all-2000-models.csv', index=False, header=False)"
   ]
  }
 ],
 "metadata": {
  "kernelspec": {
   "display_name": "Python 3",
   "language": "python",
   "name": "python3"
  },
  "language_info": {
   "codemirror_mode": {
    "name": "ipython",
    "version": 3
   },
   "file_extension": ".py",
   "mimetype": "text/x-python",
   "name": "python",
   "nbconvert_exporter": "python",
   "pygments_lexer": "ipython3",
   "version": "3.5.3"
  }
 },
 "nbformat": 4,
 "nbformat_minor": 2
}
