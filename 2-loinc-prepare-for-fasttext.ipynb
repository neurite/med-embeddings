{
 "cells": [
  {
   "cell_type": "code",
   "execution_count": 1,
   "metadata": {
    "collapsed": true
   },
   "outputs": [],
   "source": [
    "import pandas as pd\n",
    "from pandas import DataFrame"
   ]
  },
  {
   "cell_type": "code",
   "execution_count": 2,
   "metadata": {
    "collapsed": true
   },
   "outputs": [],
   "source": [
    "df = pd.read_csv('data/loinc-labeled-text-all.csv')"
   ]
  },
  {
   "cell_type": "code",
   "execution_count": 3,
   "metadata": {
    "collapsed": true
   },
   "outputs": [],
   "source": [
    "df_text_no_labels = df['TEXT_NORMED']"
   ]
  },
  {
   "cell_type": "code",
   "execution_count": 4,
   "metadata": {
    "collapsed": true
   },
   "outputs": [],
   "source": [
    "df_text_no_labels.to_csv('data/loinc-fasttext-no-label.txt', index=False, header=False)"
   ]
  },
  {
   "cell_type": "code",
   "execution_count": 5,
   "metadata": {},
   "outputs": [],
   "source": [
    "rows = []\n",
    "for idx, row in df.iterrows():\n",
    "    rows.append('__label__' + str(row['LABEL']) + ' ' + str(row['TEXT_NORMED']))\n",
    "df_text_with_labels = DataFrame(rows)"
   ]
  },
  {
   "cell_type": "code",
   "execution_count": 7,
   "metadata": {},
   "outputs": [
    {
     "data": {
      "text/html": [
       "<div>\n",
       "<style>\n",
       "    .dataframe thead tr:only-child th {\n",
       "        text-align: right;\n",
       "    }\n",
       "\n",
       "    .dataframe thead th {\n",
       "        text-align: left;\n",
       "    }\n",
       "\n",
       "    .dataframe tbody tr th {\n",
       "        vertical-align: top;\n",
       "    }\n",
       "</style>\n",
       "<table border=\"1\" class=\"dataframe\">\n",
       "  <thead>\n",
       "    <tr style=\"text-align: right;\">\n",
       "      <th></th>\n",
       "      <th>0</th>\n",
       "    </tr>\n",
       "  </thead>\n",
       "  <tbody>\n",
       "    <tr>\n",
       "      <th>1624077</th>\n",
       "      <td>__label__30187-9 qnt</td>\n",
       "    </tr>\n",
       "    <tr>\n",
       "      <th>914412</th>\n",
       "      <td>__label__29610-3 amp prb</td>\n",
       "    </tr>\n",
       "    <tr>\n",
       "      <th>570113</th>\n",
       "      <td>__label__67852-4 hosp admit eval note</td>\n",
       "    </tr>\n",
       "    <tr>\n",
       "      <th>1265431</th>\n",
       "      <td>__label__21191-2 3 self-sustaining sequence re...</td>\n",
       "    </tr>\n",
       "    <tr>\n",
       "      <th>1913465</th>\n",
       "      <td>__label__26398-8 rad</td>\n",
       "    </tr>\n",
       "  </tbody>\n",
       "</table>\n",
       "</div>"
      ],
      "text/plain": [
       "                                                         0\n",
       "1624077                               __label__30187-9 qnt\n",
       "914412                            __label__29610-3 amp prb\n",
       "570113               __label__67852-4 hosp admit eval note\n",
       "1265431  __label__21191-2 3 self-sustaining sequence re...\n",
       "1913465                               __label__26398-8 rad"
      ]
     },
     "execution_count": 7,
     "metadata": {},
     "output_type": "execute_result"
    }
   ],
   "source": [
    "df_text_with_labels.sample(5)"
   ]
  },
  {
   "cell_type": "code",
   "execution_count": 8,
   "metadata": {
    "collapsed": true
   },
   "outputs": [],
   "source": [
    "df_text_with_labels.to_csv('data/loinc-fasttext-with-label.txt', index=False, header=False)"
   ]
  }
 ],
 "metadata": {
  "kernelspec": {
   "display_name": "Python 3",
   "language": "python",
   "name": "python3"
  },
  "language_info": {
   "codemirror_mode": {
    "name": "ipython",
    "version": 3
   },
   "file_extension": ".py",
   "mimetype": "text/x-python",
   "name": "python",
   "nbconvert_exporter": "python",
   "pygments_lexer": "ipython3",
   "version": "3.5.3"
  }
 },
 "nbformat": 4,
 "nbformat_minor": 2
}
