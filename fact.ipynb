{
 "cells": [
  {
   "cell_type": "code",
   "execution_count": 1,
   "metadata": {
    "collapsed": true
   },
   "outputs": [],
   "source": [
    "import pandas as pd\n",
    "from pandas import DataFrame\n",
    "import numpy as np\n",
    "import scipy as sp\n",
    "from scipy.sparse.linalg import svds\n",
    "from sklearn.metrics.pairwise import pairwise_distances\n",
    "from sklearn.metrics import mean_squared_error\n",
    "from math import sqrt"
   ]
  },
  {
   "cell_type": "code",
   "execution_count": 2,
   "metadata": {
    "collapsed": true
   },
   "outputs": [],
   "source": [
    "df = pd.read_csv('data/ml-latest-small/ratings.csv')"
   ]
  },
  {
   "cell_type": "code",
   "execution_count": 3,
   "metadata": {},
   "outputs": [
    {
     "data": {
      "text/html": [
       "<div>\n",
       "<style>\n",
       "    .dataframe thead tr:only-child th {\n",
       "        text-align: right;\n",
       "    }\n",
       "\n",
       "    .dataframe thead th {\n",
       "        text-align: left;\n",
       "    }\n",
       "\n",
       "    .dataframe tbody tr th {\n",
       "        vertical-align: top;\n",
       "    }\n",
       "</style>\n",
       "<table border=\"1\" class=\"dataframe\">\n",
       "  <thead>\n",
       "    <tr style=\"text-align: right;\">\n",
       "      <th></th>\n",
       "      <th>userId</th>\n",
       "      <th>movieId</th>\n",
       "      <th>rating</th>\n",
       "      <th>timestamp</th>\n",
       "    </tr>\n",
       "  </thead>\n",
       "  <tbody>\n",
       "    <tr>\n",
       "      <th>11280</th>\n",
       "      <td>73</td>\n",
       "      <td>40629</td>\n",
       "      <td>1.5</td>\n",
       "      <td>1256029392</td>\n",
       "    </tr>\n",
       "    <tr>\n",
       "      <th>32199</th>\n",
       "      <td>232</td>\n",
       "      <td>2949</td>\n",
       "      <td>4.0</td>\n",
       "      <td>955086826</td>\n",
       "    </tr>\n",
       "    <tr>\n",
       "      <th>73968</th>\n",
       "      <td>516</td>\n",
       "      <td>508</td>\n",
       "      <td>5.0</td>\n",
       "      <td>844687287</td>\n",
       "    </tr>\n",
       "  </tbody>\n",
       "</table>\n",
       "</div>"
      ],
      "text/plain": [
       "       userId  movieId  rating   timestamp\n",
       "11280      73    40629     1.5  1256029392\n",
       "32199     232     2949     4.0   955086826\n",
       "73968     516      508     5.0   844687287"
      ]
     },
     "execution_count": 3,
     "metadata": {},
     "output_type": "execute_result"
    }
   ],
   "source": [
    "df.sample(3)"
   ]
  },
  {
   "cell_type": "markdown",
   "metadata": {},
   "source": [
    "### Create the user-item matrix"
   ]
  },
  {
   "cell_type": "code",
   "execution_count": 4,
   "metadata": {},
   "outputs": [],
   "source": [
    "def create_matrix(df, user_col, item_col, rating_col):\n",
    "    # Reverse index look up user --> user index in the matrix\n",
    "    user_list = df[user_col].unique()\n",
    "    users = {}\n",
    "    for i, user in enumerate(user_list):\n",
    "        users[user] = i\n",
    "    # Reverse index look up item --> item index in the matrix\n",
    "    item_list = df[item_col].unique()\n",
    "    items = {}\n",
    "    for i, item in enumerate(item_list):\n",
    "        items[item] = i\n",
    "    # Initialize a matrix of zeros\n",
    "    n_users = len(users)\n",
    "    n_items = len(items)\n",
    "    user_item_matrix = np.zeros((n_users, n_items))\n",
    "    # Populate the matrix\n",
    "    for _, row in df.iterrows():\n",
    "        # Must explicitly cast to int\n",
    "        user_id = int(row[user_col])\n",
    "        item_id = int(row[item_col])\n",
    "        user_item_matrix[users[user_id], items[item_id]] = row[rating_col]\n",
    "    # Create the data frame\n",
    "    return DataFrame(user_item_matrix, index=user_list, columns=item_list)"
   ]
  },
  {
   "cell_type": "code",
   "execution_count": 5,
   "metadata": {},
   "outputs": [],
   "source": [
    "df_matrix = create_matrix(df, 'userId', 'movieId', 'rating')"
   ]
  },
  {
   "cell_type": "code",
   "execution_count": 6,
   "metadata": {},
   "outputs": [
    {
     "name": "stdout",
     "output_type": "stream",
     "text": [
      "(671, 9066)\n",
      "True\n",
      "True\n",
      "True\n"
     ]
    }
   ],
   "source": [
    "# Verify\n",
    "print(df_matrix.shape)\n",
    "print(df_matrix.loc[73, 40629] == 1.5)\n",
    "print(df_matrix.loc[232, 2949] == 4.0)\n",
    "print(df_matrix.loc[516, 508] == 5.0)"
   ]
  },
  {
   "cell_type": "markdown",
   "metadata": {},
   "source": [
    "### Pairwise similarity"
   ]
  },
  {
   "cell_type": "code",
   "execution_count": 7,
   "metadata": {
    "collapsed": true
   },
   "outputs": [],
   "source": [
    "user_similarity = pairwise_distances(df_matrix.values, metric='cosine')"
   ]
  },
  {
   "cell_type": "code",
   "execution_count": 8,
   "metadata": {
    "collapsed": true
   },
   "outputs": [],
   "source": [
    "movie_similarity = pairwise_distances(df_matrix.values.T, metric='cosine')"
   ]
  },
  {
   "cell_type": "markdown",
   "metadata": {},
   "source": [
    "### User-based collaborative filtering"
   ]
  },
  {
   "cell_type": "code",
   "execution_count": 9,
   "metadata": {},
   "outputs": [
    {
     "data": {
      "text/plain": [
       "(671, 671)"
      ]
     },
     "execution_count": 9,
     "metadata": {},
     "output_type": "execute_result"
    }
   ],
   "source": [
    "user_similarity.shape"
   ]
  },
  {
   "cell_type": "markdown",
   "metadata": {},
   "source": [
    "See memory-based of https://en.wikipedia.org/wiki/Collaborative_filtering\n",
    "\n",
    "    for each item, the rating by user x is computed as:\n",
    "        avg_rating_user_x + sum(sim(x, i) * (rating_user_i - avg_rating_user_i)) / sum(sim(x, i))\n",
    "\n",
    "A simplified version without bias correction:\n",
    "\n",
    "    for each item, the rating is:\n",
    "        sum(sim(x, i) * rating_user_i) / sum(sim(x, i))"
   ]
  },
  {
   "cell_type": "code",
   "execution_count": 10,
   "metadata": {
    "collapsed": true
   },
   "outputs": [],
   "source": [
    "def user_based_cf(user_item_matrix, user_sim_matrix):\n",
    "    # TODO: For movie ratings, should exclude users, whose ratings are 0 (unknown)\n",
    "    #       from summing up the similarities; otherwise they will weigh down the ratings\n",
    "    # Note: Some other cases, 0s are true values and should not be excluded\n",
    "    new_ratings = np.array([np.dot(sims, ratings) / np.sum(sims)\n",
    "                   for sims in user_sim_matrix\n",
    "                   for ratings in user_item_matrix.T])\n",
    "    return new_ratings.reshape(user_item_matrix.shape)"
   ]
  },
  {
   "cell_type": "code",
   "execution_count": 11,
   "metadata": {
    "collapsed": true
   },
   "outputs": [],
   "source": [
    "user_cf_matrix = user_based_cf(df_matrix.values, user_similarity)"
   ]
  },
  {
   "cell_type": "code",
   "execution_count": 12,
   "metadata": {},
   "outputs": [],
   "source": [
    "df_user_cf = DataFrame(user_cf_matrix, index=df_matrix.index, columns=df_matrix.columns)"
   ]
  },
  {
   "cell_type": "code",
   "execution_count": 13,
   "metadata": {},
   "outputs": [
    {
     "name": "stdout",
     "output_type": "stream",
     "text": [
      "2.5 0.00975278411432\n",
      "3.5 0.0468919664056\n",
      "4.5 0.0355327096075\n"
     ]
    }
   ],
   "source": [
    "# The values are different because they are diluted by missing ratings. See TODO above.\n",
    "print(df_matrix.loc[213, 37380], df_user_cf.loc[213, 37380])\n",
    "print(df_matrix.loc[299, 2952], df_user_cf.loc[299, 2952])\n",
    "print(df_matrix.loc[299, 7371], df_user_cf.loc[299, 7371])"
   ]
  },
  {
   "cell_type": "code",
   "execution_count": 14,
   "metadata": {
    "collapsed": true
   },
   "outputs": [],
   "source": [
    "def rmse(prediction, ground_truth):\n",
    "    prediction = prediction[ground_truth.nonzero()].flatten()\n",
    "    ground_truth = ground_truth[ground_truth.nonzero()].flatten()\n",
    "    return sqrt(mean_squared_error(prediction, ground_truth))"
   ]
  },
  {
   "cell_type": "code",
   "execution_count": 15,
   "metadata": {},
   "outputs": [
    {
     "data": {
      "text/plain": [
       "3.387854860874772"
      ]
     },
     "execution_count": 15,
     "metadata": {},
     "output_type": "execute_result"
    }
   ],
   "source": [
    "rmse(user_cf_matrix, df_matrix.values)"
   ]
  },
  {
   "cell_type": "markdown",
   "metadata": {},
   "source": [
    "### SVD"
   ]
  },
  {
   "cell_type": "code",
   "execution_count": 16,
   "metadata": {
    "collapsed": true
   },
   "outputs": [],
   "source": [
    "# get SVD components from train matrix. Choose k.\n",
    "u, s, vt = svds(df_matrix.values, k = 20)\n",
    "s_diag_matrix = np.diag(s)\n",
    "X_pred = np.dot(np.dot(u, s_diag_matrix), vt)"
   ]
  },
  {
   "cell_type": "code",
   "execution_count": 17,
   "metadata": {},
   "outputs": [
    {
     "data": {
      "text/plain": [
       "(671, 9066)"
      ]
     },
     "execution_count": 17,
     "metadata": {},
     "output_type": "execute_result"
    }
   ],
   "source": [
    "X_pred.shape"
   ]
  },
  {
   "cell_type": "code",
   "execution_count": 18,
   "metadata": {},
   "outputs": [
    {
     "data": {
      "text/plain": [
       "2.431602197489613"
      ]
     },
     "execution_count": 18,
     "metadata": {},
     "output_type": "execute_result"
    }
   ],
   "source": [
    "rmse(X_pred, df_matrix.values)"
   ]
  }
 ],
 "metadata": {
  "kernelspec": {
   "display_name": "Python 3",
   "language": "python",
   "name": "python3"
  },
  "language_info": {
   "codemirror_mode": {
    "name": "ipython",
    "version": 3
   },
   "file_extension": ".py",
   "mimetype": "text/x-python",
   "name": "python",
   "nbconvert_exporter": "python",
   "pygments_lexer": "ipython3",
   "version": "3.5.3"
  }
 },
 "nbformat": 4,
 "nbformat_minor": 2
}
